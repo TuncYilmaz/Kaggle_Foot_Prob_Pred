{
 "cells": [
  {
   "cell_type": "code",
   "execution_count": 1,
   "id": "83c37547",
   "metadata": {
    "_cell_guid": "b1076dfc-b9ad-4769-8c92-a6c4dae69d19",
    "_uuid": "8f2839f25d086af736a60e9eeb907d3b93b6e0e5",
    "execution": {
     "iopub.execute_input": "2022-03-11T14:56:44.632683Z",
     "iopub.status.busy": "2022-03-11T14:56:44.631972Z",
     "iopub.status.idle": "2022-03-11T14:56:44.646898Z",
     "shell.execute_reply": "2022-03-11T14:56:44.647698Z",
     "shell.execute_reply.started": "2022-03-11T13:02:51.562918Z"
    },
    "papermill": {
     "duration": 0.045757,
     "end_time": "2022-03-11T14:56:44.648146",
     "exception": false,
     "start_time": "2022-03-11T14:56:44.602389",
     "status": "completed"
    },
    "tags": []
   },
   "outputs": [
    {
     "name": "stdout",
     "output_type": "stream",
     "text": [
      "/kaggle/input/football-match-probability-prediction/sample_submission.csv\n",
      "/kaggle/input/football-match-probability-prediction/train.csv\n",
      "/kaggle/input/football-match-probability-prediction/test.csv\n"
     ]
    }
   ],
   "source": [
    "# This Python 3 environment comes with many helpful analytics libraries installed\n",
    "# It is defined by the kaggle/python Docker image: https://github.com/kaggle/docker-python\n",
    "# For example, here's several helpful packages to load\n",
    "\n",
    "import numpy as np # linear algebra\n",
    "import pandas as pd # data processing, CSV file I/O (e.g. pd.read_csv)\n",
    "\n",
    "# Input data files are available in the read-only \"../input/\" directory\n",
    "# For example, running this (by clicking run or pressing Shift+Enter) will list all files under the input directory\n",
    "\n",
    "import os\n",
    "for dirname, _, filenames in os.walk('/kaggle/input'):\n",
    "    for filename in filenames:\n",
    "        print(os.path.join(dirname, filename))\n",
    "\n",
    "# You can write up to 20GB to the current directory (/kaggle/working/) that gets preserved as output when you create a version using \"Save & Run All\" \n",
    "# You can also write temporary files to /kaggle/temp/, but they won't be saved outside of the current session"
   ]
  },
  {
   "cell_type": "code",
   "execution_count": 2,
   "id": "b8e7b47f",
   "metadata": {
    "execution": {
     "iopub.execute_input": "2022-03-11T14:56:44.689959Z",
     "iopub.status.busy": "2022-03-11T14:56:44.689175Z",
     "iopub.status.idle": "2022-03-11T14:56:54.913283Z",
     "shell.execute_reply": "2022-03-11T14:56:54.912720Z",
     "shell.execute_reply.started": "2022-03-11T13:02:54.101376Z"
    },
    "papermill": {
     "duration": 10.24535,
     "end_time": "2022-03-11T14:56:54.913449",
     "exception": false,
     "start_time": "2022-03-11T14:56:44.668099",
     "status": "completed"
    },
    "tags": []
   },
   "outputs": [
    {
     "data": {
      "text/html": [
       "<div>\n",
       "<style scoped>\n",
       "    .dataframe tbody tr th:only-of-type {\n",
       "        vertical-align: middle;\n",
       "    }\n",
       "\n",
       "    .dataframe tbody tr th {\n",
       "        vertical-align: top;\n",
       "    }\n",
       "\n",
       "    .dataframe thead th {\n",
       "        text-align: right;\n",
       "    }\n",
       "</style>\n",
       "<table border=\"1\" class=\"dataframe\">\n",
       "  <thead>\n",
       "    <tr style=\"text-align: right;\">\n",
       "      <th></th>\n",
       "      <th>id</th>\n",
       "      <th>target</th>\n",
       "      <th>home_team_name</th>\n",
       "      <th>away_team_name</th>\n",
       "      <th>match_date</th>\n",
       "      <th>league_name</th>\n",
       "      <th>league_id</th>\n",
       "      <th>is_cup</th>\n",
       "      <th>home_team_coach_id</th>\n",
       "      <th>away_team_coach_id</th>\n",
       "      <th>...</th>\n",
       "      <th>away_team_history_league_id_1</th>\n",
       "      <th>away_team_history_league_id_2</th>\n",
       "      <th>away_team_history_league_id_3</th>\n",
       "      <th>away_team_history_league_id_4</th>\n",
       "      <th>away_team_history_league_id_5</th>\n",
       "      <th>away_team_history_league_id_6</th>\n",
       "      <th>away_team_history_league_id_7</th>\n",
       "      <th>away_team_history_league_id_8</th>\n",
       "      <th>away_team_history_league_id_9</th>\n",
       "      <th>away_team_history_league_id_10</th>\n",
       "    </tr>\n",
       "  </thead>\n",
       "  <tbody>\n",
       "    <tr>\n",
       "      <th>0</th>\n",
       "      <td>11906497</td>\n",
       "      <td>away</td>\n",
       "      <td>Newell's Old Boys</td>\n",
       "      <td>River Plate</td>\n",
       "      <td>2019-12-01 00:45:00</td>\n",
       "      <td>Superliga</td>\n",
       "      <td>636</td>\n",
       "      <td>False</td>\n",
       "      <td>468196.0</td>\n",
       "      <td>468200.0</td>\n",
       "      <td>...</td>\n",
       "      <td>1122.0</td>\n",
       "      <td>642.0</td>\n",
       "      <td>636.0</td>\n",
       "      <td>636.0</td>\n",
       "      <td>636.0</td>\n",
       "      <td>1122.0</td>\n",
       "      <td>636.0</td>\n",
       "      <td>642.0</td>\n",
       "      <td>636.0</td>\n",
       "      <td>1122.0</td>\n",
       "    </tr>\n",
       "    <tr>\n",
       "      <th>1</th>\n",
       "      <td>11984383</td>\n",
       "      <td>home</td>\n",
       "      <td>Real Estelí</td>\n",
       "      <td>Deportivo Las Sabanas</td>\n",
       "      <td>2019-12-01 01:00:00</td>\n",
       "      <td>Primera Division</td>\n",
       "      <td>752</td>\n",
       "      <td>False</td>\n",
       "      <td>516788.0</td>\n",
       "      <td>22169161.0</td>\n",
       "      <td>...</td>\n",
       "      <td>752.0</td>\n",
       "      <td>752.0</td>\n",
       "      <td>752.0</td>\n",
       "      <td>752.0</td>\n",
       "      <td>752.0</td>\n",
       "      <td>752.0</td>\n",
       "      <td>752.0</td>\n",
       "      <td>752.0</td>\n",
       "      <td>752.0</td>\n",
       "      <td>752.0</td>\n",
       "    </tr>\n",
       "    <tr>\n",
       "      <th>2</th>\n",
       "      <td>11983301</td>\n",
       "      <td>draw</td>\n",
       "      <td>UPNFM</td>\n",
       "      <td>Marathón</td>\n",
       "      <td>2019-12-01 01:00:00</td>\n",
       "      <td>Liga Nacional</td>\n",
       "      <td>734</td>\n",
       "      <td>False</td>\n",
       "      <td>2510608.0</td>\n",
       "      <td>456313.0</td>\n",
       "      <td>...</td>\n",
       "      <td>734.0</td>\n",
       "      <td>734.0</td>\n",
       "      <td>734.0</td>\n",
       "      <td>734.0</td>\n",
       "      <td>734.0</td>\n",
       "      <td>734.0</td>\n",
       "      <td>734.0</td>\n",
       "      <td>734.0</td>\n",
       "      <td>734.0</td>\n",
       "      <td>734.0</td>\n",
       "    </tr>\n",
       "    <tr>\n",
       "      <th>3</th>\n",
       "      <td>11983471</td>\n",
       "      <td>away</td>\n",
       "      <td>León</td>\n",
       "      <td>Morelia</td>\n",
       "      <td>2019-12-01 01:00:00</td>\n",
       "      <td>Liga MX</td>\n",
       "      <td>743</td>\n",
       "      <td>False</td>\n",
       "      <td>1552508.0</td>\n",
       "      <td>465797.0</td>\n",
       "      <td>...</td>\n",
       "      <td>743.0</td>\n",
       "      <td>743.0</td>\n",
       "      <td>743.0</td>\n",
       "      <td>743.0</td>\n",
       "      <td>743.0</td>\n",
       "      <td>743.0</td>\n",
       "      <td>743.0</td>\n",
       "      <td>743.0</td>\n",
       "      <td>746.0</td>\n",
       "      <td>743.0</td>\n",
       "    </tr>\n",
       "    <tr>\n",
       "      <th>4</th>\n",
       "      <td>11883005</td>\n",
       "      <td>home</td>\n",
       "      <td>Cobán Imperial</td>\n",
       "      <td>Iztapa</td>\n",
       "      <td>2019-12-01 01:00:00</td>\n",
       "      <td>Liga Nacional</td>\n",
       "      <td>705</td>\n",
       "      <td>False</td>\n",
       "      <td>429958.0</td>\n",
       "      <td>426870.0</td>\n",
       "      <td>...</td>\n",
       "      <td>705.0</td>\n",
       "      <td>705.0</td>\n",
       "      <td>705.0</td>\n",
       "      <td>705.0</td>\n",
       "      <td>705.0</td>\n",
       "      <td>705.0</td>\n",
       "      <td>705.0</td>\n",
       "      <td>705.0</td>\n",
       "      <td>705.0</td>\n",
       "      <td>705.0</td>\n",
       "    </tr>\n",
       "  </tbody>\n",
       "</table>\n",
       "<p>5 rows × 190 columns</p>\n",
       "</div>"
      ],
      "text/plain": [
       "         id target     home_team_name         away_team_name  \\\n",
       "0  11906497   away  Newell's Old Boys            River Plate   \n",
       "1  11984383   home        Real Estelí  Deportivo Las Sabanas   \n",
       "2  11983301   draw              UPNFM               Marathón   \n",
       "3  11983471   away               León                Morelia   \n",
       "4  11883005   home     Cobán Imperial                 Iztapa   \n",
       "\n",
       "            match_date       league_name league_id is_cup home_team_coach_id  \\\n",
       "0  2019-12-01 00:45:00         Superliga       636  False           468196.0   \n",
       "1  2019-12-01 01:00:00  Primera Division       752  False           516788.0   \n",
       "2  2019-12-01 01:00:00     Liga Nacional       734  False          2510608.0   \n",
       "3  2019-12-01 01:00:00           Liga MX       743  False          1552508.0   \n",
       "4  2019-12-01 01:00:00     Liga Nacional       705  False           429958.0   \n",
       "\n",
       "  away_team_coach_id  ... away_team_history_league_id_1  \\\n",
       "0           468200.0  ...                        1122.0   \n",
       "1         22169161.0  ...                         752.0   \n",
       "2           456313.0  ...                         734.0   \n",
       "3           465797.0  ...                         743.0   \n",
       "4           426870.0  ...                         705.0   \n",
       "\n",
       "  away_team_history_league_id_2 away_team_history_league_id_3  \\\n",
       "0                         642.0                         636.0   \n",
       "1                         752.0                         752.0   \n",
       "2                         734.0                         734.0   \n",
       "3                         743.0                         743.0   \n",
       "4                         705.0                         705.0   \n",
       "\n",
       "  away_team_history_league_id_4 away_team_history_league_id_5  \\\n",
       "0                         636.0                         636.0   \n",
       "1                         752.0                         752.0   \n",
       "2                         734.0                         734.0   \n",
       "3                         743.0                         743.0   \n",
       "4                         705.0                         705.0   \n",
       "\n",
       "  away_team_history_league_id_6 away_team_history_league_id_7  \\\n",
       "0                        1122.0                         636.0   \n",
       "1                         752.0                         752.0   \n",
       "2                         734.0                         734.0   \n",
       "3                         743.0                         743.0   \n",
       "4                         705.0                         705.0   \n",
       "\n",
       "  away_team_history_league_id_8 away_team_history_league_id_9  \\\n",
       "0                         642.0                         636.0   \n",
       "1                         752.0                         752.0   \n",
       "2                         734.0                         734.0   \n",
       "3                         743.0                         746.0   \n",
       "4                         705.0                         705.0   \n",
       "\n",
       "  away_team_history_league_id_10  \n",
       "0                         1122.0  \n",
       "1                          752.0  \n",
       "2                          734.0  \n",
       "3                          743.0  \n",
       "4                          705.0  \n",
       "\n",
       "[5 rows x 190 columns]"
      ]
     },
     "execution_count": 2,
     "metadata": {},
     "output_type": "execute_result"
    }
   ],
   "source": [
    "train = pd.read_csv(\"../input/football-match-probability-prediction/train.csv\", dtype=object)\n",
    "train.head()"
   ]
  },
  {
   "cell_type": "markdown",
   "id": "b1099ce5",
   "metadata": {
    "papermill": {
     "duration": 0.018551,
     "end_time": "2022-03-11T14:56:54.951192",
     "exception": false,
     "start_time": "2022-03-11T14:56:54.932641",
     "status": "completed"
    },
    "tags": []
   },
   "source": [
    "### Start by looking at what sort of features we do have in the provided training dataset:"
   ]
  },
  {
   "cell_type": "code",
   "execution_count": 3,
   "id": "a91e46af",
   "metadata": {
    "execution": {
     "iopub.execute_input": "2022-03-11T14:56:54.996152Z",
     "iopub.status.busy": "2022-03-11T14:56:54.995408Z",
     "iopub.status.idle": "2022-03-11T14:56:55.000117Z",
     "shell.execute_reply": "2022-03-11T14:56:55.000902Z",
     "shell.execute_reply.started": "2022-03-11T11:25:30.965920Z"
    },
    "papermill": {
     "duration": 0.030848,
     "end_time": "2022-03-11T14:56:55.001157",
     "exception": false,
     "start_time": "2022-03-11T14:56:54.970309",
     "status": "completed"
    },
    "tags": []
   },
   "outputs": [
    {
     "name": "stdout",
     "output_type": "stream",
     "text": [
      "190 ['id', 'target', 'home_team_name', 'away_team_name', 'match_date', 'league_name', 'league_id', 'is_cup', 'home_team_coach_id', 'away_team_coach_id', 'home_team_history_match_date_1', 'home_team_history_match_date_2', 'home_team_history_match_date_3', 'home_team_history_match_date_4', 'home_team_history_match_date_5', 'home_team_history_match_date_6', 'home_team_history_match_date_7', 'home_team_history_match_date_8', 'home_team_history_match_date_9', 'home_team_history_match_date_10', 'home_team_history_is_play_home_1', 'home_team_history_is_play_home_2', 'home_team_history_is_play_home_3', 'home_team_history_is_play_home_4', 'home_team_history_is_play_home_5', 'home_team_history_is_play_home_6', 'home_team_history_is_play_home_7', 'home_team_history_is_play_home_8', 'home_team_history_is_play_home_9', 'home_team_history_is_play_home_10', 'home_team_history_is_cup_1', 'home_team_history_is_cup_2', 'home_team_history_is_cup_3', 'home_team_history_is_cup_4', 'home_team_history_is_cup_5', 'home_team_history_is_cup_6', 'home_team_history_is_cup_7', 'home_team_history_is_cup_8', 'home_team_history_is_cup_9', 'home_team_history_is_cup_10', 'home_team_history_goal_1', 'home_team_history_goal_2', 'home_team_history_goal_3', 'home_team_history_goal_4', 'home_team_history_goal_5', 'home_team_history_goal_6', 'home_team_history_goal_7', 'home_team_history_goal_8', 'home_team_history_goal_9', 'home_team_history_goal_10', 'home_team_history_opponent_goal_1', 'home_team_history_opponent_goal_2', 'home_team_history_opponent_goal_3', 'home_team_history_opponent_goal_4', 'home_team_history_opponent_goal_5', 'home_team_history_opponent_goal_6', 'home_team_history_opponent_goal_7', 'home_team_history_opponent_goal_8', 'home_team_history_opponent_goal_9', 'home_team_history_opponent_goal_10', 'home_team_history_rating_1', 'home_team_history_rating_2', 'home_team_history_rating_3', 'home_team_history_rating_4', 'home_team_history_rating_5', 'home_team_history_rating_6', 'home_team_history_rating_7', 'home_team_history_rating_8', 'home_team_history_rating_9', 'home_team_history_rating_10', 'home_team_history_opponent_rating_1', 'home_team_history_opponent_rating_2', 'home_team_history_opponent_rating_3', 'home_team_history_opponent_rating_4', 'home_team_history_opponent_rating_5', 'home_team_history_opponent_rating_6', 'home_team_history_opponent_rating_7', 'home_team_history_opponent_rating_8', 'home_team_history_opponent_rating_9', 'home_team_history_opponent_rating_10', 'home_team_history_coach_1', 'home_team_history_coach_2', 'home_team_history_coach_3', 'home_team_history_coach_4', 'home_team_history_coach_5', 'home_team_history_coach_6', 'home_team_history_coach_7', 'home_team_history_coach_8', 'home_team_history_coach_9', 'home_team_history_coach_10', 'home_team_history_league_id_1', 'home_team_history_league_id_2', 'home_team_history_league_id_3', 'home_team_history_league_id_4', 'home_team_history_league_id_5', 'home_team_history_league_id_6', 'home_team_history_league_id_7', 'home_team_history_league_id_8', 'home_team_history_league_id_9', 'home_team_history_league_id_10', 'away_team_history_match_date_1', 'away_team_history_match_date_2', 'away_team_history_match_date_3', 'away_team_history_match_date_4', 'away_team_history_match_date_5', 'away_team_history_match_date_6', 'away_team_history_match_date_7', 'away_team_history_match_date_8', 'away_team_history_match_date_9', 'away_team_history_match_date_10', 'away_team_history_is_play_home_1', 'away_team_history_is_play_home_2', 'away_team_history_is_play_home_3', 'away_team_history_is_play_home_4', 'away_team_history_is_play_home_5', 'away_team_history_is_play_home_6', 'away_team_history_is_play_home_7', 'away_team_history_is_play_home_8', 'away_team_history_is_play_home_9', 'away_team_history_is_play_home_10', 'away_team_history_is_cup_1', 'away_team_history_is_cup_2', 'away_team_history_is_cup_3', 'away_team_history_is_cup_4', 'away_team_history_is_cup_5', 'away_team_history_is_cup_6', 'away_team_history_is_cup_7', 'away_team_history_is_cup_8', 'away_team_history_is_cup_9', 'away_team_history_is_cup_10', 'away_team_history_goal_1', 'away_team_history_goal_2', 'away_team_history_goal_3', 'away_team_history_goal_4', 'away_team_history_goal_5', 'away_team_history_goal_6', 'away_team_history_goal_7', 'away_team_history_goal_8', 'away_team_history_goal_9', 'away_team_history_goal_10', 'away_team_history_opponent_goal_1', 'away_team_history_opponent_goal_2', 'away_team_history_opponent_goal_3', 'away_team_history_opponent_goal_4', 'away_team_history_opponent_goal_5', 'away_team_history_opponent_goal_6', 'away_team_history_opponent_goal_7', 'away_team_history_opponent_goal_8', 'away_team_history_opponent_goal_9', 'away_team_history_opponent_goal_10', 'away_team_history_rating_1', 'away_team_history_rating_2', 'away_team_history_rating_3', 'away_team_history_rating_4', 'away_team_history_rating_5', 'away_team_history_rating_6', 'away_team_history_rating_7', 'away_team_history_rating_8', 'away_team_history_rating_9', 'away_team_history_rating_10', 'away_team_history_opponent_rating_1', 'away_team_history_opponent_rating_2', 'away_team_history_opponent_rating_3', 'away_team_history_opponent_rating_4', 'away_team_history_opponent_rating_5', 'away_team_history_opponent_rating_6', 'away_team_history_opponent_rating_7', 'away_team_history_opponent_rating_8', 'away_team_history_opponent_rating_9', 'away_team_history_opponent_rating_10', 'away_team_history_coach_1', 'away_team_history_coach_2', 'away_team_history_coach_3', 'away_team_history_coach_4', 'away_team_history_coach_5', 'away_team_history_coach_6', 'away_team_history_coach_7', 'away_team_history_coach_8', 'away_team_history_coach_9', 'away_team_history_coach_10', 'away_team_history_league_id_1', 'away_team_history_league_id_2', 'away_team_history_league_id_3', 'away_team_history_league_id_4', 'away_team_history_league_id_5', 'away_team_history_league_id_6', 'away_team_history_league_id_7', 'away_team_history_league_id_8', 'away_team_history_league_id_9', 'away_team_history_league_id_10']\n"
     ]
    }
   ],
   "source": [
    "print(len(list(train.columns)),list(train.columns))"
   ]
  },
  {
   "cell_type": "markdown",
   "id": "7b906d21",
   "metadata": {
    "papermill": {
     "duration": 0.018686,
     "end_time": "2022-03-11T14:56:55.040785",
     "exception": false,
     "start_time": "2022-03-11T14:56:55.022099",
     "status": "completed"
    },
    "tags": []
   },
   "source": [
    "### One by one, we'll look at features and try to understand what potential they have:\n",
    "\n",
    "**Match Dates**"
   ]
  },
  {
   "cell_type": "code",
   "execution_count": 4,
   "id": "622e9fdf",
   "metadata": {
    "execution": {
     "iopub.execute_input": "2022-03-11T14:56:55.083064Z",
     "iopub.status.busy": "2022-03-11T14:56:55.082079Z",
     "iopub.status.idle": "2022-03-11T14:56:55.139026Z",
     "shell.execute_reply": "2022-03-11T14:56:55.138348Z",
     "shell.execute_reply.started": "2022-03-11T11:46:43.696567Z"
    },
    "papermill": {
     "duration": 0.079392,
     "end_time": "2022-03-11T14:56:55.139179",
     "exception": false,
     "start_time": "2022-03-11T14:56:55.059787",
     "status": "completed"
    },
    "tags": []
   },
   "outputs": [
    {
     "data": {
      "text/html": [
       "<div>\n",
       "<style scoped>\n",
       "    .dataframe tbody tr th:only-of-type {\n",
       "        vertical-align: middle;\n",
       "    }\n",
       "\n",
       "    .dataframe tbody tr th {\n",
       "        vertical-align: top;\n",
       "    }\n",
       "\n",
       "    .dataframe thead th {\n",
       "        text-align: right;\n",
       "    }\n",
       "</style>\n",
       "<table border=\"1\" class=\"dataframe\">\n",
       "  <thead>\n",
       "    <tr style=\"text-align: right;\">\n",
       "      <th></th>\n",
       "      <th>match_date</th>\n",
       "      <th>home_team_history_match_date_1</th>\n",
       "      <th>home_team_history_match_date_2</th>\n",
       "      <th>home_team_history_match_date_3</th>\n",
       "      <th>home_team_history_match_date_4</th>\n",
       "      <th>home_team_history_match_date_5</th>\n",
       "      <th>home_team_history_match_date_6</th>\n",
       "      <th>home_team_history_match_date_7</th>\n",
       "      <th>home_team_history_match_date_8</th>\n",
       "      <th>home_team_history_match_date_9</th>\n",
       "      <th>home_team_history_match_date_10</th>\n",
       "    </tr>\n",
       "  </thead>\n",
       "  <tbody>\n",
       "    <tr>\n",
       "      <th>1182</th>\n",
       "      <td>2019-12-05 20:15:00</td>\n",
       "      <td>2019-12-01 14:00:00</td>\n",
       "      <td>2019-11-28 20:00:00</td>\n",
       "      <td>2019-11-23 15:00:00</td>\n",
       "      <td>2019-11-09 17:30:00</td>\n",
       "      <td>2019-11-06 15:50:00</td>\n",
       "      <td>2019-11-02 15:00:00</td>\n",
       "      <td>2019-10-30 19:30:00</td>\n",
       "      <td>2019-10-27 16:30:00</td>\n",
       "      <td>2019-10-24 19:00:00</td>\n",
       "      <td>2019-10-21 19:00:00</td>\n",
       "    </tr>\n",
       "  </tbody>\n",
       "</table>\n",
       "</div>"
      ],
      "text/plain": [
       "               match_date home_team_history_match_date_1  \\\n",
       "1182  2019-12-05 20:15:00            2019-12-01 14:00:00   \n",
       "\n",
       "     home_team_history_match_date_2 home_team_history_match_date_3  \\\n",
       "1182            2019-11-28 20:00:00            2019-11-23 15:00:00   \n",
       "\n",
       "     home_team_history_match_date_4 home_team_history_match_date_5  \\\n",
       "1182            2019-11-09 17:30:00            2019-11-06 15:50:00   \n",
       "\n",
       "     home_team_history_match_date_6 home_team_history_match_date_7  \\\n",
       "1182            2019-11-02 15:00:00            2019-10-30 19:30:00   \n",
       "\n",
       "     home_team_history_match_date_8 home_team_history_match_date_9  \\\n",
       "1182            2019-10-27 16:30:00            2019-10-24 19:00:00   \n",
       "\n",
       "     home_team_history_match_date_10  \n",
       "1182             2019-10-21 19:00:00  "
      ]
     },
     "execution_count": 4,
     "metadata": {},
     "output_type": "execute_result"
    }
   ],
   "source": [
    "column_name_list = [\"home_team_history_match_date_\" + str(i) for i in np.arange(1,11,1)]\n",
    "column_name_list.insert(0, \"match_date\")\n",
    "train[column_name_list][train.home_team_name ==\"Arsenal\"].head(1)"
   ]
  },
  {
   "cell_type": "markdown",
   "id": "8c152a50",
   "metadata": {
    "papermill": {
     "duration": 0.019061,
     "end_time": "2022-03-11T14:56:55.178594",
     "exception": false,
     "start_time": "2022-03-11T14:56:55.159533",
     "status": "completed"
    },
    "tags": []
   },
   "source": [
    "It seems like we can decide:\n",
    "- whether it is a night fixture or day fixture,\n",
    "- a winter or summer game,\n",
    "- fatigue, congestion and inherent injury information by looking at the tightness of the last 10 fixtures\n",
    "-----"
   ]
  },
  {
   "cell_type": "markdown",
   "id": "dd656321",
   "metadata": {
    "papermill": {
     "duration": 0.019363,
     "end_time": "2022-03-11T14:56:55.218153",
     "exception": false,
     "start_time": "2022-03-11T14:56:55.198790",
     "status": "completed"
    },
    "tags": []
   },
   "source": [
    "**Goals and Ratings**\n",
    "\n",
    "1- Can we infer opponents' names for each game, by looking at the other data instances?\n",
    "\n",
    "2- What is the relationship between goal difference and ratings for each game?"
   ]
  },
  {
   "cell_type": "code",
   "execution_count": 5,
   "id": "6835b9a4",
   "metadata": {
    "execution": {
     "iopub.execute_input": "2022-03-11T14:56:55.265475Z",
     "iopub.status.busy": "2022-03-11T14:56:55.264385Z",
     "iopub.status.idle": "2022-03-11T14:56:55.268188Z",
     "shell.execute_reply": "2022-03-11T14:56:55.268742Z",
     "shell.execute_reply.started": "2022-03-11T13:34:59.463044Z"
    },
    "papermill": {
     "duration": 0.031086,
     "end_time": "2022-03-11T14:56:55.268952",
     "exception": false,
     "start_time": "2022-03-11T14:56:55.237866",
     "status": "completed"
    },
    "tags": []
   },
   "outputs": [
    {
     "name": "stdout",
     "output_type": "stream",
     "text": [
      "Premier League 8\n"
     ]
    }
   ],
   "source": [
    "# find english premier league id in the dataset using the arsenal game discovered earlier on\n",
    "print(train.loc[1182].league_name, train.loc[1182].league_id)"
   ]
  },
  {
   "cell_type": "code",
   "execution_count": 6,
   "id": "aecdfd84",
   "metadata": {
    "execution": {
     "iopub.execute_input": "2022-03-11T14:56:55.332516Z",
     "iopub.status.busy": "2022-03-11T14:56:55.313590Z",
     "iopub.status.idle": "2022-03-11T14:56:55.393770Z",
     "shell.execute_reply": "2022-03-11T14:56:55.394314Z",
     "shell.execute_reply.started": "2022-03-11T14:15:48.905690Z"
    },
    "papermill": {
     "duration": 0.105231,
     "end_time": "2022-03-11T14:56:55.394515",
     "exception": false,
     "start_time": "2022-03-11T14:56:55.289284",
     "status": "completed"
    },
    "tags": []
   },
   "outputs": [
    {
     "data": {
      "text/html": [
       "<div>\n",
       "<style scoped>\n",
       "    .dataframe tbody tr th:only-of-type {\n",
       "        vertical-align: middle;\n",
       "    }\n",
       "\n",
       "    .dataframe tbody tr th {\n",
       "        vertical-align: top;\n",
       "    }\n",
       "\n",
       "    .dataframe thead th {\n",
       "        text-align: right;\n",
       "    }\n",
       "</style>\n",
       "<table border=\"1\" class=\"dataframe\">\n",
       "  <thead>\n",
       "    <tr style=\"text-align: right;\">\n",
       "      <th></th>\n",
       "      <th>id</th>\n",
       "      <th>target</th>\n",
       "      <th>home_team_name</th>\n",
       "      <th>away_team_name</th>\n",
       "      <th>match_date</th>\n",
       "      <th>league_name</th>\n",
       "      <th>league_id</th>\n",
       "      <th>is_cup</th>\n",
       "      <th>home_team_coach_id</th>\n",
       "      <th>away_team_coach_id</th>\n",
       "      <th>...</th>\n",
       "      <th>away_team_history_league_id_1</th>\n",
       "      <th>away_team_history_league_id_2</th>\n",
       "      <th>away_team_history_league_id_3</th>\n",
       "      <th>away_team_history_league_id_4</th>\n",
       "      <th>away_team_history_league_id_5</th>\n",
       "      <th>away_team_history_league_id_6</th>\n",
       "      <th>away_team_history_league_id_7</th>\n",
       "      <th>away_team_history_league_id_8</th>\n",
       "      <th>away_team_history_league_id_9</th>\n",
       "      <th>away_team_history_league_id_10</th>\n",
       "    </tr>\n",
       "  </thead>\n",
       "  <tbody>\n",
       "    <tr>\n",
       "      <th>1182</th>\n",
       "      <td>11867366</td>\n",
       "      <td>away</td>\n",
       "      <td>Arsenal</td>\n",
       "      <td>Brighton &amp; Hove Albion</td>\n",
       "      <td>2019-12-05 20:15:00</td>\n",
       "      <td>Premier League</td>\n",
       "      <td>8</td>\n",
       "      <td>False</td>\n",
       "      <td>148.0</td>\n",
       "      <td>452683.0</td>\n",
       "      <td>...</td>\n",
       "      <td>8.0</td>\n",
       "      <td>8.0</td>\n",
       "      <td>8.0</td>\n",
       "      <td>8.0</td>\n",
       "      <td>8.0</td>\n",
       "      <td>8.0</td>\n",
       "      <td>8.0</td>\n",
       "      <td>8.0</td>\n",
       "      <td>27.0</td>\n",
       "      <td>8.0</td>\n",
       "    </tr>\n",
       "    <tr>\n",
       "      <th>4005</th>\n",
       "      <td>11867386</td>\n",
       "      <td>away</td>\n",
       "      <td>Arsenal</td>\n",
       "      <td>Manchester City</td>\n",
       "      <td>2019-12-15 16:30:00</td>\n",
       "      <td>Premier League</td>\n",
       "      <td>8</td>\n",
       "      <td>False</td>\n",
       "      <td>148.0</td>\n",
       "      <td>455361.0</td>\n",
       "      <td>...</td>\n",
       "      <td>2.0</td>\n",
       "      <td>8.0</td>\n",
       "      <td>8.0</td>\n",
       "      <td>8.0</td>\n",
       "      <td>2.0</td>\n",
       "      <td>8.0</td>\n",
       "      <td>8.0</td>\n",
       "      <td>2.0</td>\n",
       "      <td>8.0</td>\n",
       "      <td>27.0</td>\n",
       "    </tr>\n",
       "  </tbody>\n",
       "</table>\n",
       "<p>2 rows × 190 columns</p>\n",
       "</div>"
      ],
      "text/plain": [
       "            id target home_team_name          away_team_name  \\\n",
       "1182  11867366   away        Arsenal  Brighton & Hove Albion   \n",
       "4005  11867386   away        Arsenal         Manchester City   \n",
       "\n",
       "               match_date     league_name league_id is_cup home_team_coach_id  \\\n",
       "1182  2019-12-05 20:15:00  Premier League         8  False              148.0   \n",
       "4005  2019-12-15 16:30:00  Premier League         8  False              148.0   \n",
       "\n",
       "     away_team_coach_id  ... away_team_history_league_id_1  \\\n",
       "1182           452683.0  ...                           8.0   \n",
       "4005           455361.0  ...                           2.0   \n",
       "\n",
       "     away_team_history_league_id_2 away_team_history_league_id_3  \\\n",
       "1182                           8.0                           8.0   \n",
       "4005                           8.0                           8.0   \n",
       "\n",
       "     away_team_history_league_id_4 away_team_history_league_id_5  \\\n",
       "1182                           8.0                           8.0   \n",
       "4005                           8.0                           2.0   \n",
       "\n",
       "     away_team_history_league_id_6 away_team_history_league_id_7  \\\n",
       "1182                           8.0                           8.0   \n",
       "4005                           8.0                           8.0   \n",
       "\n",
       "     away_team_history_league_id_8 away_team_history_league_id_9  \\\n",
       "1182                           8.0                          27.0   \n",
       "4005                           2.0                           8.0   \n",
       "\n",
       "     away_team_history_league_id_10  \n",
       "1182                            8.0  \n",
       "4005                           27.0  \n",
       "\n",
       "[2 rows x 190 columns]"
      ]
     },
     "execution_count": 6,
     "metadata": {},
     "output_type": "execute_result"
    }
   ],
   "source": [
    "# for each Arsenal game in the PL, create a dictionary to hold previous PL encounters where \n",
    "# keys are dates, and values are the results in the form (Is_Home, Result)\n",
    "\n",
    "arsenal_home_encounters = dict()\n",
    "\n",
    "cond1 = train.league_id == '8' # premier league\n",
    "cond2 = train.is_cup == \"False\" # not a cup game\n",
    "cond3 = train.home_team_name == 'Arsenal'# arsenal plays at home\n",
    "\n",
    "\n",
    "train_subset = train[cond3  &  cond1 & cond2]\n",
    "# record the match ids in a list to iterate later on\n",
    "train_subset_ids = list(train_subset[\"id\"])\n",
    "\n",
    "train_subset.head(2)\n"
   ]
  },
  {
   "cell_type": "code",
   "execution_count": 7,
   "id": "12735950",
   "metadata": {
    "execution": {
     "iopub.execute_input": "2022-03-11T14:56:55.446280Z",
     "iopub.status.busy": "2022-03-11T14:56:55.445534Z",
     "iopub.status.idle": "2022-03-11T14:56:56.228010Z",
     "shell.execute_reply": "2022-03-11T14:56:56.228508Z",
     "shell.execute_reply.started": "2022-03-11T14:37:37.771404Z"
    },
    "papermill": {
     "duration": 0.813373,
     "end_time": "2022-03-11T14:56:56.228739",
     "exception": false,
     "start_time": "2022-03-11T14:56:55.415366",
     "status": "completed"
    },
    "tags": []
   },
   "outputs": [
    {
     "name": "stderr",
     "output_type": "stream",
     "text": [
      "/opt/conda/lib/python3.7/site-packages/ipykernel_launcher.py:3: UserWarning: Boolean Series key will be reindexed to match DataFrame index.\n",
      "  This is separate from the ipykernel package so we can avoid doing imports until\n"
     ]
    }
   ],
   "source": [
    "for id_n in train_subset_ids:\n",
    "    for i in np.arange(1,11,1):\n",
    "        if list(train_subset[train_subset.id == id_n][train_subset['home_team_history_is_cup_'+str(i)] == \"0.0\"])[0]:\n",
    "            match_date = train_subset[train_subset.id == id_n]['home_team_history_match_date_' + str(i)].item()\n",
    "            is_home = train_subset[train_subset.id == id_n]['home_team_history_is_play_home_' + str(i)].item()\n",
    "            conceded = train_subset[train_subset.id == id_n]['home_team_history_goal_' + str(i)].item()\n",
    "            scored = train_subset[train_subset.id == id_n]['home_team_history_opponent_goal_' + str(i)].item()\n",
    "            result = \"home\" if scored > conceded else (\"away\" if scored < conceded else \"draw\")\n",
    "            arsenal_home_encounters[match_date] = (is_home, result)\n",
    "        else:\n",
    "            pass\n"
   ]
  },
  {
   "cell_type": "code",
   "execution_count": 8,
   "id": "f1b56bcf",
   "metadata": {
    "execution": {
     "iopub.execute_input": "2022-03-11T14:56:56.277024Z",
     "iopub.status.busy": "2022-03-11T14:56:56.276266Z",
     "iopub.status.idle": "2022-03-11T14:57:01.413488Z",
     "shell.execute_reply": "2022-03-11T14:57:01.412910Z",
     "shell.execute_reply.started": "2022-03-11T14:48:19.430187Z"
    },
    "papermill": {
     "duration": 5.163511,
     "end_time": "2022-03-11T14:57:01.413800",
     "exception": false,
     "start_time": "2022-03-11T14:56:56.250289",
     "status": "completed"
    },
    "tags": []
   },
   "outputs": [],
   "source": [
    "# check whether for each recorded arsenal game, whether there is an entry in the dataframe with the \n",
    "# exact date, result, and arsenal as away team or home team. if no opponent can be found, \n",
    "# simply record None\n",
    "opponents = []\n",
    "for date, result_tuple in arsenal_home_encounters.items():\n",
    "    cond1 = train.match_date == date\n",
    "    cond2 = train.target == result_tuple[1]\n",
    "    if result_tuple[0] == '1.0':\n",
    "        cond3 = train.home_team_name == 'Arsenal'\n",
    "        try:\n",
    "            opponents.append(train[cond1 & cond2 & cond3].away_team_name.item())\n",
    "        except:\n",
    "            opponents.append(None)\n",
    "    else:\n",
    "        cond3 = train.away_team_name == 'Arsenal'\n",
    "        try:\n",
    "            opponents.append(train[cond1 & cond2 & cond3].home_team_name.item())\n",
    "        except:\n",
    "            opponents.append(None)\n"
   ]
  },
  {
   "cell_type": "code",
   "execution_count": 9,
   "id": "5d0160ce",
   "metadata": {
    "execution": {
     "iopub.execute_input": "2022-03-11T14:57:01.462927Z",
     "iopub.status.busy": "2022-03-11T14:57:01.462229Z",
     "iopub.status.idle": "2022-03-11T14:57:01.468030Z",
     "shell.execute_reply": "2022-03-11T14:57:01.467241Z",
     "shell.execute_reply.started": "2022-03-11T14:51:20.385053Z"
    },
    "papermill": {
     "duration": 0.03109,
     "end_time": "2022-03-11T14:57:01.468223",
     "exception": false,
     "start_time": "2022-03-11T14:57:01.437133",
     "status": "completed"
    },
    "tags": []
   },
   "outputs": [
    {
     "name": "stdout",
     "output_type": "stream",
     "text": [
      "['Norwich City', None, None, None, None, None, None, None, None, None, 'Standard Liège', 'West Ham United', None, 'AFC Bournemouth', 'Everton', None, None, 'Crystal Palace', None, None]\n"
     ]
    }
   ],
   "source": [
    "print(opponents[0:20])"
   ]
  },
  {
   "cell_type": "markdown",
   "id": "a9f56e52",
   "metadata": {
    "papermill": {
     "duration": 0.021042,
     "end_time": "2022-03-11T14:57:01.511722",
     "exception": false,
     "start_time": "2022-03-11T14:57:01.490680",
     "status": "completed"
    },
    "tags": []
   },
   "source": [
    "So it seems the answer to the first question is NO. We can infer some of the opponents names, but more than half of the history matches do not reside in the dataset themselves."
   ]
  },
  {
   "cell_type": "markdown",
   "id": "bca47f6e",
   "metadata": {
    "papermill": {
     "duration": 0.021107,
     "end_time": "2022-03-11T14:57:01.554090",
     "exception": false,
     "start_time": "2022-03-11T14:57:01.532983",
     "status": "completed"
    },
    "tags": []
   },
   "source": [
    "Let's pick 6 PL teams randomly and try to figure out whether there is a correlation between the the goal differences and the ratings given:"
   ]
  },
  {
   "cell_type": "code",
   "execution_count": 10,
   "id": "9d09f3c1",
   "metadata": {
    "execution": {
     "iopub.execute_input": "2022-03-11T14:57:01.609678Z",
     "iopub.status.busy": "2022-03-11T14:57:01.608947Z",
     "iopub.status.idle": "2022-03-11T14:57:01.905525Z",
     "shell.execute_reply": "2022-03-11T14:57:01.904846Z",
     "shell.execute_reply.started": "2022-03-11T13:21:44.744602Z"
    },
    "papermill": {
     "duration": 0.330365,
     "end_time": "2022-03-11T14:57:01.905688",
     "exception": false,
     "start_time": "2022-03-11T14:57:01.575323",
     "status": "completed"
    },
    "tags": []
   },
   "outputs": [
    {
     "data": {
      "text/plain": [
       "[<matplotlib.lines.Line2D at 0x7fea66a30ed0>]"
      ]
     },
     "execution_count": 10,
     "metadata": {},
     "output_type": "execute_result"
    },
    {
     "data": {
      "image/png": "[encoded data removed]",
      "text/plain": [
       "<Figure size 576x432 with 1 Axes>"
      ]
     },
     "metadata": {
      "needs_background": "light"
     },
     "output_type": "display_data"
    }
   ],
   "source": [
    "# plot the recorded dates of each match in the premier league\n",
    "import matplotlib.pyplot as plt\n",
    "\n",
    "fig, axes = plt.subplots(ncols=1, nrows=1, figsize=(8,6), constrained_layout=True)\n",
    "\n",
    "# find the match dates\n",
    "dates = [d[0:10] for d in train[train.league_id == \"8\"].match_date]\n",
    "\n",
    "# plot a quadratic curve, with a minimum at y = 11\n",
    "x = np.arange(0,10,0.01)\n",
    "y = ((x-5)**2)/2 + 11\n",
    "axes.plot(x,y)\n"
   ]
  },
  {
   "cell_type": "code",
   "execution_count": 11,
   "id": "dca3e5cd",
   "metadata": {
    "execution": {
     "iopub.execute_input": "2022-03-11T14:57:01.966341Z",
     "iopub.status.busy": "2022-03-11T14:57:01.965354Z",
     "iopub.status.idle": "2022-03-11T14:57:01.970311Z",
     "shell.execute_reply": "2022-03-11T14:57:01.969677Z",
     "shell.execute_reply.started": "2022-03-11T13:16:54.617254Z"
    },
    "papermill": {
     "duration": 0.041629,
     "end_time": "2022-03-11T14:57:01.970483",
     "exception": false,
     "start_time": "2022-03-11T14:57:01.928854",
     "status": "completed"
    },
    "tags": []
   },
   "outputs": [
    {
     "data": {
      "text/plain": [
       "[('2.0', '2.0', '9.009262499999998'),\n",
       " ('1.0', '2.0', '8.16719117647059'),\n",
       " ('2.0', '2.0', '9.89391'),\n",
       " ('0.0', '2.0', '6.1982423076923086'),\n",
       " ('1.0', '1.0', '7.7749299999999995'),\n",
       " ('1.0', '1.0', '8.898857692307692'),\n",
       " ('5.0', '5.0', '4.9274249999999995'),\n",
       " ('2.0', '2.0', '10.462050000000001'),\n",
       " ('3.0', '2.0', '11.791743333333331'),\n",
       " ('0.0', '1.0', '7.72679705882353')]"
      ]
     },
     "execution_count": 11,
     "metadata": {},
     "output_type": "execute_result"
    }
   ],
   "source": [
    "goal_rating_corr = [(train.loc[1182][\"home_team_history_goal_\" + str(i)],\\\n",
    "                     train.loc[1182][\"home_team_history_opponent_goal_\" + str(i)],\\\n",
    "                     train.loc[1182][\"home_team_history_rating_\" + str(i)])\\\n",
    "                    for i in np.arange(1,11,1)]\n",
    "goal_rating_corr"
   ]
  },
  {
   "cell_type": "markdown",
   "id": "86609e41",
   "metadata": {
    "papermill": {
     "duration": 0.024401,
     "end_time": "2022-03-11T14:57:02.019123",
     "exception": false,
     "start_time": "2022-03-11T14:57:01.994722",
     "status": "completed"
    },
    "tags": []
   },
   "source": [
    "****"
   ]
  },
  {
   "cell_type": "code",
   "execution_count": null,
   "id": "854d4629",
   "metadata": {
    "papermill": {
     "duration": 0.024217,
     "end_time": "2022-03-11T14:57:02.067982",
     "exception": false,
     "start_time": "2022-03-11T14:57:02.043765",
     "status": "completed"
    },
    "tags": []
   },
   "outputs": [],
   "source": []
  }
 ],
 "metadata": {
  "kernelspec": {
   "display_name": "Python 3",
   "language": "python",
   "name": "python3"
  },
  "language_info": {
   "codemirror_mode": {
    "name": "ipython",
    "version": 3
   },
   "file_extension": ".py",
   "mimetype": "text/x-python",
   "name": "python",
   "nbconvert_exporter": "python",
   "pygments_lexer": "ipython3",
   "version": "3.7.12"
  },
  "papermill": {
   "default_parameters": {},
   "duration": 30.224179,
   "end_time": "2022-03-11T14:57:03.306793",
   "environment_variables": {},
   "exception": null,
   "input_path": "__notebook__.ipynb",
   "output_path": "__notebook__.ipynb",
   "parameters": {},
   "start_time": "2022-03-11T14:56:33.082614",
   "version": "2.3.3"
  }
 },
 "nbformat": 4,
 "nbformat_minor": 5
}
