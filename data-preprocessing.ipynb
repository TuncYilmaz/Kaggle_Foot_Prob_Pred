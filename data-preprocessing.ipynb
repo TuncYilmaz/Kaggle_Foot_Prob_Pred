{
 "cells": [
  {
   "cell_type": "code",
   "execution_count": 1,
   "id": "c87872d3",
   "metadata": {
    "_cell_guid": "b1076dfc-b9ad-4769-8c92-a6c4dae69d19",
    "_uuid": "8f2839f25d086af736a60e9eeb907d3b93b6e0e5",
    "execution": {
     "iopub.execute_input": "2022-03-14T16:02:02.175600Z",
     "iopub.status.busy": "2022-03-14T16:02:02.174691Z",
     "iopub.status.idle": "2022-03-14T16:02:02.184314Z",
     "shell.execute_reply": "2022-03-14T16:02:02.184989Z",
     "shell.execute_reply.started": "2022-03-14T14:46:07.340164Z"
    },
    "papermill": {
     "duration": 0.062261,
     "end_time": "2022-03-14T16:02:02.185305",
     "exception": false,
     "start_time": "2022-03-14T16:02:02.123044",
     "status": "completed"
    },
    "tags": []
   },
   "outputs": [
    {
     "name": "stdout",
     "output_type": "stream",
     "text": [
      "/kaggle/input/football-match-probability-prediction/sample_submission.csv\n",
      "/kaggle/input/football-match-probability-prediction/train.csv\n",
      "/kaggle/input/football-match-probability-prediction/test.csv\n"
     ]
    }
   ],
   "source": [
    "# This Python 3 environment comes with many helpful analytics libraries installed\n",
    "# It is defined by the kaggle/python Docker image: https://github.com/kaggle/docker-python\n",
    "# For example, here's several helpful packages to load\n",
    "\n",
    "import numpy as np # linear algebra\n",
    "import pandas as pd # data processing, CSV file I/O (e.g. pd.read_csv)\n",
    "\n",
    "# Input data files are available in the read-only \"../input/\" directory\n",
    "# For example, running this (by clicking run or pressing Shift+Enter) will list all files under the input directory\n",
    "\n",
    "import os\n",
    "for dirname, _, filenames in os.walk('/kaggle/input'):\n",
    "    for filename in filenames:\n",
    "        print(os.path.join(dirname, filename))\n",
    "\n",
    "# You can write up to 20GB to the current directory (/kaggle/working/) that gets preserved as output when you create a version using \"Save & Run All\" \n",
    "# You can also write temporary files to /kaggle/temp/, but they won't be saved outside of the current session"
   ]
  },
  {
   "cell_type": "code",
   "execution_count": 2,
   "id": "096c90e6",
   "metadata": {
    "execution": {
     "iopub.execute_input": "2022-03-14T16:02:02.270996Z",
     "iopub.status.busy": "2022-03-14T16:02:02.270113Z",
     "iopub.status.idle": "2022-03-14T16:02:11.682952Z",
     "shell.execute_reply": "2022-03-14T16:02:11.683426Z",
     "shell.execute_reply.started": "2022-03-14T14:46:07.899337Z"
    },
    "papermill": {
     "duration": 9.457076,
     "end_time": "2022-03-14T16:02:11.683600",
     "exception": false,
     "start_time": "2022-03-14T16:02:02.226524",
     "status": "completed"
    },
    "tags": []
   },
   "outputs": [
    {
     "data": {
      "text/html": [
       "<div>\n",
       "<style scoped>\n",
       "    .dataframe tbody tr th:only-of-type {\n",
       "        vertical-align: middle;\n",
       "    }\n",
       "\n",
       "    .dataframe tbody tr th {\n",
       "        vertical-align: top;\n",
       "    }\n",
       "\n",
       "    .dataframe thead th {\n",
       "        text-align: right;\n",
       "    }\n",
       "</style>\n",
       "<table border=\"1\" class=\"dataframe\">\n",
       "  <thead>\n",
       "    <tr style=\"text-align: right;\">\n",
       "      <th></th>\n",
       "      <th>id</th>\n",
       "      <th>target</th>\n",
       "      <th>home_team_name</th>\n",
       "      <th>away_team_name</th>\n",
       "      <th>match_date</th>\n",
       "      <th>league_name</th>\n",
       "      <th>league_id</th>\n",
       "      <th>is_cup</th>\n",
       "      <th>home_team_coach_id</th>\n",
       "      <th>away_team_coach_id</th>\n",
       "      <th>...</th>\n",
       "      <th>away_team_history_league_id_1</th>\n",
       "      <th>away_team_history_league_id_2</th>\n",
       "      <th>away_team_history_league_id_3</th>\n",
       "      <th>away_team_history_league_id_4</th>\n",
       "      <th>away_team_history_league_id_5</th>\n",
       "      <th>away_team_history_league_id_6</th>\n",
       "      <th>away_team_history_league_id_7</th>\n",
       "      <th>away_team_history_league_id_8</th>\n",
       "      <th>away_team_history_league_id_9</th>\n",
       "      <th>away_team_history_league_id_10</th>\n",
       "    </tr>\n",
       "  </thead>\n",
       "  <tbody>\n",
       "    <tr>\n",
       "      <th>0</th>\n",
       "      <td>11906497</td>\n",
       "      <td>away</td>\n",
       "      <td>Newell's Old Boys</td>\n",
       "      <td>River Plate</td>\n",
       "      <td>2019-12-01 00:45:00</td>\n",
       "      <td>Superliga</td>\n",
       "      <td>636</td>\n",
       "      <td>False</td>\n",
       "      <td>468196.0</td>\n",
       "      <td>468200.0</td>\n",
       "      <td>...</td>\n",
       "      <td>1122.0</td>\n",
       "      <td>642.0</td>\n",
       "      <td>636.0</td>\n",
       "      <td>636.0</td>\n",
       "      <td>636.0</td>\n",
       "      <td>1122.0</td>\n",
       "      <td>636.0</td>\n",
       "      <td>642.0</td>\n",
       "      <td>636.0</td>\n",
       "      <td>1122.0</td>\n",
       "    </tr>\n",
       "    <tr>\n",
       "      <th>1</th>\n",
       "      <td>11984383</td>\n",
       "      <td>home</td>\n",
       "      <td>Real Estelí</td>\n",
       "      <td>Deportivo Las Sabanas</td>\n",
       "      <td>2019-12-01 01:00:00</td>\n",
       "      <td>Primera Division</td>\n",
       "      <td>752</td>\n",
       "      <td>False</td>\n",
       "      <td>516788.0</td>\n",
       "      <td>22169161.0</td>\n",
       "      <td>...</td>\n",
       "      <td>752.0</td>\n",
       "      <td>752.0</td>\n",
       "      <td>752.0</td>\n",
       "      <td>752.0</td>\n",
       "      <td>752.0</td>\n",
       "      <td>752.0</td>\n",
       "      <td>752.0</td>\n",
       "      <td>752.0</td>\n",
       "      <td>752.0</td>\n",
       "      <td>752.0</td>\n",
       "    </tr>\n",
       "    <tr>\n",
       "      <th>2</th>\n",
       "      <td>11983301</td>\n",
       "      <td>draw</td>\n",
       "      <td>UPNFM</td>\n",
       "      <td>Marathón</td>\n",
       "      <td>2019-12-01 01:00:00</td>\n",
       "      <td>Liga Nacional</td>\n",
       "      <td>734</td>\n",
       "      <td>False</td>\n",
       "      <td>2510608.0</td>\n",
       "      <td>456313.0</td>\n",
       "      <td>...</td>\n",
       "      <td>734.0</td>\n",
       "      <td>734.0</td>\n",
       "      <td>734.0</td>\n",
       "      <td>734.0</td>\n",
       "      <td>734.0</td>\n",
       "      <td>734.0</td>\n",
       "      <td>734.0</td>\n",
       "      <td>734.0</td>\n",
       "      <td>734.0</td>\n",
       "      <td>734.0</td>\n",
       "    </tr>\n",
       "    <tr>\n",
       "      <th>3</th>\n",
       "      <td>11983471</td>\n",
       "      <td>away</td>\n",
       "      <td>León</td>\n",
       "      <td>Morelia</td>\n",
       "      <td>2019-12-01 01:00:00</td>\n",
       "      <td>Liga MX</td>\n",
       "      <td>743</td>\n",
       "      <td>False</td>\n",
       "      <td>1552508.0</td>\n",
       "      <td>465797.0</td>\n",
       "      <td>...</td>\n",
       "      <td>743.0</td>\n",
       "      <td>743.0</td>\n",
       "      <td>743.0</td>\n",
       "      <td>743.0</td>\n",
       "      <td>743.0</td>\n",
       "      <td>743.0</td>\n",
       "      <td>743.0</td>\n",
       "      <td>743.0</td>\n",
       "      <td>746.0</td>\n",
       "      <td>743.0</td>\n",
       "    </tr>\n",
       "    <tr>\n",
       "      <th>4</th>\n",
       "      <td>11883005</td>\n",
       "      <td>home</td>\n",
       "      <td>Cobán Imperial</td>\n",
       "      <td>Iztapa</td>\n",
       "      <td>2019-12-01 01:00:00</td>\n",
       "      <td>Liga Nacional</td>\n",
       "      <td>705</td>\n",
       "      <td>False</td>\n",
       "      <td>429958.0</td>\n",
       "      <td>426870.0</td>\n",
       "      <td>...</td>\n",
       "      <td>705.0</td>\n",
       "      <td>705.0</td>\n",
       "      <td>705.0</td>\n",
       "      <td>705.0</td>\n",
       "      <td>705.0</td>\n",
       "      <td>705.0</td>\n",
       "      <td>705.0</td>\n",
       "      <td>705.0</td>\n",
       "      <td>705.0</td>\n",
       "      <td>705.0</td>\n",
       "    </tr>\n",
       "  </tbody>\n",
       "</table>\n",
       "<p>5 rows × 190 columns</p>\n",
       "</div>"
      ],
      "text/plain": [
       "         id target     home_team_name         away_team_name  \\\n",
       "0  11906497   away  Newell's Old Boys            River Plate   \n",
       "1  11984383   home        Real Estelí  Deportivo Las Sabanas   \n",
       "2  11983301   draw              UPNFM               Marathón   \n",
       "3  11983471   away               León                Morelia   \n",
       "4  11883005   home     Cobán Imperial                 Iztapa   \n",
       "\n",
       "            match_date       league_name league_id is_cup home_team_coach_id  \\\n",
       "0  2019-12-01 00:45:00         Superliga       636  False           468196.0   \n",
       "1  2019-12-01 01:00:00  Primera Division       752  False           516788.0   \n",
       "2  2019-12-01 01:00:00     Liga Nacional       734  False          2510608.0   \n",
       "3  2019-12-01 01:00:00           Liga MX       743  False          1552508.0   \n",
       "4  2019-12-01 01:00:00     Liga Nacional       705  False           429958.0   \n",
       "\n",
       "  away_team_coach_id  ... away_team_history_league_id_1  \\\n",
       "0           468200.0  ...                        1122.0   \n",
       "1         22169161.0  ...                         752.0   \n",
       "2           456313.0  ...                         734.0   \n",
       "3           465797.0  ...                         743.0   \n",
       "4           426870.0  ...                         705.0   \n",
       "\n",
       "  away_team_history_league_id_2 away_team_history_league_id_3  \\\n",
       "0                         642.0                         636.0   \n",
       "1                         752.0                         752.0   \n",
       "2                         734.0                         734.0   \n",
       "3                         743.0                         743.0   \n",
       "4                         705.0                         705.0   \n",
       "\n",
       "  away_team_history_league_id_4 away_team_history_league_id_5  \\\n",
       "0                         636.0                         636.0   \n",
       "1                         752.0                         752.0   \n",
       "2                         734.0                         734.0   \n",
       "3                         743.0                         743.0   \n",
       "4                         705.0                         705.0   \n",
       "\n",
       "  away_team_history_league_id_6 away_team_history_league_id_7  \\\n",
       "0                        1122.0                         636.0   \n",
       "1                         752.0                         752.0   \n",
       "2                         734.0                         734.0   \n",
       "3                         743.0                         743.0   \n",
       "4                         705.0                         705.0   \n",
       "\n",
       "  away_team_history_league_id_8 away_team_history_league_id_9  \\\n",
       "0                         642.0                         636.0   \n",
       "1                         752.0                         752.0   \n",
       "2                         734.0                         734.0   \n",
       "3                         743.0                         746.0   \n",
       "4                         705.0                         705.0   \n",
       "\n",
       "  away_team_history_league_id_10  \n",
       "0                         1122.0  \n",
       "1                          752.0  \n",
       "2                          734.0  \n",
       "3                          743.0  \n",
       "4                          705.0  \n",
       "\n",
       "[5 rows x 190 columns]"
      ]
     },
     "execution_count": 2,
     "metadata": {},
     "output_type": "execute_result"
    }
   ],
   "source": [
    "train = pd.read_csv(\"../input/football-match-probability-prediction/train.csv\", dtype=object)\n",
    "train.head()"
   ]
  },
  {
   "cell_type": "code",
   "execution_count": 3,
   "id": "7ffb92ab",
   "metadata": {
    "execution": {
     "iopub.execute_input": "2022-03-14T16:02:11.770183Z",
     "iopub.status.busy": "2022-03-14T16:02:11.769161Z",
     "iopub.status.idle": "2022-03-14T16:02:11.774753Z",
     "shell.execute_reply": "2022-03-14T16:02:11.775216Z",
     "shell.execute_reply.started": "2022-03-14T14:46:16.835811Z"
    },
    "papermill": {
     "duration": 0.050875,
     "end_time": "2022-03-14T16:02:11.775402",
     "exception": false,
     "start_time": "2022-03-14T16:02:11.724527",
     "status": "completed"
    },
    "tags": []
   },
   "outputs": [
    {
     "name": "stdout",
     "output_type": "stream",
     "text": [
      "We have 110938 recorded games, and approximately 1109380 equivalent history games\n"
     ]
    }
   ],
   "source": [
    "print(\"We have {0} recorded games, and approximately {1} equivalent history games\".format(len(train), len(train)*10)) "
   ]
  },
  {
   "cell_type": "markdown",
   "id": "32016f9e",
   "metadata": {
    "papermill": {
     "duration": 0.040373,
     "end_time": "2022-03-14T16:02:11.856823",
     "exception": false,
     "start_time": "2022-03-14T16:02:11.816450",
     "status": "completed"
    },
    "tags": []
   },
   "source": [
    "### Start by looking at what sort of features we do have in the provided training dataset:"
   ]
  },
  {
   "cell_type": "code",
   "execution_count": 4,
   "id": "8e2e808d",
   "metadata": {
    "execution": {
     "iopub.execute_input": "2022-03-14T16:02:11.948300Z",
     "iopub.status.busy": "2022-03-14T16:02:11.947587Z",
     "iopub.status.idle": "2022-03-14T16:02:11.950454Z",
     "shell.execute_reply": "2022-03-14T16:02:11.950934Z",
     "shell.execute_reply.started": "2022-03-11T11:25:30.965920Z"
    },
    "papermill": {
     "duration": 0.051349,
     "end_time": "2022-03-14T16:02:11.951101",
     "exception": false,
     "start_time": "2022-03-14T16:02:11.899752",
     "status": "completed"
    },
    "tags": []
   },
   "outputs": [
    {
     "name": "stdout",
     "output_type": "stream",
     "text": [
      "190 ['id', 'target', 'home_team_name', 'away_team_name', 'match_date', 'league_name', 'league_id', 'is_cup', 'home_team_coach_id', 'away_team_coach_id', 'home_team_history_match_date_1', 'home_team_history_match_date_2', 'home_team_history_match_date_3', 'home_team_history_match_date_4', 'home_team_history_match_date_5', 'home_team_history_match_date_6', 'home_team_history_match_date_7', 'home_team_history_match_date_8', 'home_team_history_match_date_9', 'home_team_history_match_date_10', 'home_team_history_is_play_home_1', 'home_team_history_is_play_home_2', 'home_team_history_is_play_home_3', 'home_team_history_is_play_home_4', 'home_team_history_is_play_home_5', 'home_team_history_is_play_home_6', 'home_team_history_is_play_home_7', 'home_team_history_is_play_home_8', 'home_team_history_is_play_home_9', 'home_team_history_is_play_home_10', 'home_team_history_is_cup_1', 'home_team_history_is_cup_2', 'home_team_history_is_cup_3', 'home_team_history_is_cup_4', 'home_team_history_is_cup_5', 'home_team_history_is_cup_6', 'home_team_history_is_cup_7', 'home_team_history_is_cup_8', 'home_team_history_is_cup_9', 'home_team_history_is_cup_10', 'home_team_history_goal_1', 'home_team_history_goal_2', 'home_team_history_goal_3', 'home_team_history_goal_4', 'home_team_history_goal_5', 'home_team_history_goal_6', 'home_team_history_goal_7', 'home_team_history_goal_8', 'home_team_history_goal_9', 'home_team_history_goal_10', 'home_team_history_opponent_goal_1', 'home_team_history_opponent_goal_2', 'home_team_history_opponent_goal_3', 'home_team_history_opponent_goal_4', 'home_team_history_opponent_goal_5', 'home_team_history_opponent_goal_6', 'home_team_history_opponent_goal_7', 'home_team_history_opponent_goal_8', 'home_team_history_opponent_goal_9', 'home_team_history_opponent_goal_10', 'home_team_history_rating_1', 'home_team_history_rating_2', 'home_team_history_rating_3', 'home_team_history_rating_4', 'home_team_history_rating_5', 'home_team_history_rating_6', 'home_team_history_rating_7', 'home_team_history_rating_8', 'home_team_history_rating_9', 'home_team_history_rating_10', 'home_team_history_opponent_rating_1', 'home_team_history_opponent_rating_2', 'home_team_history_opponent_rating_3', 'home_team_history_opponent_rating_4', 'home_team_history_opponent_rating_5', 'home_team_history_opponent_rating_6', 'home_team_history_opponent_rating_7', 'home_team_history_opponent_rating_8', 'home_team_history_opponent_rating_9', 'home_team_history_opponent_rating_10', 'home_team_history_coach_1', 'home_team_history_coach_2', 'home_team_history_coach_3', 'home_team_history_coach_4', 'home_team_history_coach_5', 'home_team_history_coach_6', 'home_team_history_coach_7', 'home_team_history_coach_8', 'home_team_history_coach_9', 'home_team_history_coach_10', 'home_team_history_league_id_1', 'home_team_history_league_id_2', 'home_team_history_league_id_3', 'home_team_history_league_id_4', 'home_team_history_league_id_5', 'home_team_history_league_id_6', 'home_team_history_league_id_7', 'home_team_history_league_id_8', 'home_team_history_league_id_9', 'home_team_history_league_id_10', 'away_team_history_match_date_1', 'away_team_history_match_date_2', 'away_team_history_match_date_3', 'away_team_history_match_date_4', 'away_team_history_match_date_5', 'away_team_history_match_date_6', 'away_team_history_match_date_7', 'away_team_history_match_date_8', 'away_team_history_match_date_9', 'away_team_history_match_date_10', 'away_team_history_is_play_home_1', 'away_team_history_is_play_home_2', 'away_team_history_is_play_home_3', 'away_team_history_is_play_home_4', 'away_team_history_is_play_home_5', 'away_team_history_is_play_home_6', 'away_team_history_is_play_home_7', 'away_team_history_is_play_home_8', 'away_team_history_is_play_home_9', 'away_team_history_is_play_home_10', 'away_team_history_is_cup_1', 'away_team_history_is_cup_2', 'away_team_history_is_cup_3', 'away_team_history_is_cup_4', 'away_team_history_is_cup_5', 'away_team_history_is_cup_6', 'away_team_history_is_cup_7', 'away_team_history_is_cup_8', 'away_team_history_is_cup_9', 'away_team_history_is_cup_10', 'away_team_history_goal_1', 'away_team_history_goal_2', 'away_team_history_goal_3', 'away_team_history_goal_4', 'away_team_history_goal_5', 'away_team_history_goal_6', 'away_team_history_goal_7', 'away_team_history_goal_8', 'away_team_history_goal_9', 'away_team_history_goal_10', 'away_team_history_opponent_goal_1', 'away_team_history_opponent_goal_2', 'away_team_history_opponent_goal_3', 'away_team_history_opponent_goal_4', 'away_team_history_opponent_goal_5', 'away_team_history_opponent_goal_6', 'away_team_history_opponent_goal_7', 'away_team_history_opponent_goal_8', 'away_team_history_opponent_goal_9', 'away_team_history_opponent_goal_10', 'away_team_history_rating_1', 'away_team_history_rating_2', 'away_team_history_rating_3', 'away_team_history_rating_4', 'away_team_history_rating_5', 'away_team_history_rating_6', 'away_team_history_rating_7', 'away_team_history_rating_8', 'away_team_history_rating_9', 'away_team_history_rating_10', 'away_team_history_opponent_rating_1', 'away_team_history_opponent_rating_2', 'away_team_history_opponent_rating_3', 'away_team_history_opponent_rating_4', 'away_team_history_opponent_rating_5', 'away_team_history_opponent_rating_6', 'away_team_history_opponent_rating_7', 'away_team_history_opponent_rating_8', 'away_team_history_opponent_rating_9', 'away_team_history_opponent_rating_10', 'away_team_history_coach_1', 'away_team_history_coach_2', 'away_team_history_coach_3', 'away_team_history_coach_4', 'away_team_history_coach_5', 'away_team_history_coach_6', 'away_team_history_coach_7', 'away_team_history_coach_8', 'away_team_history_coach_9', 'away_team_history_coach_10', 'away_team_history_league_id_1', 'away_team_history_league_id_2', 'away_team_history_league_id_3', 'away_team_history_league_id_4', 'away_team_history_league_id_5', 'away_team_history_league_id_6', 'away_team_history_league_id_7', 'away_team_history_league_id_8', 'away_team_history_league_id_9', 'away_team_history_league_id_10']\n"
     ]
    }
   ],
   "source": [
    "print(len(list(train.columns)),list(train.columns))"
   ]
  },
  {
   "cell_type": "code",
   "execution_count": 5,
   "id": "5dfa39c3",
   "metadata": {
    "execution": {
     "iopub.execute_input": "2022-03-14T16:02:12.038891Z",
     "iopub.status.busy": "2022-03-14T16:02:12.037931Z",
     "iopub.status.idle": "2022-03-14T16:02:12.046399Z",
     "shell.execute_reply": "2022-03-14T16:02:12.046977Z",
     "shell.execute_reply.started": "2022-03-14T14:50:26.043426Z"
    },
    "papermill": {
     "duration": 0.054206,
     "end_time": "2022-03-14T16:02:12.047144",
     "exception": false,
     "start_time": "2022-03-14T16:02:11.992938",
     "status": "completed"
    },
    "tags": []
   },
   "outputs": [
    {
     "data": {
      "text/plain": [
       "['id',\n",
       " 'target',\n",
       " 'home_team_name',\n",
       " 'away_team_name',\n",
       " 'match_date',\n",
       " 'league_name',\n",
       " 'league_id',\n",
       " 'is_cup',\n",
       " 'home_team_coach_id',\n",
       " 'away_team_coach_id',\n",
       " 'home_team_history_match_date_1',\n",
       " 'home_team_history_is_play_home_1',\n",
       " 'home_team_history_is_cup_1',\n",
       " 'home_team_history_goal_1',\n",
       " 'home_team_history_opponent_goal_1',\n",
       " 'home_team_history_rating_1',\n",
       " 'home_team_history_opponent_rating_1',\n",
       " 'home_team_history_coach_1',\n",
       " 'home_team_history_league_id_1',\n",
       " 'away_team_history_match_date_1',\n",
       " 'away_team_history_is_play_home_1',\n",
       " 'away_team_history_is_cup_1',\n",
       " 'away_team_history_goal_1',\n",
       " 'away_team_history_opponent_goal_1',\n",
       " 'away_team_history_rating_1',\n",
       " 'away_team_history_opponent_rating_1',\n",
       " 'away_team_history_coach_1',\n",
       " 'away_team_history_league_id_1']"
      ]
     },
     "execution_count": 5,
     "metadata": {},
     "output_type": "execute_result"
    }
   ],
   "source": [
    "# a more refined version of the features\n",
    "refined_column_names = []\n",
    "for name in train.columns:\n",
    "    try:\n",
    "        int(name[-1])\n",
    "        if (name[-1] == \"1\"):\n",
    "            refined_column_names.append(name)\n",
    "    except:\n",
    "        refined_column_names.append(name)\n",
    "            \n",
    "        \n",
    "refined_column_names\n",
    "    "
   ]
  },
  {
   "cell_type": "markdown",
   "id": "76382e4e",
   "metadata": {
    "papermill": {
     "duration": 0.041604,
     "end_time": "2022-03-14T16:02:12.130634",
     "exception": false,
     "start_time": "2022-03-14T16:02:12.089030",
     "status": "completed"
    },
    "tags": []
   },
   "source": [
    "### One by one, we'll look at features and try to understand what potential they have:\n",
    "\n",
    "**Match Dates**"
   ]
  },
  {
   "cell_type": "code",
   "execution_count": 6,
   "id": "7fe68749",
   "metadata": {
    "execution": {
     "iopub.execute_input": "2022-03-14T16:02:12.226864Z",
     "iopub.status.busy": "2022-03-14T16:02:12.219509Z",
     "iopub.status.idle": "2022-03-14T16:02:12.288105Z",
     "shell.execute_reply": "2022-03-14T16:02:12.288625Z",
     "shell.execute_reply.started": "2022-03-11T11:46:43.696567Z"
    },
    "papermill": {
     "duration": 0.116152,
     "end_time": "2022-03-14T16:02:12.288819",
     "exception": false,
     "start_time": "2022-03-14T16:02:12.172667",
     "status": "completed"
    },
    "tags": []
   },
   "outputs": [
    {
     "data": {
      "text/html": [
       "<div>\n",
       "<style scoped>\n",
       "    .dataframe tbody tr th:only-of-type {\n",
       "        vertical-align: middle;\n",
       "    }\n",
       "\n",
       "    .dataframe tbody tr th {\n",
       "        vertical-align: top;\n",
       "    }\n",
       "\n",
       "    .dataframe thead th {\n",
       "        text-align: right;\n",
       "    }\n",
       "</style>\n",
       "<table border=\"1\" class=\"dataframe\">\n",
       "  <thead>\n",
       "    <tr style=\"text-align: right;\">\n",
       "      <th></th>\n",
       "      <th>match_date</th>\n",
       "      <th>home_team_history_match_date_1</th>\n",
       "      <th>home_team_history_match_date_2</th>\n",
       "      <th>home_team_history_match_date_3</th>\n",
       "      <th>home_team_history_match_date_4</th>\n",
       "      <th>home_team_history_match_date_5</th>\n",
       "      <th>home_team_history_match_date_6</th>\n",
       "      <th>home_team_history_match_date_7</th>\n",
       "      <th>home_team_history_match_date_8</th>\n",
       "      <th>home_team_history_match_date_9</th>\n",
       "      <th>home_team_history_match_date_10</th>\n",
       "    </tr>\n",
       "  </thead>\n",
       "  <tbody>\n",
       "    <tr>\n",
       "      <th>1182</th>\n",
       "      <td>2019-12-05 20:15:00</td>\n",
       "      <td>2019-12-01 14:00:00</td>\n",
       "      <td>2019-11-28 20:00:00</td>\n",
       "      <td>2019-11-23 15:00:00</td>\n",
       "      <td>2019-11-09 17:30:00</td>\n",
       "      <td>2019-11-06 15:50:00</td>\n",
       "      <td>2019-11-02 15:00:00</td>\n",
       "      <td>2019-10-30 19:30:00</td>\n",
       "      <td>2019-10-27 16:30:00</td>\n",
       "      <td>2019-10-24 19:00:00</td>\n",
       "      <td>2019-10-21 19:00:00</td>\n",
       "    </tr>\n",
       "  </tbody>\n",
       "</table>\n",
       "</div>"
      ],
      "text/plain": [
       "               match_date home_team_history_match_date_1  \\\n",
       "1182  2019-12-05 20:15:00            2019-12-01 14:00:00   \n",
       "\n",
       "     home_team_history_match_date_2 home_team_history_match_date_3  \\\n",
       "1182            2019-11-28 20:00:00            2019-11-23 15:00:00   \n",
       "\n",
       "     home_team_history_match_date_4 home_team_history_match_date_5  \\\n",
       "1182            2019-11-09 17:30:00            2019-11-06 15:50:00   \n",
       "\n",
       "     home_team_history_match_date_6 home_team_history_match_date_7  \\\n",
       "1182            2019-11-02 15:00:00            2019-10-30 19:30:00   \n",
       "\n",
       "     home_team_history_match_date_8 home_team_history_match_date_9  \\\n",
       "1182            2019-10-27 16:30:00            2019-10-24 19:00:00   \n",
       "\n",
       "     home_team_history_match_date_10  \n",
       "1182             2019-10-21 19:00:00  "
      ]
     },
     "execution_count": 6,
     "metadata": {},
     "output_type": "execute_result"
    }
   ],
   "source": [
    "column_name_list = [\"home_team_history_match_date_\" + str(i) for i in np.arange(1,11,1)]\n",
    "column_name_list.insert(0, \"match_date\")\n",
    "train[column_name_list][train.home_team_name ==\"Arsenal\"].head(1)"
   ]
  },
  {
   "cell_type": "markdown",
   "id": "2a16b92d",
   "metadata": {
    "papermill": {
     "duration": 0.04223,
     "end_time": "2022-03-14T16:02:12.380143",
     "exception": false,
     "start_time": "2022-03-14T16:02:12.337913",
     "status": "completed"
    },
    "tags": []
   },
   "source": [
    "It seems like we can decide:\n",
    "- whether it is a night fixture or day fixture,\n",
    "- a winter or summer game,\n",
    "- fatigue, congestion and inherent injury information by looking at the tightness of the last 10 fixtures\n",
    "-----"
   ]
  },
  {
   "cell_type": "markdown",
   "id": "31aba427",
   "metadata": {
    "papermill": {
     "duration": 0.042049,
     "end_time": "2022-03-14T16:02:12.464619",
     "exception": false,
     "start_time": "2022-03-14T16:02:12.422570",
     "status": "completed"
    },
    "tags": []
   },
   "source": [
    "**Goals and Ratings**\n",
    "\n",
    "1- Can we infer opponents' names for each game, by looking at the other data instances?\n",
    "\n",
    "2- What is the relationship between goal difference and ratings for each game?"
   ]
  },
  {
   "cell_type": "code",
   "execution_count": 7,
   "id": "c72929e0",
   "metadata": {
    "execution": {
     "iopub.execute_input": "2022-03-14T16:02:12.554712Z",
     "iopub.status.busy": "2022-03-14T16:02:12.554075Z",
     "iopub.status.idle": "2022-03-14T16:02:12.557963Z",
     "shell.execute_reply": "2022-03-14T16:02:12.558509Z",
     "shell.execute_reply.started": "2022-03-11T13:34:59.463044Z"
    },
    "papermill": {
     "duration": 0.051543,
     "end_time": "2022-03-14T16:02:12.558693",
     "exception": false,
     "start_time": "2022-03-14T16:02:12.507150",
     "status": "completed"
    },
    "tags": []
   },
   "outputs": [
    {
     "name": "stdout",
     "output_type": "stream",
     "text": [
      "Premier League 8\n"
     ]
    }
   ],
   "source": [
    "# find english premier league id in the dataset using the arsenal game discovered earlier on\n",
    "print(train.loc[1182].league_name, train.loc[1182].league_id)"
   ]
  },
  {
   "cell_type": "code",
   "execution_count": 8,
   "id": "569c2cd2",
   "metadata": {
    "execution": {
     "iopub.execute_input": "2022-03-14T16:02:12.704373Z",
     "iopub.status.busy": "2022-03-14T16:02:12.686167Z",
     "iopub.status.idle": "2022-03-14T16:02:12.727174Z",
     "shell.execute_reply": "2022-03-14T16:02:12.727692Z",
     "shell.execute_reply.started": "2022-03-11T14:15:48.905690Z"
    },
    "papermill": {
     "duration": 0.125642,
     "end_time": "2022-03-14T16:02:12.727878",
     "exception": false,
     "start_time": "2022-03-14T16:02:12.602236",
     "status": "completed"
    },
    "tags": []
   },
   "outputs": [
    {
     "data": {
      "text/html": [
       "<div>\n",
       "<style scoped>\n",
       "    .dataframe tbody tr th:only-of-type {\n",
       "        vertical-align: middle;\n",
       "    }\n",
       "\n",
       "    .dataframe tbody tr th {\n",
       "        vertical-align: top;\n",
       "    }\n",
       "\n",
       "    .dataframe thead th {\n",
       "        text-align: right;\n",
       "    }\n",
       "</style>\n",
       "<table border=\"1\" class=\"dataframe\">\n",
       "  <thead>\n",
       "    <tr style=\"text-align: right;\">\n",
       "      <th></th>\n",
       "      <th>id</th>\n",
       "      <th>target</th>\n",
       "      <th>home_team_name</th>\n",
       "      <th>away_team_name</th>\n",
       "      <th>match_date</th>\n",
       "      <th>league_name</th>\n",
       "      <th>league_id</th>\n",
       "      <th>is_cup</th>\n",
       "      <th>home_team_coach_id</th>\n",
       "      <th>away_team_coach_id</th>\n",
       "      <th>...</th>\n",
       "      <th>away_team_history_league_id_1</th>\n",
       "      <th>away_team_history_league_id_2</th>\n",
       "      <th>away_team_history_league_id_3</th>\n",
       "      <th>away_team_history_league_id_4</th>\n",
       "      <th>away_team_history_league_id_5</th>\n",
       "      <th>away_team_history_league_id_6</th>\n",
       "      <th>away_team_history_league_id_7</th>\n",
       "      <th>away_team_history_league_id_8</th>\n",
       "      <th>away_team_history_league_id_9</th>\n",
       "      <th>away_team_history_league_id_10</th>\n",
       "    </tr>\n",
       "  </thead>\n",
       "  <tbody>\n",
       "    <tr>\n",
       "      <th>1182</th>\n",
       "      <td>11867366</td>\n",
       "      <td>away</td>\n",
       "      <td>Arsenal</td>\n",
       "      <td>Brighton &amp; Hove Albion</td>\n",
       "      <td>2019-12-05 20:15:00</td>\n",
       "      <td>Premier League</td>\n",
       "      <td>8</td>\n",
       "      <td>False</td>\n",
       "      <td>148.0</td>\n",
       "      <td>452683.0</td>\n",
       "      <td>...</td>\n",
       "      <td>8.0</td>\n",
       "      <td>8.0</td>\n",
       "      <td>8.0</td>\n",
       "      <td>8.0</td>\n",
       "      <td>8.0</td>\n",
       "      <td>8.0</td>\n",
       "      <td>8.0</td>\n",
       "      <td>8.0</td>\n",
       "      <td>27.0</td>\n",
       "      <td>8.0</td>\n",
       "    </tr>\n",
       "    <tr>\n",
       "      <th>4005</th>\n",
       "      <td>11867386</td>\n",
       "      <td>away</td>\n",
       "      <td>Arsenal</td>\n",
       "      <td>Manchester City</td>\n",
       "      <td>2019-12-15 16:30:00</td>\n",
       "      <td>Premier League</td>\n",
       "      <td>8</td>\n",
       "      <td>False</td>\n",
       "      <td>148.0</td>\n",
       "      <td>455361.0</td>\n",
       "      <td>...</td>\n",
       "      <td>2.0</td>\n",
       "      <td>8.0</td>\n",
       "      <td>8.0</td>\n",
       "      <td>8.0</td>\n",
       "      <td>2.0</td>\n",
       "      <td>8.0</td>\n",
       "      <td>8.0</td>\n",
       "      <td>2.0</td>\n",
       "      <td>8.0</td>\n",
       "      <td>27.0</td>\n",
       "    </tr>\n",
       "  </tbody>\n",
       "</table>\n",
       "<p>2 rows × 190 columns</p>\n",
       "</div>"
      ],
      "text/plain": [
       "            id target home_team_name          away_team_name  \\\n",
       "1182  11867366   away        Arsenal  Brighton & Hove Albion   \n",
       "4005  11867386   away        Arsenal         Manchester City   \n",
       "\n",
       "               match_date     league_name league_id is_cup home_team_coach_id  \\\n",
       "1182  2019-12-05 20:15:00  Premier League         8  False              148.0   \n",
       "4005  2019-12-15 16:30:00  Premier League         8  False              148.0   \n",
       "\n",
       "     away_team_coach_id  ... away_team_history_league_id_1  \\\n",
       "1182           452683.0  ...                           8.0   \n",
       "4005           455361.0  ...                           2.0   \n",
       "\n",
       "     away_team_history_league_id_2 away_team_history_league_id_3  \\\n",
       "1182                           8.0                           8.0   \n",
       "4005                           8.0                           8.0   \n",
       "\n",
       "     away_team_history_league_id_4 away_team_history_league_id_5  \\\n",
       "1182                           8.0                           8.0   \n",
       "4005                           8.0                           2.0   \n",
       "\n",
       "     away_team_history_league_id_6 away_team_history_league_id_7  \\\n",
       "1182                           8.0                           8.0   \n",
       "4005                           8.0                           8.0   \n",
       "\n",
       "     away_team_history_league_id_8 away_team_history_league_id_9  \\\n",
       "1182                           8.0                          27.0   \n",
       "4005                           2.0                           8.0   \n",
       "\n",
       "     away_team_history_league_id_10  \n",
       "1182                            8.0  \n",
       "4005                           27.0  \n",
       "\n",
       "[2 rows x 190 columns]"
      ]
     },
     "execution_count": 8,
     "metadata": {},
     "output_type": "execute_result"
    }
   ],
   "source": [
    "# for each Arsenal game in the PL, create a dictionary to hold previous PL encounters where \n",
    "# keys are dates, and values are the results in the form (Is_Home, Result)\n",
    "\n",
    "arsenal_home_encounters = dict()\n",
    "\n",
    "cond1 = train.league_id == '8' # premier league\n",
    "cond2 = train.is_cup == \"False\" # not a cup game\n",
    "cond3 = train.home_team_name == 'Arsenal'# arsenal plays at home\n",
    "\n",
    "\n",
    "train_subset = train[cond3  &  cond1 & cond2]\n",
    "# record the match ids in a list to iterate later on\n",
    "train_subset_ids = list(train_subset[\"id\"])\n",
    "\n",
    "train_subset.head(2)\n"
   ]
  },
  {
   "cell_type": "code",
   "execution_count": 9,
   "id": "5fb50228",
   "metadata": {
    "execution": {
     "iopub.execute_input": "2022-03-14T16:02:12.819577Z",
     "iopub.status.busy": "2022-03-14T16:02:12.818874Z",
     "iopub.status.idle": "2022-03-14T16:02:13.575606Z",
     "shell.execute_reply": "2022-03-14T16:02:13.576142Z",
     "shell.execute_reply.started": "2022-03-11T14:37:37.771404Z"
    },
    "papermill": {
     "duration": 0.803787,
     "end_time": "2022-03-14T16:02:13.576330",
     "exception": false,
     "start_time": "2022-03-14T16:02:12.772543",
     "status": "completed"
    },
    "tags": []
   },
   "outputs": [
    {
     "name": "stderr",
     "output_type": "stream",
     "text": [
      "/opt/conda/lib/python3.7/site-packages/ipykernel_launcher.py:3: UserWarning: Boolean Series key will be reindexed to match DataFrame index.\n",
      "  This is separate from the ipykernel package so we can avoid doing imports until\n"
     ]
    }
   ],
   "source": [
    "for id_n in train_subset_ids:\n",
    "    for i in np.arange(1,11,1):\n",
    "        if list(train_subset[train_subset.id == id_n][train_subset['home_team_history_is_cup_'+str(i)] == \"0.0\"])[0]:\n",
    "            match_date = train_subset[train_subset.id == id_n]['home_team_history_match_date_' + str(i)].item()\n",
    "            is_home = train_subset[train_subset.id == id_n]['home_team_history_is_play_home_' + str(i)].item()\n",
    "            conceded = train_subset[train_subset.id == id_n]['home_team_history_goal_' + str(i)].item()\n",
    "            scored = train_subset[train_subset.id == id_n]['home_team_history_opponent_goal_' + str(i)].item()\n",
    "            result = \"home\" if scored > conceded else (\"away\" if scored < conceded else \"draw\")\n",
    "            arsenal_home_encounters[match_date] = (is_home, result)\n",
    "        else:\n",
    "            pass\n"
   ]
  },
  {
   "cell_type": "code",
   "execution_count": 10,
   "id": "b736a9ca",
   "metadata": {
    "execution": {
     "iopub.execute_input": "2022-03-14T16:02:13.668079Z",
     "iopub.status.busy": "2022-03-14T16:02:13.667087Z",
     "iopub.status.idle": "2022-03-14T16:02:18.654835Z",
     "shell.execute_reply": "2022-03-14T16:02:18.655385Z",
     "shell.execute_reply.started": "2022-03-11T14:48:19.430187Z"
    },
    "papermill": {
     "duration": 5.035007,
     "end_time": "2022-03-14T16:02:18.655561",
     "exception": false,
     "start_time": "2022-03-14T16:02:13.620554",
     "status": "completed"
    },
    "tags": []
   },
   "outputs": [],
   "source": [
    "# check whether for each recorded arsenal game, whether there is an entry in the dataframe with the \n",
    "# exact date, result, and arsenal as away team or home team. if no opponent can be found, \n",
    "# simply record None\n",
    "opponents = []\n",
    "for date, result_tuple in arsenal_home_encounters.items():\n",
    "    cond1 = train.match_date == date\n",
    "    cond2 = train.target == result_tuple[1]\n",
    "    if result_tuple[0] == '1.0':\n",
    "        cond3 = train.home_team_name == 'Arsenal'\n",
    "        try:\n",
    "            opponents.append(train[cond1 & cond2 & cond3].away_team_name.item())\n",
    "        except:\n",
    "            opponents.append(None)\n",
    "    else:\n",
    "        cond3 = train.away_team_name == 'Arsenal'\n",
    "        try:\n",
    "            opponents.append(train[cond1 & cond2 & cond3].home_team_name.item())\n",
    "        except:\n",
    "            opponents.append(None)\n"
   ]
  },
  {
   "cell_type": "code",
   "execution_count": 11,
   "id": "83c77176",
   "metadata": {
    "execution": {
     "iopub.execute_input": "2022-03-14T16:02:18.746812Z",
     "iopub.status.busy": "2022-03-14T16:02:18.745788Z",
     "iopub.status.idle": "2022-03-14T16:02:18.750622Z",
     "shell.execute_reply": "2022-03-14T16:02:18.751172Z",
     "shell.execute_reply.started": "2022-03-11T14:59:36.524225Z"
    },
    "papermill": {
     "duration": 0.051945,
     "end_time": "2022-03-14T16:02:18.751355",
     "exception": false,
     "start_time": "2022-03-14T16:02:18.699410",
     "status": "completed"
    },
    "tags": []
   },
   "outputs": [
    {
     "name": "stdout",
     "output_type": "stream",
     "text": [
      "['Norwich City', None, None, None, None, None, None, None, None, None, 'Standard Liège', 'West Ham United', None, 'AFC Bournemouth', 'Everton', None, None, 'Crystal Palace', None, None, 'Burnley', 'AFC Bournemouth', 'Chelsea', 'Sheffield United', 'Olympiakos Piraeus', None, 'Portsmouth', None, None, 'Sheffield United']\n"
     ]
    }
   ],
   "source": [
    "print(opponents[0:30])"
   ]
  },
  {
   "cell_type": "markdown",
   "id": "f0b7d4f2",
   "metadata": {
    "papermill": {
     "duration": 0.0443,
     "end_time": "2022-03-14T16:02:18.839978",
     "exception": false,
     "start_time": "2022-03-14T16:02:18.795678",
     "status": "completed"
    },
    "tags": []
   },
   "source": [
    "So it seems the answer to the first question is NO. We can infer some of the opponents names, but more than half of the history matches do not reside in the dataset themselves."
   ]
  },
  {
   "cell_type": "markdown",
   "id": "f8280b7a",
   "metadata": {
    "papermill": {
     "duration": 0.043921,
     "end_time": "2022-03-14T16:02:18.928175",
     "exception": false,
     "start_time": "2022-03-14T16:02:18.884254",
     "status": "completed"
    },
    "tags": []
   },
   "source": [
    "Let's pick 10 PL teams randomly and try to figure out whether there is a correlation between the the goal differences and the ratings given:"
   ]
  },
  {
   "cell_type": "code",
   "execution_count": 12,
   "id": "3882c0d3",
   "metadata": {
    "execution": {
     "iopub.execute_input": "2022-03-14T16:02:19.022626Z",
     "iopub.status.busy": "2022-03-14T16:02:19.021542Z",
     "iopub.status.idle": "2022-03-14T16:03:56.101519Z",
     "shell.execute_reply": "2022-03-14T16:03:56.102035Z",
     "shell.execute_reply.started": "2022-03-11T17:50:41.405824Z"
    },
    "papermill": {
     "duration": 97.128833,
     "end_time": "2022-03-14T16:03:56.102219",
     "exception": false,
     "start_time": "2022-03-14T16:02:18.973386",
     "status": "completed"
    },
    "tags": []
   },
   "outputs": [
    {
     "data": {
      "image/png": "[encoded data removed]",
      "text/plain": [
       "<Figure size 864x1440 with 10 Axes>"
      ]
     },
     "metadata": {
      "needs_background": "light"
     },
     "output_type": "display_data"
    }
   ],
   "source": [
    "# pick ten English teams\n",
    "teams = ['Liverpool', 'Norwich City', 'Arsenal', 'West Ham United', 'AFC Bournemouth', \\\n",
    "         'Everton', 'Crystal Palace', 'Burnley', 'Chelsea', 'Sheffield United']\n",
    "\n",
    "import matplotlib.pyplot as plt\n",
    "%matplotlib inline\n",
    "\n",
    "fig, axes = plt.subplots(ncols=2, nrows=5, figsize=(12,20), constrained_layout=True)\n",
    "\n",
    "for ax, team in zip(axes.flatten(), teams):\n",
    "    # we look at games where the selected team either plays at home or away\n",
    "    cond1 = train.home_team_name == team\n",
    "    cond2 = train.away_team_name == team\n",
    "    cond3 = train.league_id == \"8\" # for instance, in Argentina liga, there is another liverpool\n",
    "    home_game_ids = list(train[cond1 & cond3].id)\n",
    "    away_game_ids = list(train[cond2 & cond3].id)\n",
    "    # for each game of that team, look at the recorded history, \n",
    "    # and store {date : (goal_scored, goal_conceded, rating)}\n",
    "    home_stats, away_stats = {}, {}\n",
    "    match_dates_home = [\"home_team_history_match_date_\" + str(i) for i in np.arange(1,11,1)]\n",
    "    match_dates_away = [\"away_team_history_match_date_\" + str(i) for i in np.arange(1,11,1)]\n",
    "    goals_for_home = [\"home_team_history_goal_\" + str(i) for i in np.arange(1,11,1)]\n",
    "    goals_for_away = [\"away_team_history_goal_\" + str(i) for i in np.arange(1,11,1)]\n",
    "    goals_aga_home = [\"home_team_history_opponent_goal_\" + str(i) for i in np.arange(1,11,1)]\n",
    "    goals_aga_away = [\"away_team_history_opponent_goal_\" + str(i) for i in np.arange(1,11,1)]\n",
    "    rating_home = [\"home_team_history_rating_\" + str(i) for i in np.arange(1,11,1)]\n",
    "    rating_away = [\"away_team_history_rating_\" + str(i) for i in np.arange(1,11,1)]\n",
    "    \n",
    "    for id_n in home_game_ids:\n",
    "        for d, gf, ga, r in zip(match_dates_home, goals_for_home, goals_aga_home, rating_home):\n",
    "            entry = train[train.id == id_n]\n",
    "            home_stats[entry[d].item()] = (float(entry[gf].item()),float(entry[ga].item()),float(entry[r].item()))\n",
    "    d2r_home = {stat[0]-stat[1]:[0,0] for stat in home_stats.values()}\n",
    "\n",
    "    for stat in home_stats.values():\n",
    "        d2r_home[stat[0]-stat[1]][0] += stat[2] # add the rating\n",
    "        d2r_home[stat[0]-stat[1]][1] += 1 # add one to rating count\n",
    "        \n",
    "    # repeat the same for away games\n",
    "    for id_n in away_game_ids:\n",
    "        for d, gf, ga, r in zip(match_dates_away, goals_for_away, goals_aga_away, rating_away):\n",
    "            entry = train[train.id == id_n]\n",
    "            away_stats[entry[d].item()] = (float(entry[gf].item()),float(entry[ga].item()),float(entry[r].item()))\n",
    "    \n",
    "    d2r_away = {stat[0]-stat[1]:[0,0] for stat in away_stats.values()}\n",
    "\n",
    "    for stat in away_stats.values():\n",
    "        d2r_away[stat[0]-stat[1]][0] += stat[2] # add the rating\n",
    "        d2r_away[stat[0]-stat[1]][1] += 1 # add one to rating count\n",
    "    \n",
    "    # sort the dicts\n",
    "    d2r_home = dict(sorted(d2r_home.items()))\n",
    "    d2r_away = dict(sorted(d2r_away.items()))\n",
    "        \n",
    "    # prepare plot inputs\n",
    "    x_home, x_away = d2r_home.keys(), d2r_away.keys()\n",
    "    y_home = [stat[0]/stat[1] for stat in d2r_home.values()]\n",
    "    y_away= [stat[0]/stat[1] for stat in d2r_away.values()]\n",
    "    \n",
    "    # find the sample size for home and away\n",
    "    n_home = sum([i[1] for i in d2r_home.values()])\n",
    "    n_away = sum([i[1] for i in d2r_away.values()])\n",
    "        \n",
    "    ax.plot(x_home, y_home, color = \"green\", label = \"Home\")\n",
    "    ax.plot(x_away, y_away, color = \"orange\", label = \"Away\")\n",
    "    \n",
    "    # add axes labels\n",
    "    ax.set_xlabel('Goal Diff.')\n",
    "    ax.set_ylabel('Average Ratings')\n",
    "    \n",
    "    # add team name as the ax title\n",
    "    \n",
    "    ax.set_title(\"{0}: n_home: {1}; n_away: {2}\".format(team, n_home, n_away))\n",
    "    # turn on the legend\n",
    "    ax.legend()\n",
    "    \n",
    "plt.show()\n",
    "\n",
    "\n"
   ]
  },
  {
   "cell_type": "markdown",
   "id": "b9f2fda4",
   "metadata": {
    "papermill": {
     "duration": 0.049276,
     "end_time": "2022-03-14T16:03:56.201481",
     "exception": false,
     "start_time": "2022-03-14T16:03:56.152205",
     "status": "completed"
    },
    "tags": []
   },
   "source": [
    "Four major observations:\n",
    "- There is not much difference between away and home game ratings. I thought maybe a 1 goal diff win at home vs away should have different average ratings, since winning away is much harder. But doesn't seem so.\n",
    "- Bigger teams have better averages overall. For instance, a 1-goal win of Chelsea or Liverpool results in a rating of at least 8 on average. Same win by Bournemouth or Norwich, you get 5 or 6. <code style=\"background:yellow;color:black\">We need to give each team a rating relative to its overall rating performance for each match. It can be normalized between -1 and 1.</code>\n",
    "- If we disregard extreme results like $\\pm$ 3, usually we have a direct correlation between rating and goal diff, but not always. \n",
    "- There might be another issue: What happens when a team wins but gets disqualified due to aggregate? Not being able to deliver what matters might also be an indicator of the rating. Also a good team trashes a lower league team, thus should not receive that much credit for that. I would expect much more chaos. To understand it, i removed the cup games from home history matches in one of my runs, and noticed that the ratings go actually higher for moderate goal differences. But could be diffeent for different configutations.\n",
    "\n",
    "\n",
    "-----\n"
   ]
  },
  {
   "cell_type": "markdown",
   "id": "1dc1d168",
   "metadata": {
    "papermill": {
     "duration": 0.048503,
     "end_time": "2022-03-14T16:03:56.298958",
     "exception": false,
     "start_time": "2022-03-14T16:03:56.250455",
     "status": "completed"
    },
    "tags": []
   },
   "source": [
    "****"
   ]
  },
  {
   "cell_type": "markdown",
   "id": "014d0936",
   "metadata": {
    "papermill": {
     "duration": 0.049258,
     "end_time": "2022-03-14T16:03:56.397169",
     "exception": false,
     "start_time": "2022-03-14T16:03:56.347911",
     "status": "completed"
    },
    "tags": []
   },
   "source": [
    "**Match History Dates**\n",
    "\n",
    "We know that for each game, the teams in the competition will come with 10 previous match stats. But how close these matches actually? For instance, there might be games from the previous season, which is a bummer because everything changes when the season restarts."
   ]
  },
  {
   "cell_type": "code",
   "execution_count": 13,
   "id": "a38e5a3d",
   "metadata": {
    "execution": {
     "iopub.execute_input": "2022-03-14T16:03:56.506738Z",
     "iopub.status.busy": "2022-03-14T16:03:56.505481Z",
     "iopub.status.idle": "2022-03-14T16:04:01.468586Z",
     "shell.execute_reply": "2022-03-14T16:04:01.467969Z",
     "shell.execute_reply.started": "2022-03-14T15:11:41.986214Z"
    },
    "papermill": {
     "duration": 5.021758,
     "end_time": "2022-03-14T16:04:01.468799",
     "exception": false,
     "start_time": "2022-03-14T16:03:56.447041",
     "status": "completed"
    },
    "tags": []
   },
   "outputs": [],
   "source": [
    "import datetime\n",
    "\n",
    "# copy main dataframe into a subset in which we only have dates\n",
    "column_name_list = [\"home_team_history_match_date_\" + str(i) for i in np.arange(1,11,1)]\n",
    "column_name_list.insert(0, \"match_date\")\n",
    "date_train = train[column_name_list].copy()\n",
    "\n",
    "# convert all datetimes to dates\n",
    "for i, name in enumerate(column_name_list):\n",
    "    date_train['match_'+ str(i)] = pd.to_datetime(date_train[name]).dt.date\n",
    "\n",
    "# create 10 new columns, where each column will represent the days between history game i, and that days game\n",
    "for i in np.arange(1,11,1):\n",
    "    date_train[\"diff_\" + str(i)] = date_train[\"match_0\"] - date_train[\"match_\"+str(i)]"
   ]
  },
  {
   "cell_type": "code",
   "execution_count": 14,
   "id": "51ee89e2",
   "metadata": {
    "execution": {
     "iopub.execute_input": "2022-03-14T16:04:01.572995Z",
     "iopub.status.busy": "2022-03-14T16:04:01.572262Z",
     "iopub.status.idle": "2022-03-14T16:04:01.593549Z",
     "shell.execute_reply": "2022-03-14T16:04:01.594038Z",
     "shell.execute_reply.started": "2022-03-11T18:30:19.803936Z"
    },
    "papermill": {
     "duration": 0.074181,
     "end_time": "2022-03-14T16:04:01.594226",
     "exception": false,
     "start_time": "2022-03-14T16:04:01.520045",
     "status": "completed"
    },
    "tags": []
   },
   "outputs": [
    {
     "data": {
      "text/html": [
       "<div>\n",
       "<style scoped>\n",
       "    .dataframe tbody tr th:only-of-type {\n",
       "        vertical-align: middle;\n",
       "    }\n",
       "\n",
       "    .dataframe tbody tr th {\n",
       "        vertical-align: top;\n",
       "    }\n",
       "\n",
       "    .dataframe thead th {\n",
       "        text-align: right;\n",
       "    }\n",
       "</style>\n",
       "<table border=\"1\" class=\"dataframe\">\n",
       "  <thead>\n",
       "    <tr style=\"text-align: right;\">\n",
       "      <th></th>\n",
       "      <th>match_date</th>\n",
       "      <th>home_team_history_match_date_1</th>\n",
       "      <th>home_team_history_match_date_2</th>\n",
       "      <th>home_team_history_match_date_3</th>\n",
       "      <th>home_team_history_match_date_4</th>\n",
       "      <th>home_team_history_match_date_5</th>\n",
       "      <th>home_team_history_match_date_6</th>\n",
       "      <th>home_team_history_match_date_7</th>\n",
       "      <th>home_team_history_match_date_8</th>\n",
       "      <th>home_team_history_match_date_9</th>\n",
       "      <th>...</th>\n",
       "      <th>diff_1</th>\n",
       "      <th>diff_2</th>\n",
       "      <th>diff_3</th>\n",
       "      <th>diff_4</th>\n",
       "      <th>diff_5</th>\n",
       "      <th>diff_6</th>\n",
       "      <th>diff_7</th>\n",
       "      <th>diff_8</th>\n",
       "      <th>diff_9</th>\n",
       "      <th>diff_10</th>\n",
       "    </tr>\n",
       "  </thead>\n",
       "  <tbody>\n",
       "    <tr>\n",
       "      <th>0</th>\n",
       "      <td>2019-12-01 00:45:00</td>\n",
       "      <td>2019-11-26 00:10:00</td>\n",
       "      <td>2019-11-10 18:30:00</td>\n",
       "      <td>2019-11-03 18:30:00</td>\n",
       "      <td>2019-10-29 22:10:00</td>\n",
       "      <td>2019-10-19 20:45:00</td>\n",
       "      <td>2019-10-04 22:00:00</td>\n",
       "      <td>2019-09-28 23:00:00</td>\n",
       "      <td>2019-09-22 14:00:00</td>\n",
       "      <td>2019-09-15 18:30:00</td>\n",
       "      <td>...</td>\n",
       "      <td>5 days</td>\n",
       "      <td>21 days</td>\n",
       "      <td>28 days</td>\n",
       "      <td>33 days</td>\n",
       "      <td>43 days</td>\n",
       "      <td>58 days</td>\n",
       "      <td>64 days</td>\n",
       "      <td>70 days</td>\n",
       "      <td>77 days</td>\n",
       "      <td>91 days</td>\n",
       "    </tr>\n",
       "    <tr>\n",
       "      <th>1</th>\n",
       "      <td>2019-12-01 01:00:00</td>\n",
       "      <td>2019-11-27 21:00:00</td>\n",
       "      <td>2019-11-24 01:00:00</td>\n",
       "      <td>2019-11-10 01:00:00</td>\n",
       "      <td>2019-11-02 21:30:00</td>\n",
       "      <td>2019-10-27 01:00:00</td>\n",
       "      <td>2019-10-24 01:00:00</td>\n",
       "      <td>2019-10-21 00:00:00</td>\n",
       "      <td>2019-10-18 01:00:00</td>\n",
       "      <td>2019-10-06 01:00:00</td>\n",
       "      <td>...</td>\n",
       "      <td>4 days</td>\n",
       "      <td>7 days</td>\n",
       "      <td>21 days</td>\n",
       "      <td>29 days</td>\n",
       "      <td>35 days</td>\n",
       "      <td>38 days</td>\n",
       "      <td>41 days</td>\n",
       "      <td>44 days</td>\n",
       "      <td>56 days</td>\n",
       "      <td>63 days</td>\n",
       "    </tr>\n",
       "  </tbody>\n",
       "</table>\n",
       "<p>2 rows × 32 columns</p>\n",
       "</div>"
      ],
      "text/plain": [
       "            match_date home_team_history_match_date_1  \\\n",
       "0  2019-12-01 00:45:00            2019-11-26 00:10:00   \n",
       "1  2019-12-01 01:00:00            2019-11-27 21:00:00   \n",
       "\n",
       "  home_team_history_match_date_2 home_team_history_match_date_3  \\\n",
       "0            2019-11-10 18:30:00            2019-11-03 18:30:00   \n",
       "1            2019-11-24 01:00:00            2019-11-10 01:00:00   \n",
       "\n",
       "  home_team_history_match_date_4 home_team_history_match_date_5  \\\n",
       "0            2019-10-29 22:10:00            2019-10-19 20:45:00   \n",
       "1            2019-11-02 21:30:00            2019-10-27 01:00:00   \n",
       "\n",
       "  home_team_history_match_date_6 home_team_history_match_date_7  \\\n",
       "0            2019-10-04 22:00:00            2019-09-28 23:00:00   \n",
       "1            2019-10-24 01:00:00            2019-10-21 00:00:00   \n",
       "\n",
       "  home_team_history_match_date_8 home_team_history_match_date_9  ... diff_1  \\\n",
       "0            2019-09-22 14:00:00            2019-09-15 18:30:00  ... 5 days   \n",
       "1            2019-10-18 01:00:00            2019-10-06 01:00:00  ... 4 days   \n",
       "\n",
       "   diff_2  diff_3  diff_4  diff_5  diff_6  diff_7  diff_8  diff_9 diff_10  \n",
       "0 21 days 28 days 33 days 43 days 58 days 64 days 70 days 77 days 91 days  \n",
       "1  7 days 21 days 29 days 35 days 38 days 41 days 44 days 56 days 63 days  \n",
       "\n",
       "[2 rows x 32 columns]"
      ]
     },
     "execution_count": 14,
     "metadata": {},
     "output_type": "execute_result"
    }
   ],
   "source": [
    "date_train.head(2)"
   ]
  },
  {
   "cell_type": "code",
   "execution_count": 15,
   "id": "64f49d66",
   "metadata": {
    "execution": {
     "iopub.execute_input": "2022-03-14T16:04:01.697641Z",
     "iopub.status.busy": "2022-03-14T16:04:01.697017Z",
     "iopub.status.idle": "2022-03-14T16:04:01.946504Z",
     "shell.execute_reply": "2022-03-14T16:04:01.947046Z",
     "shell.execute_reply.started": "2022-03-14T09:39:20.000935Z"
    },
    "papermill": {
     "duration": 0.302776,
     "end_time": "2022-03-14T16:04:01.947218",
     "exception": false,
     "start_time": "2022-03-14T16:04:01.644442",
     "status": "completed"
    },
    "tags": []
   },
   "outputs": [
    {
     "data": {
      "text/plain": [
       "<AxesSubplot:ylabel='Frequency'>"
      ]
     },
     "execution_count": 15,
     "metadata": {},
     "output_type": "execute_result"
    },
    {
     "data": {
      "image/png": "[encoded data removed]",
      "text/plain": [
       "<Figure size 432x288 with 1 Axes>"
      ]
     },
     "metadata": {
      "needs_background": "light"
     },
     "output_type": "display_data"
    }
   ],
   "source": [
    "# plot the distribution of differences for each match in the history\n",
    "# (i.e plot all differences between today's game and history game i)\n",
    "date_train[\"diff_1\"].dt.days.plot(kind = 'hist', bins = [0,7,14,21,30,60,100,200,300,400], rwidth = 0.7)\n"
   ]
  },
  {
   "cell_type": "markdown",
   "id": "a35cb373",
   "metadata": {
    "papermill": {
     "duration": 0.051743,
     "end_time": "2022-03-14T16:04:02.051303",
     "exception": false,
     "start_time": "2022-03-14T16:04:01.999560",
     "status": "completed"
    },
    "tags": []
   },
   "source": [
    "It figures that there are a lot of previous game dates that are more than one month old. Let's get a more comprehensive idea by working with spread analysis metrics."
   ]
  },
  {
   "cell_type": "code",
   "execution_count": 16,
   "id": "6b1ce76c",
   "metadata": {
    "execution": {
     "iopub.execute_input": "2022-03-14T16:04:02.158600Z",
     "iopub.status.busy": "2022-03-14T16:04:02.157964Z",
     "iopub.status.idle": "2022-03-14T16:04:02.252528Z",
     "shell.execute_reply": "2022-03-14T16:04:02.253167Z",
     "shell.execute_reply.started": "2022-03-14T09:53:58.133967Z"
    },
    "papermill": {
     "duration": 0.150149,
     "end_time": "2022-03-14T16:04:02.253471",
     "exception": false,
     "start_time": "2022-03-14T16:04:02.103322",
     "status": "completed"
    },
    "tags": []
   },
   "outputs": [
    {
     "data": {
      "text/html": [
       "<div>\n",
       "<style scoped>\n",
       "    .dataframe tbody tr th:only-of-type {\n",
       "        vertical-align: middle;\n",
       "    }\n",
       "\n",
       "    .dataframe tbody tr th {\n",
       "        vertical-align: top;\n",
       "    }\n",
       "\n",
       "    .dataframe thead th {\n",
       "        text-align: right;\n",
       "    }\n",
       "</style>\n",
       "<table border=\"1\" class=\"dataframe\">\n",
       "  <thead>\n",
       "    <tr style=\"text-align: right;\">\n",
       "      <th></th>\n",
       "      <th>diff_1</th>\n",
       "      <th>diff_2</th>\n",
       "      <th>diff_3</th>\n",
       "    </tr>\n",
       "  </thead>\n",
       "  <tbody>\n",
       "    <tr>\n",
       "      <th>count</th>\n",
       "      <td>109779</td>\n",
       "      <td>108487</td>\n",
       "      <td>107165</td>\n",
       "    </tr>\n",
       "    <tr>\n",
       "      <th>mean</th>\n",
       "      <td>17 days 19:58:14.143688683</td>\n",
       "      <td>34 days 22:57:09.800805626</td>\n",
       "      <td>51 days 06:22:54.426351887</td>\n",
       "    </tr>\n",
       "    <tr>\n",
       "      <th>std</th>\n",
       "      <td>46 days 10:26:32.731304057</td>\n",
       "      <td>63 days 23:30:09.101627286</td>\n",
       "      <td>76 days 05:48:40.253330001</td>\n",
       "    </tr>\n",
       "    <tr>\n",
       "      <th>min</th>\n",
       "      <td>0 days 00:00:00</td>\n",
       "      <td>2 days 00:00:00</td>\n",
       "      <td>3 days 00:00:00</td>\n",
       "    </tr>\n",
       "    <tr>\n",
       "      <th>25%</th>\n",
       "      <td>4 days 00:00:00</td>\n",
       "      <td>10 days 00:00:00</td>\n",
       "      <td>15 days 00:00:00</td>\n",
       "    </tr>\n",
       "    <tr>\n",
       "      <th>50%</th>\n",
       "      <td>7 days 00:00:00</td>\n",
       "      <td>14 days 00:00:00</td>\n",
       "      <td>21 days 00:00:00</td>\n",
       "    </tr>\n",
       "    <tr>\n",
       "      <th>75%</th>\n",
       "      <td>9 days 00:00:00</td>\n",
       "      <td>22 days 00:00:00</td>\n",
       "      <td>40 days 00:00:00</td>\n",
       "    </tr>\n",
       "    <tr>\n",
       "      <th>max</th>\n",
       "      <td>763 days 00:00:00</td>\n",
       "      <td>763 days 00:00:00</td>\n",
       "      <td>763 days 00:00:00</td>\n",
       "    </tr>\n",
       "  </tbody>\n",
       "</table>\n",
       "</div>"
      ],
      "text/plain": [
       "                           diff_1                      diff_2  \\\n",
       "count                      109779                      108487   \n",
       "mean   17 days 19:58:14.143688683  34 days 22:57:09.800805626   \n",
       "std    46 days 10:26:32.731304057  63 days 23:30:09.101627286   \n",
       "min               0 days 00:00:00             2 days 00:00:00   \n",
       "25%               4 days 00:00:00            10 days 00:00:00   \n",
       "50%               7 days 00:00:00            14 days 00:00:00   \n",
       "75%               9 days 00:00:00            22 days 00:00:00   \n",
       "max             763 days 00:00:00           763 days 00:00:00   \n",
       "\n",
       "                           diff_3  \n",
       "count                      107165  \n",
       "mean   51 days 06:22:54.426351887  \n",
       "std    76 days 05:48:40.253330001  \n",
       "min               3 days 00:00:00  \n",
       "25%              15 days 00:00:00  \n",
       "50%              21 days 00:00:00  \n",
       "75%              40 days 00:00:00  \n",
       "max             763 days 00:00:00  "
      ]
     },
     "execution_count": 16,
     "metadata": {},
     "output_type": "execute_result"
    }
   ],
   "source": [
    "date_train[[\"diff_1\", \"diff_2\", \"diff_3\"]].describe()"
   ]
  },
  {
   "cell_type": "markdown",
   "id": "34ebdf5b",
   "metadata": {
    "papermill": {
     "duration": 0.051876,
     "end_time": "2022-03-14T16:04:02.369216",
     "exception": false,
     "start_time": "2022-03-14T16:04:02.317340",
     "status": "completed"
    },
    "tags": []
   },
   "source": [
    "Even looking at the match day differences for the last 3 games reveals some important results. The median is good and 7 days for the difference between today's game and the last played game (for the home teams only). However the mean is much higher than that, suggesting a lot of outliers with a lot of days in between. It is also interesting that some data instances have 0 days in between. Let's find examples from two extremes to look further."
   ]
  },
  {
   "cell_type": "code",
   "execution_count": 17,
   "id": "2628af91",
   "metadata": {
    "execution": {
     "iopub.execute_input": "2022-03-14T16:04:02.476533Z",
     "iopub.status.busy": "2022-03-14T16:04:02.475919Z",
     "iopub.status.idle": "2022-03-14T16:04:02.521257Z",
     "shell.execute_reply": "2022-03-14T16:04:02.521817Z",
     "shell.execute_reply.started": "2022-03-14T10:08:12.981407Z"
    },
    "papermill": {
     "duration": 0.100647,
     "end_time": "2022-03-14T16:04:02.522019",
     "exception": false,
     "start_time": "2022-03-14T16:04:02.421372",
     "status": "completed"
    },
    "tags": []
   },
   "outputs": [],
   "source": [
    "too_late, too_early = [], []\n",
    "for i, item in enumerate(date_train[\"diff_1\"].dt.days):\n",
    "    if (item == 763.0): # 763.0 is the max\n",
    "        too_late.append(i)\n",
    "    elif (item == 0.0):\n",
    "        too_early.append(i)\n",
    "    else:\n",
    "        pass"
   ]
  },
  {
   "cell_type": "code",
   "execution_count": 18,
   "id": "ab0fb807",
   "metadata": {
    "execution": {
     "iopub.execute_input": "2022-03-14T16:04:02.630515Z",
     "iopub.status.busy": "2022-03-14T16:04:02.629800Z",
     "iopub.status.idle": "2022-03-14T16:04:02.636775Z",
     "shell.execute_reply": "2022-03-14T16:04:02.637318Z",
     "shell.execute_reply.started": "2022-03-14T10:05:40.170980Z"
    },
    "papermill": {
     "duration": 0.062693,
     "end_time": "2022-03-14T16:04:02.637495",
     "exception": false,
     "start_time": "2022-03-14T16:04:02.574802",
     "status": "completed"
    },
    "tags": []
   },
   "outputs": [
    {
     "data": {
      "text/plain": [
       "id                                           11996633\n",
       "home_team_name                           Union Berlin\n",
       "match_date                        2020-01-06 15:00:00\n",
       "home_team_history_match_date_1    2020-01-06 10:00:00\n",
       "Name: 7102, dtype: object"
      ]
     },
     "execution_count": 18,
     "metadata": {},
     "output_type": "execute_result"
    }
   ],
   "source": [
    "train.loc[too_early[0]][[\"id\",\"home_team_name\", \"match_date\", \"home_team_history_match_date_1\"]]"
   ]
  },
  {
   "cell_type": "code",
   "execution_count": 19,
   "id": "8b56c708",
   "metadata": {
    "execution": {
     "iopub.execute_input": "2022-03-14T16:04:02.745955Z",
     "iopub.status.busy": "2022-03-14T16:04:02.745351Z",
     "iopub.status.idle": "2022-03-14T16:04:02.777726Z",
     "shell.execute_reply": "2022-03-14T16:04:02.778364Z",
     "shell.execute_reply.started": "2022-03-14T10:09:21.278170Z"
    },
    "papermill": {
     "duration": 0.0885,
     "end_time": "2022-03-14T16:04:02.778536",
     "exception": false,
     "start_time": "2022-03-14T16:04:02.690036",
     "status": "completed"
    },
    "tags": []
   },
   "outputs": [
    {
     "data": {
      "text/html": [
       "<div>\n",
       "<style scoped>\n",
       "    .dataframe tbody tr th:only-of-type {\n",
       "        vertical-align: middle;\n",
       "    }\n",
       "\n",
       "    .dataframe tbody tr th {\n",
       "        vertical-align: top;\n",
       "    }\n",
       "\n",
       "    .dataframe thead th {\n",
       "        text-align: right;\n",
       "    }\n",
       "</style>\n",
       "<table border=\"1\" class=\"dataframe\">\n",
       "  <thead>\n",
       "    <tr style=\"text-align: right;\">\n",
       "      <th></th>\n",
       "      <th>match_date</th>\n",
       "      <th>home_team_history_match_date_1</th>\n",
       "      <th>home_team_history_match_date_2</th>\n",
       "      <th>home_team_history_match_date_3</th>\n",
       "      <th>home_team_history_match_date_4</th>\n",
       "      <th>home_team_history_match_date_5</th>\n",
       "      <th>home_team_history_match_date_6</th>\n",
       "      <th>home_team_history_match_date_7</th>\n",
       "      <th>home_team_history_match_date_8</th>\n",
       "      <th>home_team_history_match_date_9</th>\n",
       "      <th>home_team_history_match_date_10</th>\n",
       "    </tr>\n",
       "  </thead>\n",
       "  <tbody>\n",
       "    <tr>\n",
       "      <th>7102</th>\n",
       "      <td>2020-01-06 15:00:00</td>\n",
       "      <td>2020-01-06 10:00:00</td>\n",
       "      <td>2019-12-22 14:30:00</td>\n",
       "      <td>2019-12-17 19:30:00</td>\n",
       "      <td>2019-12-14 14:30:00</td>\n",
       "      <td>2019-12-08 14:30:00</td>\n",
       "      <td>2019-11-29 19:30:00</td>\n",
       "      <td>2019-11-23 14:30:00</td>\n",
       "      <td>2019-11-13 16:30:00</td>\n",
       "      <td>2019-11-09 14:30:00</td>\n",
       "      <td>2019-11-02 17:30:00</td>\n",
       "    </tr>\n",
       "  </tbody>\n",
       "</table>\n",
       "</div>"
      ],
      "text/plain": [
       "               match_date home_team_history_match_date_1  \\\n",
       "7102  2020-01-06 15:00:00            2020-01-06 10:00:00   \n",
       "\n",
       "     home_team_history_match_date_2 home_team_history_match_date_3  \\\n",
       "7102            2019-12-22 14:30:00            2019-12-17 19:30:00   \n",
       "\n",
       "     home_team_history_match_date_4 home_team_history_match_date_5  \\\n",
       "7102            2019-12-14 14:30:00            2019-12-08 14:30:00   \n",
       "\n",
       "     home_team_history_match_date_6 home_team_history_match_date_7  \\\n",
       "7102            2019-11-29 19:30:00            2019-11-23 14:30:00   \n",
       "\n",
       "     home_team_history_match_date_8 home_team_history_match_date_9  \\\n",
       "7102            2019-11-13 16:30:00            2019-11-09 14:30:00   \n",
       "\n",
       "     home_team_history_match_date_10  \n",
       "7102             2019-11-02 17:30:00  "
      ]
     },
     "execution_count": 19,
     "metadata": {},
     "output_type": "execute_result"
    }
   ],
   "source": [
    "train[train.id == \"11996633\"][column_name_list]"
   ]
  },
  {
   "cell_type": "code",
   "execution_count": 20,
   "id": "45712429",
   "metadata": {
    "execution": {
     "iopub.execute_input": "2022-03-14T16:04:02.889632Z",
     "iopub.status.busy": "2022-03-14T16:04:02.888892Z",
     "iopub.status.idle": "2022-03-14T16:04:02.895435Z",
     "shell.execute_reply": "2022-03-14T16:04:02.895918Z",
     "shell.execute_reply.started": "2022-03-14T10:05:38.301195Z"
    },
    "papermill": {
     "duration": 0.062937,
     "end_time": "2022-03-14T16:04:02.896075",
     "exception": false,
     "start_time": "2022-03-14T16:04:02.833138",
     "status": "completed"
    },
    "tags": []
   },
   "outputs": [
    {
     "data": {
      "text/plain": [
       "id                                           17201654\n",
       "home_team_name                       Acheron Kanalaki\n",
       "match_date                        2021-04-25 13:30:00\n",
       "home_team_history_match_date_1    2019-03-24 13:00:00\n",
       "Name: 109557, dtype: object"
      ]
     },
     "execution_count": 20,
     "metadata": {},
     "output_type": "execute_result"
    }
   ],
   "source": [
    "train.loc[too_late[0]][[\"id\", \"home_team_name\", \"match_date\", \"home_team_history_match_date_1\"]]"
   ]
  },
  {
   "cell_type": "code",
   "execution_count": 21,
   "id": "30775665",
   "metadata": {
    "execution": {
     "iopub.execute_input": "2022-03-14T16:04:03.037184Z",
     "iopub.status.busy": "2022-03-14T16:04:03.006127Z",
     "iopub.status.idle": "2022-03-14T16:04:03.040790Z",
     "shell.execute_reply": "2022-03-14T16:04:03.040119Z",
     "shell.execute_reply.started": "2022-03-14T10:13:37.081627Z"
    },
    "papermill": {
     "duration": 0.090789,
     "end_time": "2022-03-14T16:04:03.040930",
     "exception": false,
     "start_time": "2022-03-14T16:04:02.950141",
     "status": "completed"
    },
    "tags": []
   },
   "outputs": [
    {
     "data": {
      "text/html": [
       "<div>\n",
       "<style scoped>\n",
       "    .dataframe tbody tr th:only-of-type {\n",
       "        vertical-align: middle;\n",
       "    }\n",
       "\n",
       "    .dataframe tbody tr th {\n",
       "        vertical-align: top;\n",
       "    }\n",
       "\n",
       "    .dataframe thead th {\n",
       "        text-align: right;\n",
       "    }\n",
       "</style>\n",
       "<table border=\"1\" class=\"dataframe\">\n",
       "  <thead>\n",
       "    <tr style=\"text-align: right;\">\n",
       "      <th></th>\n",
       "      <th>match_date</th>\n",
       "      <th>home_team_history_match_date_1</th>\n",
       "      <th>home_team_history_match_date_2</th>\n",
       "      <th>home_team_history_match_date_3</th>\n",
       "      <th>home_team_history_match_date_4</th>\n",
       "      <th>home_team_history_match_date_5</th>\n",
       "      <th>home_team_history_match_date_6</th>\n",
       "      <th>home_team_history_match_date_7</th>\n",
       "      <th>home_team_history_match_date_8</th>\n",
       "      <th>home_team_history_match_date_9</th>\n",
       "      <th>home_team_history_match_date_10</th>\n",
       "    </tr>\n",
       "  </thead>\n",
       "  <tbody>\n",
       "    <tr>\n",
       "      <th>109557</th>\n",
       "      <td>2021-04-25 13:30:00</td>\n",
       "      <td>2019-03-24 13:00:00</td>\n",
       "      <td>NaN</td>\n",
       "      <td>NaN</td>\n",
       "      <td>NaN</td>\n",
       "      <td>NaN</td>\n",
       "      <td>NaN</td>\n",
       "      <td>NaN</td>\n",
       "      <td>NaN</td>\n",
       "      <td>NaN</td>\n",
       "      <td>NaN</td>\n",
       "    </tr>\n",
       "  </tbody>\n",
       "</table>\n",
       "</div>"
      ],
      "text/plain": [
       "                 match_date home_team_history_match_date_1  \\\n",
       "109557  2021-04-25 13:30:00            2019-03-24 13:00:00   \n",
       "\n",
       "       home_team_history_match_date_2 home_team_history_match_date_3  \\\n",
       "109557                            NaN                            NaN   \n",
       "\n",
       "       home_team_history_match_date_4 home_team_history_match_date_5  \\\n",
       "109557                            NaN                            NaN   \n",
       "\n",
       "       home_team_history_match_date_6 home_team_history_match_date_7  \\\n",
       "109557                            NaN                            NaN   \n",
       "\n",
       "       home_team_history_match_date_8 home_team_history_match_date_9  \\\n",
       "109557                            NaN                            NaN   \n",
       "\n",
       "       home_team_history_match_date_10  \n",
       "109557                             NaN  "
      ]
     },
     "execution_count": 21,
     "metadata": {},
     "output_type": "execute_result"
    }
   ],
   "source": [
    "train[train.id == \"17201654\"][column_name_list]"
   ]
  },
  {
   "cell_type": "markdown",
   "id": "8ae39118",
   "metadata": {
    "papermill": {
     "duration": 0.053515,
     "end_time": "2022-03-14T16:04:03.148403",
     "exception": false,
     "start_time": "2022-03-14T16:04:03.094888",
     "status": "completed"
    },
    "tags": []
   },
   "source": [
    "This is the first time that i realize that some columns have NaN values. Should have done that earlier. Let's check whether there are other columns for this particular team:"
   ]
  },
  {
   "cell_type": "code",
   "execution_count": 22,
   "id": "1ecd5742",
   "metadata": {
    "execution": {
     "iopub.execute_input": "2022-03-14T16:04:03.259732Z",
     "iopub.status.busy": "2022-03-14T16:04:03.259053Z",
     "iopub.status.idle": "2022-03-14T16:04:03.306774Z",
     "shell.execute_reply": "2022-03-14T16:04:03.307336Z",
     "shell.execute_reply.started": "2022-03-14T10:15:37.026122Z"
    },
    "papermill": {
     "duration": 0.105019,
     "end_time": "2022-03-14T16:04:03.307514",
     "exception": false,
     "start_time": "2022-03-14T16:04:03.202495",
     "status": "completed"
    },
    "tags": []
   },
   "outputs": [
    {
     "data": {
      "text/html": [
       "<div>\n",
       "<style scoped>\n",
       "    .dataframe tbody tr th:only-of-type {\n",
       "        vertical-align: middle;\n",
       "    }\n",
       "\n",
       "    .dataframe tbody tr th {\n",
       "        vertical-align: top;\n",
       "    }\n",
       "\n",
       "    .dataframe thead th {\n",
       "        text-align: right;\n",
       "    }\n",
       "</style>\n",
       "<table border=\"1\" class=\"dataframe\">\n",
       "  <thead>\n",
       "    <tr style=\"text-align: right;\">\n",
       "      <th></th>\n",
       "      <th>match_date</th>\n",
       "      <th>home_team_history_match_date_1</th>\n",
       "      <th>home_team_history_match_date_2</th>\n",
       "      <th>home_team_history_match_date_3</th>\n",
       "      <th>home_team_history_match_date_4</th>\n",
       "      <th>home_team_history_match_date_5</th>\n",
       "      <th>home_team_history_match_date_6</th>\n",
       "      <th>home_team_history_match_date_7</th>\n",
       "      <th>home_team_history_match_date_8</th>\n",
       "      <th>home_team_history_match_date_9</th>\n",
       "      <th>home_team_history_match_date_10</th>\n",
       "    </tr>\n",
       "  </thead>\n",
       "  <tbody>\n",
       "    <tr>\n",
       "      <th>109557</th>\n",
       "      <td>2021-04-25 13:30:00</td>\n",
       "      <td>2019-03-24 13:00:00</td>\n",
       "      <td>NaN</td>\n",
       "      <td>NaN</td>\n",
       "      <td>NaN</td>\n",
       "      <td>NaN</td>\n",
       "      <td>NaN</td>\n",
       "      <td>NaN</td>\n",
       "      <td>NaN</td>\n",
       "      <td>NaN</td>\n",
       "      <td>NaN</td>\n",
       "    </tr>\n",
       "  </tbody>\n",
       "</table>\n",
       "</div>"
      ],
      "text/plain": [
       "                 match_date home_team_history_match_date_1  \\\n",
       "109557  2021-04-25 13:30:00            2019-03-24 13:00:00   \n",
       "\n",
       "       home_team_history_match_date_2 home_team_history_match_date_3  \\\n",
       "109557                            NaN                            NaN   \n",
       "\n",
       "       home_team_history_match_date_4 home_team_history_match_date_5  \\\n",
       "109557                            NaN                            NaN   \n",
       "\n",
       "       home_team_history_match_date_6 home_team_history_match_date_7  \\\n",
       "109557                            NaN                            NaN   \n",
       "\n",
       "       home_team_history_match_date_8 home_team_history_match_date_9  \\\n",
       "109557                            NaN                            NaN   \n",
       "\n",
       "       home_team_history_match_date_10  \n",
       "109557                             NaN  "
      ]
     },
     "execution_count": 22,
     "metadata": {},
     "output_type": "execute_result"
    }
   ],
   "source": [
    "train[(train.home_team_name == \"Acheron Kanalaki\") | (train.away_team_name == \"Acheron Kanalaki\")][column_name_list]"
   ]
  },
  {
   "cell_type": "markdown",
   "id": "ae7d67ee",
   "metadata": {
    "papermill": {
     "duration": 0.054777,
     "end_time": "2022-03-14T16:04:03.416748",
     "exception": false,
     "start_time": "2022-03-14T16:04:03.361971",
     "status": "completed"
    },
    "tags": []
   },
   "source": [
    "Actually no. Without further analysis, I'd like to summarize some of the key learnings:  \n",
    "- There might be NaN values for many teams. My idea is to use the historical data as a distribution where the closest games will have more effect on today. For instance, imagine a FORM factor. If the team has lost the last 3 games, but won in the 7 before that, we would rather expect the team to be in a bad form, even though they won many games before their bad strike, but we would expect them to be in better shape than a team that hasn't won a single game in their last 10. Therefore their form might be calculated as $\\sum{x_{i}*w_{i}}$, where $x_{i}$'s represent the points taken in the $i^{th}$ game before today's match and the $w_{i}$'s are the importance or relevance of that match. In that setup, we'd expect the $w_{i}$'s to assume a Poisson-like distribution, so that each games importance diminishes over time. Teams with a lot of NaN values won't get much info in this scenario i suppose.\n",
    "- Another idea was to apply a FATIGUE factor. However in this case i don't know how applicable it would be. There are some rows with 0 days in between matches, plus many rows that show more than 100 days in between the last two games. These values are simply problematic and point to some sort of discrepancy or missing information in the data, because in proffessional football we'd expect less than 30 days in between games unless it is summer break. If there is a lot of data missing, we cannot just assume some team hasn't played a single game in the last 100 days and has therefore zero fatigue."
   ]
  },
  {
   "cell_type": "markdown",
   "id": "1ef88470",
   "metadata": {
    "papermill": {
     "duration": 0.054307,
     "end_time": "2022-03-14T16:04:03.526077",
     "exception": false,
     "start_time": "2022-03-14T16:04:03.471770",
     "status": "completed"
    },
    "tags": []
   },
   "source": [
    "So now, change some orientation and try to understand the distribution of NaN values, how many teams appear how many times, and other presence/absence dichotomies:"
   ]
  },
  {
   "cell_type": "markdown",
   "id": "9f322a57",
   "metadata": {
    "papermill": {
     "duration": 0.053644,
     "end_time": "2022-03-14T16:04:03.634000",
     "exception": false,
     "start_time": "2022-03-14T16:04:03.580356",
     "status": "completed"
    },
    "tags": []
   },
   "source": [
    "I'd like to start by seeing in fact what percentage of home and away previous matches actually come with meaningful values. By meaningful, i will pursue two criteria:\n",
    "- shouldn't be NaN\n",
    "- the difference between two neighbouring matches in the history (and in present) should be at most 30 days. Otherwise I take it as a data issue, or maybe a recording from the previous season which doesn't have any effect today"
   ]
  },
  {
   "cell_type": "code",
   "execution_count": 23,
   "id": "c48ee532",
   "metadata": {
    "execution": {
     "iopub.execute_input": "2022-03-14T16:04:03.753834Z",
     "iopub.status.busy": "2022-03-14T16:04:03.747255Z",
     "iopub.status.idle": "2022-03-14T16:04:03.815554Z",
     "shell.execute_reply": "2022-03-14T16:04:03.814970Z",
     "shell.execute_reply.started": "2022-03-14T15:38:52.840834Z"
    },
    "papermill": {
     "duration": 0.12704,
     "end_time": "2022-03-14T16:04:03.815705",
     "exception": false,
     "start_time": "2022-03-14T16:04:03.688665",
     "status": "completed"
    },
    "tags": []
   },
   "outputs": [
    {
     "data": {
      "text/html": [
       "<div>\n",
       "<style scoped>\n",
       "    .dataframe tbody tr th:only-of-type {\n",
       "        vertical-align: middle;\n",
       "    }\n",
       "\n",
       "    .dataframe tbody tr th {\n",
       "        vertical-align: top;\n",
       "    }\n",
       "\n",
       "    .dataframe thead th {\n",
       "        text-align: right;\n",
       "    }\n",
       "</style>\n",
       "<table border=\"1\" class=\"dataframe\">\n",
       "  <thead>\n",
       "    <tr style=\"text-align: right;\">\n",
       "      <th></th>\n",
       "      <th>match_date</th>\n",
       "      <th>home_team_history_match_date_1</th>\n",
       "      <th>home_team_history_match_date_2</th>\n",
       "      <th>home_team_history_match_date_3</th>\n",
       "      <th>home_team_history_match_date_4</th>\n",
       "      <th>home_team_history_match_date_5</th>\n",
       "      <th>home_team_history_match_date_6</th>\n",
       "      <th>home_team_history_match_date_7</th>\n",
       "      <th>home_team_history_match_date_8</th>\n",
       "      <th>home_team_history_match_date_9</th>\n",
       "      <th>...</th>\n",
       "      <th>away_team_history_match_date_1</th>\n",
       "      <th>away_team_history_match_date_2</th>\n",
       "      <th>away_team_history_match_date_3</th>\n",
       "      <th>away_team_history_match_date_4</th>\n",
       "      <th>away_team_history_match_date_5</th>\n",
       "      <th>away_team_history_match_date_6</th>\n",
       "      <th>away_team_history_match_date_7</th>\n",
       "      <th>away_team_history_match_date_8</th>\n",
       "      <th>away_team_history_match_date_9</th>\n",
       "      <th>away_team_history_match_date_10</th>\n",
       "    </tr>\n",
       "  </thead>\n",
       "  <tbody>\n",
       "    <tr>\n",
       "      <th>0</th>\n",
       "      <td>2019-12-01 00:45:00</td>\n",
       "      <td>2019-11-26 00:10:00</td>\n",
       "      <td>2019-11-10 18:30:00</td>\n",
       "      <td>2019-11-03 18:30:00</td>\n",
       "      <td>2019-10-29 22:10:00</td>\n",
       "      <td>2019-10-19 20:45:00</td>\n",
       "      <td>2019-10-04 22:00:00</td>\n",
       "      <td>2019-09-28 23:00:00</td>\n",
       "      <td>2019-09-22 14:00:00</td>\n",
       "      <td>2019-09-15 18:30:00</td>\n",
       "      <td>...</td>\n",
       "      <td>2019-11-23 20:00:00</td>\n",
       "      <td>2019-11-15 00:10:00</td>\n",
       "      <td>2019-11-10 14:00:00</td>\n",
       "      <td>2019-11-02 23:00:00</td>\n",
       "      <td>2019-10-30 00:20:00</td>\n",
       "      <td>2019-10-23 00:30:00</td>\n",
       "      <td>2019-10-18 22:00:00</td>\n",
       "      <td>2019-10-11 23:30:00</td>\n",
       "      <td>2019-10-06 20:45:00</td>\n",
       "      <td>2019-10-02 00:30:00</td>\n",
       "    </tr>\n",
       "    <tr>\n",
       "      <th>1</th>\n",
       "      <td>2019-12-01 01:00:00</td>\n",
       "      <td>2019-11-27 21:00:00</td>\n",
       "      <td>2019-11-24 01:00:00</td>\n",
       "      <td>2019-11-10 01:00:00</td>\n",
       "      <td>2019-11-02 21:30:00</td>\n",
       "      <td>2019-10-27 01:00:00</td>\n",
       "      <td>2019-10-24 01:00:00</td>\n",
       "      <td>2019-10-21 00:00:00</td>\n",
       "      <td>2019-10-18 01:00:00</td>\n",
       "      <td>2019-10-06 01:00:00</td>\n",
       "      <td>...</td>\n",
       "      <td>2019-11-27 21:00:00</td>\n",
       "      <td>2019-11-23 23:00:00</td>\n",
       "      <td>2019-11-09 22:00:00</td>\n",
       "      <td>2019-11-02 21:00:00</td>\n",
       "      <td>2019-10-28 00:00:00</td>\n",
       "      <td>2019-10-21 00:00:00</td>\n",
       "      <td>2019-10-16 21:00:00</td>\n",
       "      <td>2019-09-29 01:00:00</td>\n",
       "      <td>2019-09-20 21:30:00</td>\n",
       "      <td>2019-09-15 01:00:00</td>\n",
       "    </tr>\n",
       "  </tbody>\n",
       "</table>\n",
       "<p>2 rows × 21 columns</p>\n",
       "</div>"
      ],
      "text/plain": [
       "            match_date home_team_history_match_date_1  \\\n",
       "0  2019-12-01 00:45:00            2019-11-26 00:10:00   \n",
       "1  2019-12-01 01:00:00            2019-11-27 21:00:00   \n",
       "\n",
       "  home_team_history_match_date_2 home_team_history_match_date_3  \\\n",
       "0            2019-11-10 18:30:00            2019-11-03 18:30:00   \n",
       "1            2019-11-24 01:00:00            2019-11-10 01:00:00   \n",
       "\n",
       "  home_team_history_match_date_4 home_team_history_match_date_5  \\\n",
       "0            2019-10-29 22:10:00            2019-10-19 20:45:00   \n",
       "1            2019-11-02 21:30:00            2019-10-27 01:00:00   \n",
       "\n",
       "  home_team_history_match_date_6 home_team_history_match_date_7  \\\n",
       "0            2019-10-04 22:00:00            2019-09-28 23:00:00   \n",
       "1            2019-10-24 01:00:00            2019-10-21 00:00:00   \n",
       "\n",
       "  home_team_history_match_date_8 home_team_history_match_date_9  ...  \\\n",
       "0            2019-09-22 14:00:00            2019-09-15 18:30:00  ...   \n",
       "1            2019-10-18 01:00:00            2019-10-06 01:00:00  ...   \n",
       "\n",
       "  away_team_history_match_date_1 away_team_history_match_date_2  \\\n",
       "0            2019-11-23 20:00:00            2019-11-15 00:10:00   \n",
       "1            2019-11-27 21:00:00            2019-11-23 23:00:00   \n",
       "\n",
       "  away_team_history_match_date_3 away_team_history_match_date_4  \\\n",
       "0            2019-11-10 14:00:00            2019-11-02 23:00:00   \n",
       "1            2019-11-09 22:00:00            2019-11-02 21:00:00   \n",
       "\n",
       "  away_team_history_match_date_5 away_team_history_match_date_6  \\\n",
       "0            2019-10-30 00:20:00            2019-10-23 00:30:00   \n",
       "1            2019-10-28 00:00:00            2019-10-21 00:00:00   \n",
       "\n",
       "  away_team_history_match_date_7 away_team_history_match_date_8  \\\n",
       "0            2019-10-18 22:00:00            2019-10-11 23:30:00   \n",
       "1            2019-10-16 21:00:00            2019-09-29 01:00:00   \n",
       "\n",
       "  away_team_history_match_date_9 away_team_history_match_date_10  \n",
       "0            2019-10-06 20:45:00             2019-10-02 00:30:00  \n",
       "1            2019-09-20 21:30:00             2019-09-15 01:00:00  \n",
       "\n",
       "[2 rows x 21 columns]"
      ]
     },
     "execution_count": 23,
     "metadata": {},
     "output_type": "execute_result"
    }
   ],
   "source": [
    "import datetime\n",
    "\n",
    "# create a dataframe of 1 match date, and 10 historical match dates for both sides, a total of 21 dates\n",
    "home_dates = [\"home_team_history_match_date_\" + str(i) for i in np.arange(1,11,1)]\n",
    "away_dates = [\"away_team_history_match_date_\" + str(i) for i in np.arange(1,11,1)]\n",
    "match_date = [\"match_date\"]\n",
    "date_columns = match_date + home_dates + away_dates\n",
    "dates = train[date_columns].copy()\n",
    "dates.head(2)\n"
   ]
  },
  {
   "cell_type": "code",
   "execution_count": 24,
   "id": "425ac758",
   "metadata": {
    "execution": {
     "iopub.execute_input": "2022-03-14T16:04:03.942927Z",
     "iopub.status.busy": "2022-03-14T16:04:03.941931Z",
     "iopub.status.idle": "2022-03-14T16:04:15.584610Z",
     "shell.execute_reply": "2022-03-14T16:04:15.584032Z",
     "shell.execute_reply.started": "2022-03-14T15:44:42.212828Z"
    },
    "papermill": {
     "duration": 11.713408,
     "end_time": "2022-03-14T16:04:15.584780",
     "exception": false,
     "start_time": "2022-03-14T16:04:03.871372",
     "status": "completed"
    },
    "tags": []
   },
   "outputs": [],
   "source": [
    "# now add 20 new diff columns, in which we'll see the integer diff of each game with its predecessor,\n",
    "# away and home separately\n",
    "for i, name in enumerate(match_date + home_dates[:-1]):\n",
    "    dates[\"home_diff_\"+str(i)] = (pd.to_datetime(dates[name]).dt.date - pd.to_datetime(dates[home_dates[i]]).dt.date).dt.days\n",
    "for i, name in enumerate(match_date + away_dates[:-1]):\n",
    "    dates[\"away_diff_\"+str(i)] = (pd.to_datetime(dates[name]).dt.date - pd.to_datetime(dates[away_dates[i]]).dt.date).dt.days\n",
    "    \n"
   ]
  },
  {
   "cell_type": "code",
   "execution_count": 25,
   "id": "45416565",
   "metadata": {
    "execution": {
     "iopub.execute_input": "2022-03-14T16:04:15.700834Z",
     "iopub.status.busy": "2022-03-14T16:04:15.699838Z",
     "iopub.status.idle": "2022-03-14T16:04:15.727847Z",
     "shell.execute_reply": "2022-03-14T16:04:15.727301Z",
     "shell.execute_reply.started": "2022-03-14T15:44:53.356394Z"
    },
    "papermill": {
     "duration": 0.086618,
     "end_time": "2022-03-14T16:04:15.727996",
     "exception": false,
     "start_time": "2022-03-14T16:04:15.641378",
     "status": "completed"
    },
    "tags": []
   },
   "outputs": [
    {
     "data": {
      "text/html": [
       "<div>\n",
       "<style scoped>\n",
       "    .dataframe tbody tr th:only-of-type {\n",
       "        vertical-align: middle;\n",
       "    }\n",
       "\n",
       "    .dataframe tbody tr th {\n",
       "        vertical-align: top;\n",
       "    }\n",
       "\n",
       "    .dataframe thead th {\n",
       "        text-align: right;\n",
       "    }\n",
       "</style>\n",
       "<table border=\"1\" class=\"dataframe\">\n",
       "  <thead>\n",
       "    <tr style=\"text-align: right;\">\n",
       "      <th></th>\n",
       "      <th>match_date</th>\n",
       "      <th>home_team_history_match_date_1</th>\n",
       "      <th>home_team_history_match_date_2</th>\n",
       "      <th>home_team_history_match_date_3</th>\n",
       "      <th>home_team_history_match_date_4</th>\n",
       "      <th>home_team_history_match_date_5</th>\n",
       "      <th>home_team_history_match_date_6</th>\n",
       "      <th>home_team_history_match_date_7</th>\n",
       "      <th>home_team_history_match_date_8</th>\n",
       "      <th>home_team_history_match_date_9</th>\n",
       "      <th>...</th>\n",
       "      <th>away_diff_0</th>\n",
       "      <th>away_diff_1</th>\n",
       "      <th>away_diff_2</th>\n",
       "      <th>away_diff_3</th>\n",
       "      <th>away_diff_4</th>\n",
       "      <th>away_diff_5</th>\n",
       "      <th>away_diff_6</th>\n",
       "      <th>away_diff_7</th>\n",
       "      <th>away_diff_8</th>\n",
       "      <th>away_diff_9</th>\n",
       "    </tr>\n",
       "  </thead>\n",
       "  <tbody>\n",
       "    <tr>\n",
       "      <th>0</th>\n",
       "      <td>2019-12-01 00:45:00</td>\n",
       "      <td>2019-11-26 00:10:00</td>\n",
       "      <td>2019-11-10 18:30:00</td>\n",
       "      <td>2019-11-03 18:30:00</td>\n",
       "      <td>2019-10-29 22:10:00</td>\n",
       "      <td>2019-10-19 20:45:00</td>\n",
       "      <td>2019-10-04 22:00:00</td>\n",
       "      <td>2019-09-28 23:00:00</td>\n",
       "      <td>2019-09-22 14:00:00</td>\n",
       "      <td>2019-09-15 18:30:00</td>\n",
       "      <td>...</td>\n",
       "      <td>8.0</td>\n",
       "      <td>8.0</td>\n",
       "      <td>5.0</td>\n",
       "      <td>8.0</td>\n",
       "      <td>3.0</td>\n",
       "      <td>7.0</td>\n",
       "      <td>5.0</td>\n",
       "      <td>7.0</td>\n",
       "      <td>5.0</td>\n",
       "      <td>4.0</td>\n",
       "    </tr>\n",
       "    <tr>\n",
       "      <th>1</th>\n",
       "      <td>2019-12-01 01:00:00</td>\n",
       "      <td>2019-11-27 21:00:00</td>\n",
       "      <td>2019-11-24 01:00:00</td>\n",
       "      <td>2019-11-10 01:00:00</td>\n",
       "      <td>2019-11-02 21:30:00</td>\n",
       "      <td>2019-10-27 01:00:00</td>\n",
       "      <td>2019-10-24 01:00:00</td>\n",
       "      <td>2019-10-21 00:00:00</td>\n",
       "      <td>2019-10-18 01:00:00</td>\n",
       "      <td>2019-10-06 01:00:00</td>\n",
       "      <td>...</td>\n",
       "      <td>4.0</td>\n",
       "      <td>4.0</td>\n",
       "      <td>14.0</td>\n",
       "      <td>7.0</td>\n",
       "      <td>5.0</td>\n",
       "      <td>7.0</td>\n",
       "      <td>5.0</td>\n",
       "      <td>17.0</td>\n",
       "      <td>9.0</td>\n",
       "      <td>5.0</td>\n",
       "    </tr>\n",
       "  </tbody>\n",
       "</table>\n",
       "<p>2 rows × 41 columns</p>\n",
       "</div>"
      ],
      "text/plain": [
       "            match_date home_team_history_match_date_1  \\\n",
       "0  2019-12-01 00:45:00            2019-11-26 00:10:00   \n",
       "1  2019-12-01 01:00:00            2019-11-27 21:00:00   \n",
       "\n",
       "  home_team_history_match_date_2 home_team_history_match_date_3  \\\n",
       "0            2019-11-10 18:30:00            2019-11-03 18:30:00   \n",
       "1            2019-11-24 01:00:00            2019-11-10 01:00:00   \n",
       "\n",
       "  home_team_history_match_date_4 home_team_history_match_date_5  \\\n",
       "0            2019-10-29 22:10:00            2019-10-19 20:45:00   \n",
       "1            2019-11-02 21:30:00            2019-10-27 01:00:00   \n",
       "\n",
       "  home_team_history_match_date_6 home_team_history_match_date_7  \\\n",
       "0            2019-10-04 22:00:00            2019-09-28 23:00:00   \n",
       "1            2019-10-24 01:00:00            2019-10-21 00:00:00   \n",
       "\n",
       "  home_team_history_match_date_8 home_team_history_match_date_9  ...  \\\n",
       "0            2019-09-22 14:00:00            2019-09-15 18:30:00  ...   \n",
       "1            2019-10-18 01:00:00            2019-10-06 01:00:00  ...   \n",
       "\n",
       "  away_diff_0 away_diff_1 away_diff_2 away_diff_3 away_diff_4 away_diff_5  \\\n",
       "0         8.0         8.0         5.0         8.0         3.0         7.0   \n",
       "1         4.0         4.0        14.0         7.0         5.0         7.0   \n",
       "\n",
       "  away_diff_6 away_diff_7 away_diff_8 away_diff_9  \n",
       "0         5.0         7.0         5.0         4.0  \n",
       "1         5.0        17.0         9.0         5.0  \n",
       "\n",
       "[2 rows x 41 columns]"
      ]
     },
     "execution_count": 25,
     "metadata": {},
     "output_type": "execute_result"
    }
   ],
   "source": [
    "dates.head(2)"
   ]
  },
  {
   "cell_type": "code",
   "execution_count": 26,
   "id": "c5058742",
   "metadata": {
    "execution": {
     "iopub.execute_input": "2022-03-14T16:04:15.851314Z",
     "iopub.status.busy": "2022-03-14T16:04:15.849746Z",
     "iopub.status.idle": "2022-03-14T16:04:16.106238Z",
     "shell.execute_reply": "2022-03-14T16:04:16.105635Z",
     "shell.execute_reply.started": "2022-03-14T16:01:21.792075Z"
    },
    "papermill": {
     "duration": 0.321848,
     "end_time": "2022-03-14T16:04:16.106431",
     "exception": false,
     "start_time": "2022-03-14T16:04:15.784583",
     "status": "completed"
    },
    "tags": []
   },
   "outputs": [
    {
     "data": {
      "text/plain": [
       "{'home_team_0': 90.51542302907932,\n",
       " 'away_team_0': 89.77086300456111,\n",
       " 'home_team_1': 89.34359732463177,\n",
       " 'away_team_1': 89.03621842831132,\n",
       " 'home_team_2': 88.41785501811823,\n",
       " 'away_team_2': 87.89864609060916,\n",
       " 'home_team_3': 87.40467648596513,\n",
       " 'away_team_3': 86.97290378409562,\n",
       " 'home_team_4': 86.35994880023075,\n",
       " 'away_team_4': 85.93268312030142,\n",
       " 'home_team_5': 85.39724891380772,\n",
       " 'away_team_5': 84.83567398006093,\n",
       " 'home_team_6': 84.36964791144604,\n",
       " 'away_team_6': 83.88108673313022,\n",
       " 'home_team_7': 83.42677892155979,\n",
       " 'away_team_7': 82.82013376841118,\n",
       " 'home_team_8': 82.37484000072112,\n",
       " 'away_team_8': 81.9178279759866,\n",
       " 'home_team_9': 81.41935134940238,\n",
       " 'away_team_9': 80.89924101750528}"
      ]
     },
     "execution_count": 26,
     "metadata": {},
     "output_type": "execute_result"
    }
   ],
   "source": [
    "# now using the differences, calculate the usable data percentage for each game\n",
    "# i.e for any game, if the preceding game date is given + that date is at most 30 days away, then count\n",
    "# as usable, otherwise non-usable. report the percentage of usables for each game column\n",
    "\n",
    "\n",
    "usables = {}\n",
    "n_total_games = len(dates[match_date])\n",
    "\n",
    "for i in np.arange(0,10,1):\n",
    "    usables[\"home_team_\"+str(i)] = (1- (dates[\"home_diff_\" + str(i)].isnull().sum() +\\\n",
    "                len(dates[dates[\"home_diff_\" + str(i)] >= 30.0])) / n_total_games) * 100\n",
    "    usables[\"away_team_\"+str(i)] = (1 -(dates[\"away_diff_\" + str(i)].isnull().sum() +\\\n",
    "                len(dates[dates[\"away_diff_\" + str(i)] >= 30.0])) / n_total_games) * 100\n",
    "\n",
    "usables"
   ]
  },
  {
   "cell_type": "code",
   "execution_count": 27,
   "id": "441f23dd",
   "metadata": {
    "execution": {
     "iopub.execute_input": "2022-03-14T16:04:16.224046Z",
     "iopub.status.busy": "2022-03-14T16:04:16.223066Z",
     "iopub.status.idle": "2022-03-14T16:04:16.228145Z",
     "shell.execute_reply": "2022-03-14T16:04:16.228666Z",
     "shell.execute_reply.started": "2022-03-14T15:04:09.083356Z"
    },
    "papermill": {
     "duration": 0.065454,
     "end_time": "2022-03-14T16:04:16.228832",
     "exception": false,
     "start_time": "2022-03-14T16:04:16.163378",
     "status": "completed"
    },
    "tags": []
   },
   "outputs": [
    {
     "data": {
      "text/plain": [
       "110938"
      ]
     },
     "execution_count": 27,
     "metadata": {},
     "output_type": "execute_result"
    }
   ],
   "source": [
    "len(train.home_team_history_match_date_6)"
   ]
  },
  {
   "cell_type": "code",
   "execution_count": 28,
   "id": "440fab77",
   "metadata": {
    "execution": {
     "iopub.execute_input": "2022-03-14T16:04:16.345030Z",
     "iopub.status.busy": "2022-03-14T16:04:16.344073Z",
     "iopub.status.idle": "2022-03-14T16:04:16.361880Z",
     "shell.execute_reply": "2022-03-14T16:04:16.362342Z",
     "shell.execute_reply.started": "2022-03-14T15:03:51.097854Z"
    },
    "papermill": {
     "duration": 0.077499,
     "end_time": "2022-03-14T16:04:16.362515",
     "exception": false,
     "start_time": "2022-03-14T16:04:16.285016",
     "status": "completed"
    },
    "tags": []
   },
   "outputs": [
    {
     "data": {
      "text/plain": [
       "7896"
      ]
     },
     "execution_count": 28,
     "metadata": {},
     "output_type": "execute_result"
    }
   ],
   "source": [
    "train.home_team_history_match_date_6.isnull().sum()"
   ]
  },
  {
   "cell_type": "code",
   "execution_count": 29,
   "id": "96775d23",
   "metadata": {
    "execution": {
     "iopub.execute_input": "2022-03-14T16:04:16.479897Z",
     "iopub.status.busy": "2022-03-14T16:04:16.478907Z",
     "iopub.status.idle": "2022-03-14T16:04:16.502670Z",
     "shell.execute_reply": "2022-03-14T16:04:16.503118Z",
     "shell.execute_reply.started": "2022-03-14T15:02:17.874287Z"
    },
    "papermill": {
     "duration": 0.084348,
     "end_time": "2022-03-14T16:04:16.503314",
     "exception": false,
     "start_time": "2022-03-14T16:04:16.418966",
     "status": "completed"
    },
    "tags": []
   },
   "outputs": [
    {
     "data": {
      "text/plain": [
       "True"
      ]
     },
     "execution_count": 29,
     "metadata": {},
     "output_type": "execute_result"
    }
   ],
   "source": [
    "train[(train.home_team_name == \"Acheron Kanalaki\")][\"home_team_history_match_date_2\"].isnull().values.any()"
   ]
  },
  {
   "cell_type": "code",
   "execution_count": 30,
   "id": "1c38b802",
   "metadata": {
    "execution": {
     "iopub.execute_input": "2022-03-14T16:04:16.622876Z",
     "iopub.status.busy": "2022-03-14T16:04:16.621888Z",
     "iopub.status.idle": "2022-03-14T16:04:16.700287Z",
     "shell.execute_reply": "2022-03-14T16:04:16.700785Z",
     "shell.execute_reply.started": "2022-03-14T14:58:24.005421Z"
    },
    "papermill": {
     "duration": 0.140201,
     "end_time": "2022-03-14T16:04:16.700955",
     "exception": false,
     "start_time": "2022-03-14T16:04:16.560754",
     "status": "completed"
    },
    "tags": []
   },
   "outputs": [
    {
     "data": {
      "text/plain": [
       "dict_values([36, 63, 46, 54, 48, 26, 28, 28, 27, 30, 46, 1, 12, 14, 15, 45, 41, 36, 54, 54, 42, 23, 36, 41, 39, 25, 11, 12, 42, 56, 54, 20, 20, 39, 34, 37, 28, 24, 35, 2, 28, 27, 33, 29, 9, 11, 10, 10, 8, 24, 26, 7, 3, 8, 37, 13, 5, 11, 25, 48, 16, 27, 10, 40, 40, 22, 39, 11, 22, 14, 11, 34, 12, 12, 9, 38, 16, 54, 33, 11, 26, 19, 24, 46, 48, 50, 37, 30, 28, 21, 33, 26, 21, 34, 43, 35, 12, 30, 37, 33, 35, 20, 29, 37, 30, 39, 27, 38, 67, 38, 29, 23, 30, 57, 55, 29, 41, 35, 40, 18, 36, 21, 45, 27, 36, 37, 20, 24, 31, 39, 50, 17, 21, 41, 48, 20, 42, 42, 21, 36, 43, 32, 40, 24, 34, 67, 37, 45, 39, 37, 25, 33, 36, 36, 44, 40, 17, 65, 61, 86, 33, 34, 115, 10, 12, 31, 38, 37, 41, 41, 65, 48, 22, 21, 54, 113, 30, 48, 102, 61, 54, 37, 40, 42, 39, 20, 14, 8, 26, 27, 26, 24, 27, 32, 36, 38, 13, 61, 16, 24, 28, 59, 48, 50, 55, 14, 53, 46, 55, 27, 14, 5, 26, 44, 33, 3, 21, 45, 44, 46, 46, 13, 64, 39, 12, 17, 13, 10, 49, 52, 23, 20, 23, 38, 38, 56, 9, 18, 36, 25, 59, 12, 61, 12, 14, 53, 11, 16, 37, 35, 10, 37, 56, 36, 32, 2, 36, 18, 16, 5, 34, 51, 28, 45, 16, 16, 16, 13, 40, 15, 4, 40, 8, 60, 97, 13, 39, 45, 11, 9, 15, 12, 11, 7, 15, 13, 11, 13, 67, 63, 39, 29, 13, 7, 30, 27, 20, 37, 38, 16, 7, 15, 18, 43, 19, 21, 17, 28, 38, 37, 35, 33, 34, 33, 12, 36, 27, 9, 9, 10, 32, 34, 46, 10, 37, 9, 37, 40, 36, 32, 9, 36, 20, 35, 8, 37, 11, 12, 79, 15, 18, 14, 41, 13, 16, 20, 81, 48, 46, 18, 54, 58, 57, 60, 51, 65, 34, 45, 29, 34, 38, 35, 38, 39, 37, 33, 11, 6, 37, 11, 37, 36, 36, 36, 40, 36, 35, 12, 11, 39, 37, 6, 35, 34, 35, 5, 56, 65, 63, 68, 15, 13, 12, 81, 75, 64, 26, 64, 33, 38, 29, 38, 12, 54, 58, 55, 50, 52, 11, 12, 19, 21, 51, 52, 11, 54, 78, 36, 70, 56, 41, 57, 65, 29, 32, 25, 29, 42, 23, 15, 56, 16, 49, 42, 70, 54, 49, 7, 9, 75, 71, 79, 72, 78, 77, 73, 68, 26, 44, 53, 26, 29, 48, 28, 25, 40, 51, 25, 39, 20, 73, 12, 13, 7, 16, 35, 40, 40, 32, 37, 13, 33, 75, 38, 32, 31, 33, 23, 33, 22, 32, 31, 22, 43, 23, 55, 66, 72, 52, 13, 2, 62, 64, 79, 71, 27, 59, 27, 34, 29, 30, 27, 33, 51, 44, 128, 32, 45, 18, 13, 26, 30, 38, 34, 66, 26, 109, 54, 26, 41, 35, 24, 29, 30, 60, 61, 29, 36, 30, 24, 29, 20, 30, 35, 19, 66, 31, 20, 33, 24, 16, 16, 29, 37, 57, 32, 10, 39, 74, 19, 15, 74, 62, 75, 31, 55, 72, 66, 58, 38, 56, 40, 40, 49, 49, 51, 55, 51, 48, 16, 49, 48, 60, 57, 81, 51, 95, 53, 49, 37, 19, 27, 62, 43, 69, 72, 69, 88, 77, 68, 26, 45, 44, 40, 34, 40, 59, 37, 44, 48, 58, 41, 40, 56, 56, 42, 29, 16, 40, 87, 40, 67, 41, 39, 56, 33, 62, 43, 70, 54, 52, 60, 48, 43, 42, 20, 93, 68, 71, 53, 44, 54, 62, 21, 25, 19, 24, 43, 10, 22, 22, 15, 22, 22, 23, 69, 55, 74, 15, 58, 68, 13, 16, 25, 22, 22, 41, 14, 50, 51, 43, 50, 22, 50, 71, 76, 24, 83, 51, 47, 73, 13, 47, 52, 112, 70, 113, 21, 108, 1, 25, 22, 47, 33, 39, 56, 38, 20, 16, 43, 22, 65, 15, 34, 33, 49, 57, 13, 5, 32, 11, 6, 16, 8, 8, 2, 42, 40, 14, 9, 3, 4, 36, 32, 33, 53, 57, 8, 31, 8, 25, 7, 10, 11, 37, 35, 33, 9, 1, 49, 44, 36, 17, 56, 55, 40, 25, 65, 64, 68, 5, 1, 66, 67, 64, 71, 8, 8, 49, 9, 8, 16, 72, 60, 39, 26, 10, 16, 15, 16, 14, 60, 78, 6, 4, 33, 6, 4, 17, 38, 16, 15, 56, 17, 17, 16, 58, 54, 80, 38, 64, 37, 59, 23, 27, 16, 24, 25, 62, 17, 23, 84, 3, 37, 77, 20, 43, 24, 23, 71, 39, 21, 25, 21, 55, 15, 8, 7, 6, 29, 64, 12, 15, 4, 43, 37, 40, 66, 8, 60, 39, 5, 107, 43, 3, 173, 45, 42, 43, 56, 15, 13, 74, 14, 63, 48, 18, 39, 16, 18, 37, 99, 51, 27, 57, 43, 59, 24, 41, 25, 23, 63, 64, 71, 64, 72, 53, 56, 62, 62, 16, 25, 61, 45, 63, 11, 71, 5, 71, 80, 8, 34, 34, 69, 37, 26, 32, 70, 50, 61, 50, 42, 63, 50, 24, 52, 33, 41, 41, 27, 27, 40, 27, 24, 38, 36, 65, 14, 47, 54, 50, 69, 51, 49, 50, 55, 51, 51, 65, 47, 25, 41, 53, 22, 2, 4, 8, 38, 44, 49, 5, 22, 10, 2, 42, 9, 38, 15, 41, 35, 39, 31, 36, 8, 64, 38, 38, 36, 38, 39, 39, 45, 44, 27, 60, 10, 62, 39, 57, 35, 34, 53, 4, 10, 34, 41, 26, 25, 18, 27, 37, 29, 13, 14, 15, 17, 17, 41, 8, 62, 63, 16, 1, 38, 38, 9, 10, 35, 33, 69, 32, 50, 54, 52, 61, 26, 24, 27, 22, 26, 32, 54, 58, 51, 37, 38, 39, 54, 23, 28, 26, 41, 37, 14, 16, 50, 26, 50, 73, 15, 59, 59, 66, 62, 41, 10, 9, 68, 15, 55, 21, 63, 14, 47, 65, 71, 15, 40, 45, 69, 55, 52, 60, 104, 53, 71, 18, 63, 28, 54, 43, 14, 45, 55, 51, 63, 31, 32, 35, 25, 84, 66, 9, 64, 77, 55, 59, 61, 58, 5, 62, 6, 8, 29, 65, 82, 128, 32, 24, 35, 77, 69, 83, 53, 71, 43, 78, 80, 45, 68, 46, 60, 10, 3, 22, 5, 4, 42, 5, 46, 64, 53, 49, 42, 44, 39, 35, 47, 41, 47, 42, 41, 49, 12, 48, 40, 63, 56, 7, 6, 39, 35, 31, 58, 62, 64, 10, 62, 60, 54, 7, 69, 14, 50, 60, 13, 39, 25, 43, 26, 9, 30, 70, 22, 51, 68, 28, 55, 38, 42, 27, 116, 54, 72, 96, 100, 24, 38, 72, 41, 41, 52, 38, 8, 15, 8, 30, 22, 14, 17, 24, 23, 21, 32, 18, 40, 19, 28, 29, 40, 40, 39, 20, 24, 9, 17, 20, 28, 29, 20, 29, 28, 4, 59, 19, 17, 36, 39, 65, 17, 25, 21, 22, 8, 5, 30, 31, 24, 12, 18, 17, 17, 17, 17, 16, 18, 17, 16, 17, 17, 16, 21, 49, 9, 10, 15, 46, 16, 18, 67, 67, 63, 44, 67, 33, 20, 19, 42, 50, 39, 38, 50, 35, 14, 48, 37, 4, 41, 51, 51, 126, 42, 56, 47, 81, 40, 38, 25, 32, 45, 13, 57, 52, 48, 62, 46, 65, 70, 50, 77, 26, 70, 23, 56, 65, 60, 67, 37, 12, 46, 16, 55, 35, 12, 72, 10, 13, 11, 65, 37, 11, 53, 17, 10, 53, 60, 54, 54, 57, 60, 12, 57, 34, 37, 53, 59, 77, 28, 27, 27, 50, 40, 68, 57, 79, 5, 52, 11, 70, 60, 21, 13, 83, 79, 36, 2, 2, 1, 10, 9, 8, 10, 5, 16, 28, 17, 45, 40, 52, 59, 54, 25, 52, 53, 54, 62, 53, 52, 6, 40, 26, 11, 8, 31, 7, 8, 6, 47, 29, 30, 32, 18, 18, 11, 20, 20, 19, 28, 28, 29, 41, 12, 4, 28, 15, 10, 9, 27, 14, 13, 31, 19, 26, 26, 21, 36, 1, 19, 5, 46, 38, 11, 38, 49, 12, 34, 60, 4, 21, 4, 25, 14, 28, 45, 33, 38, 17, 47, 14, 44, 11, 12, 10, 9, 7, 18, 5, 1, 24, 57, 54, 57, 92, 13, 15, 18, 17, 15, 15, 4, 38, 20, 39, 32, 11, 16, 10, 34, 45, 47, 52, 40, 39, 14, 109, 75, 14, 51, 23, 36, 3, 36, 58, 18, 38, 37, 49, 33, 16, 59, 36, 41, 49, 40, 60, 36, 39, 58, 45, 49, 15, 15, 15, 15, 28, 37, 35, 7, 14, 13, 15, 13, 16, 31, 17, 15, 13, 14, 39, 14, 14, 56, 49, 41, 55, 60, 67, 12, 18, 11, 16, 23, 12, 4, 40, 30, 55, 21, 46, 38, 49, 40, 53, 47, 48, 16, 14, 7, 3, 2, 12, 59, 42, 38, 34, 11, 19, 9, 21, 71, 23, 25, 37, 66, 74, 33, 66, 38, 63, 65, 35, 47, 19, 67, 14, 19, 12, 6, 1, 30, 40, 30, 42, 5, 16, 18, 42, 54, 18, 16, 40, 16, 19, 21, 33, 3, 77, 29, 38, 41, 80, 72, 56, 40, 60, 15, 61, 7, 2, 7, 18, 68, 63, 15, 29, 27, 26, 26, 30, 35, 29, 26, 24, 22, 47, 26, 107, 36, 2, 39, 38, 27, 43, 33, 43, 57, 41, 37, 35, 32, 85, 63, 33, 27, 23, 25, 26, 20, 25, 26, 26, 26, 23, 24, 38, 30, 38, 54, 47, 22, 30, 26, 31, 26, 29, 24, 25, 24, 24, 25, 22, 24, 27, 27, 25, 28, 25, 77, 76, 81, 79, 70, 70, 78, 67, 67, 70, 71, 70, 71, 38, 39, 42, 68, 83, 79, 38, 39, 4, 78, 89, 74, 68, 70, 70, 80, 57, 93, 41, 64, 39, 38, 35, 42, 40, 34, 37, 60, 53, 58, 63, 63, 71, 38, 58, 57, 67, 57, 36, 15, 7, 64, 11, 52, 7, 50, 61, 51, 65, 57, 46, 48, 50, 48, 59, 47, 48, 37, 38, 41, 46, 86, 35, 31, 68, 51, 24, 47, 73, 56, 43, 43, 65, 4, 78, 56, 67, 78, 67, 63, 39, 62, 59, 53, 81, 64, 32, 46, 70, 55, 60, 58, 50, 15, 5, 8, 18, 4, 20, 59, 65, 55, 63, 46, 11, 58, 70, 78, 54, 76, 91, 77, 15, 31, 57, 76, 58, 58, 14, 52, 70, 57, 65, 13, 39, 10, 70, 46, 58, 67, 60, 55, 24, 32, 56, 11, 48, 61, 38, 11, 18, 17, 98, 24, 13, 24, 24, 23, 23, 28, 14, 37, 22, 22, 22, 17, 36, 57, 45, 13, 25, 17, 23, 37, 38, 18, 48, 55, 3, 17, 21, 47, 12, 26, 48, 30, 47, 5, 27, 40, 40, 41, 40, 48, 41, 42, 1, 41, 26, 42, 9, 11, 16, 2, 7, 8, 31, 36, 24, 23, 39, 20, 27, 34, 5, 10, 18, 39, 40, 40, 31, 39, 40, 47, 26, 21, 45, 43, 40, 18, 20, 22, 18, 38, 47, 39, 16, 41, 44, 3, 62, 42, 36, 44, 36, 36, 72, 28, 25, 29, 37, 32, 14, 54, 27, 62, 42, 66, 49, 36, 47, 38, 51, 41, 41, 46, 72, 45, 5, 62, 18, 2, 36, 24, 15, 31, 20, 67, 58, 14, 28, 41, 27, 16, 38, 32, 12, 47, 17, 3, 20, 24, 49, 41, 9, 17, 14, 13, 16, 32, 34, 56, 38, 64, 59, 22, 44, 11, 10, 12, 15, 24, 10, 54, 30, 65, 60, 35, 68, 11, 39, 21, 35, 51, 15, 22, 6, 19, 5, 39, 69, 12, 45, 8, 9, 35, 44, 11, 15, 20, 47, 11, 18, 14, 42, 21, 16, 21, 10, 9, 31, 37, 63, 41, 15, 51, 14, 74, 14, 12, 13, 38, 62, 4, 57, 41, 56, 48, 48, 50, 17, 43, 38, 37, 33, 47, 41, 11, 11, 38, 63, 38, 40, 33, 35, 40, 36, 37, 38, 38, 36, 11, 33, 33, 41, 34, 38, 32, 48, 33, 8, 10, 8, 26, 35, 28, 40, 64, 37, 35, 37, 35, 28, 11, 30, 48, 37, 52, 13, 40, 38, 40, 49, 38, 40, 32, 22, 34, 8, 9, 10, 32, 27, 22, 59, 11, 17, 58, 36, 54, 54, 66, 59, 70, 60, 32, 62, 62, 64, 10, 13, 9, 13, 14, 11, 26, 26, 53, 51, 51, 13, 51, 51, 34, 51, 42, 55, 49, 49, 55, 51, 43, 9, 49, 57, 51, 52, 41, 11, 31, 31, 32, 64, 31, 13, 92, 29, 66, 47, 29, 26, 38, 47, 30, 61, 57, 31, 27, 61, 32, 12, 28, 52, 28, 59, 37, 27, 43, 30, 37, 39, 37, 36, 25, 37, 34, 30, 13, 35, 45, 45, 61, 37, 37, 26, 34, 34, 3, 33, 75, 27, 15, 54, 49, 60, 34, 6, 53, 35, 57, 29, 37, 41, 37, 38, 42, 37, 39, 67, 37, 27, 13, 20, 17, 34, 41, 31, 50, 74, 64, 69, 15, 58, 53, 54, 57, 48, 50, 52, 50, 48, 63, 66, 57, 67, 56, 27, 14, 53, 33, 63, 46, 39, 65, 69, 69, 14, 33, 63, 57, 37, 106, 61, 78, 84, 54, 38, 72, 63, 41, 22, 21, 66, 67, 58, 14, 27, 17, 64, 14, 15, 29, 23, 43, 24, 48, 33, 33, 52, 75, 121, 4, 36, 47, 28, 4, 62, 148, 54, 5, 8, 6, 16, 8, 2, 25, 48, 42, 40, 35, 36, 3, 36, 10, 38, 31, 9, 44, 19, 6, 34, 41, 6, 19, 35, 39, 16, 10, 55, 59, 69, 67, 45, 7, 8, 8, 7, 8, 9, 8, 11, 67, 57, 76, 13, 16, 16, 58, 17, 16, 11, 18, 30, 51, 32, 6, 51, 33, 63, 49, 23, 68, 14, 73, 26, 23, 26, 27, 60, 34, 35, 54, 38, 36, 24, 15, 3, 48, 27, 25, 8, 1, 4, 39, 5, 42, 6, 34, 5, 34, 4, 57, 44, 61, 39, 20, 5, 50, 57, 10, 5, 24, 11, 70, 73, 59, 71, 63, 76, 79, 41, 26, 35, 60, 69, 50, 76, 87, 78, 8, 1, 6, 11, 55, 23, 19, 23, 26, 37, 2, 9, 2, 2, 2, 2, 5, 56, 10, 11, 29, 1, 39, 35, 18, 13, 28, 3, 4, 29, 25, 32, 27, 33, 46, 6, 5, 7, 7, 14, 35, 11, 11, 66, 35, 64, 29, 23, 13, 29, 34, 31, 24, 20, 19, 30, 25, 35, 34, 32, 79, 22, 85, 78, 76, 6, 79, 80, 5, 70, 78, 15, 23, 4, 23, 40, 39, 40, 17, 41, 37, 40, 40, 37, 25, 47, 88, 25, 25, 44, 15, 25, 8, 5, 69, 23, 24, 13, 14, 6, 36, 26, 11, 15, 18, 20, 15, 18, 3, 26, 16, 11, 24, 24, 18, 13, 11, 18, 7, 14, 9, 16, 18, 19, 10, 18, 15, 14, 38, 69, 28, 66, 66, 31, 28, 38, 15, 49, 31, 24, 25, 52, 39, 35, 52, 42, 29, 37, 99, 27, 60, 58, 51, 59, 56, 22, 44, 59, 23, 13, 25, 46, 47, 50, 47, 65, 55, 54, 51, 61, 43, 51, 44, 49, 46, 52, 55, 54, 56, 66, 51, 52, 51, 50, 44, 27, 7, 5, 8, 68, 11, 53, 40, 49, 63, 54, 1, 11, 10, 2, 9, 1, 4, 26, 57, 45, 23, 6, 17, 38, 47, 8, 35, 9, 43, 51, 14, 19, 22, 26, 22, 59, 44, 55, 13, 24, 9, 17, 21, 6, 27, 9, 26, 37, 9, 54, 40, 41, 48, 23, 14, 25, 22, 16, 15, 21, 31, 55, 58, 61, 60, 47, 18, 14, 59, 42, 1, 2, 1, 1, 45, 1, 10, 1, 2, 35, 2, 31, 36, 41, 32, 31, 32, 27, 12, 18, 22, 9, 19, 16, 18, 18, 13, 56, 2, 26, 18, 54, 55, 58, 28, 15, 7, 59, 6, 19, 16, 7, 10, 19, 16, 16, 22, 10, 62, 67, 61, 43, 14, 7, 62, 22, 15, 39, 39, 55, 56, 61, 18, 18, 22, 35, 35, 15, 25, 23, 15, 30, 16, 25, 25, 28, 27, 36, 55, 56, 52, 40, 36, 25, 24, 57, 9, 26, 42, 40, 39, 42, 38, 41, 42, 42, 40, 51, 66, 67, 70, 73, 38, 42, 116, 57, 6, 6, 8, 16, 13, 46, 48, 15, 49, 46, 50, 69, 74, 77, 71, 52, 76, 36, 39, 53, 43, 7, 26, 69, 72, 73, 65, 73, 65, 71, 16, 24, 24, 26, 29, 25, 20, 26, 18, 26, 17, 25, 29, 16, 33, 14, 40, 12, 37, 20, 28, 48, 39, 16, 58, 47, 65, 60, 11, 16, 7, 38, 64, 64, 66, 56, 18, 23, 100, 12, 25, 34, 24, 25, 22, 28, 6, 7, 24, 5, 3, 65, 70, 24, 18, 37, 13, 4, 32, 58, 32, 25, 45, 40, 25, 35, 17, 10, 21, 60, 49, 11, 60, 13, 22, 67, 11, 27, 49, 11, 42, 39, 45, 55, 37, 66, 58, 6, 71, 32, 55, 48, 3, 9, 35, 4, 6, 21, 5, 5, 11, 40, 30, 25, 27, 32, 32, 24, 38, 27, 18, 17, 9, 33, 46, 38, 17, 22, 39, 34, 25, 31, 22, 30, 25, 21, 23, 28, 29, 19, 14, 24, 24, 28, 12, 17, 36, 33, 58, 34, 24, 36, 33, 34, 45, 29, 31, 19, 25, 60, 19, 38, 14, 57, 43, 38, 22, 16, 15, 26, 53, 50, 49, 8, 52, 9, 35, 21, 21, 61, 22, 54, 12, 10, 29, 59, 19, 24, 13, 63, 2, 2, 19, 16, 12, 35, 3, 2, 11, 6, 1, 4, 36, 40, 9, 33, 36, 33, 36, 40, 9, 49, 27, 34, 37, 4, 32, 7, 39, 38, 63, 54, 61, 76, 7, 4, 20, 37, 62, 83, 18, 60, 32, 8, 42, 42, 40, 34, 26, 28, 18, 32, 34, 13, 42, 32, 14, 33, 52, 56, 44, 38, 33, 29, 37, 26, 20, 13, 32, 56, 26, 17, 20, 16, 12, 14, 29, 20, 18, 16, 12, 37, 10, 31, 30, 24, 24, 56, 21, 24, 23, 24, 30, 35, 23, 17, 38, 13, 29, 32, 20, 15, 56, 18, 19, 45, 31, 17, 24, 36, 15, 22, 45, 51, 40, 6, 22, 62, 58, 61, 14, 11, 21, 12, 68, 59, 3, 5, 24, 29, 29, 28, 28, 8, 3, 23, 40, 30, 29, 27, 39, 34, 4, 30, 32, 31, 17, 27, 31, 11, 17, 29, 18, 31, 12, 69, 67, 22, 39, 52, 34, 23, 13, 14, 57, 33, 11, 34, 32, 33, 36, 49, 14, 5, 5, 28, 39, 42, 47, 5, 13, 7, 6, 5, 9, 17, 15, 33, 39, 24, 34, 23, 9, 62, 42, 37, 41, 41, 24, 12, 13, 32, 3, 40, 39, 44, 37, 6, 5, 10, 38, 36, 34, 32, 10, 13, 64, 23, 26, 7, 48, 1, 7, 47, 11, 6, 28, 47, 59, 26, 13, 5, 28, 7, 24, 17, 18, 42, 8, 23, 31, 24, 34, 22, 38, 34, 14, 17, 16, 22, 44, 15, 42, 43, 44, 28, 18, 9, 50, 11, 35, 53, 34, 29, 30, 38, 48, 43, 43, 42, 41, 19, 12, 41, 7, 56, 5, 42, 25, 5, 8, 56, 16, 13, 15, 28, 9, 27, 18, 15, 27, 28, 10, 7, 5, 4, 8, 7, 8, 66, 13, 16, 10, 33, 5, 24, 21, 9, 30, 25, 20, 17, 14, 36, 44, 40, 33, 12, 39, 14, 40, 42, 43, 32, 56, 17, 20, 32, 3, 8, 9, 19, 24, 21, 9, 13, 15, 57, 2, 25, 11, 21, 22, 28, 23, 28, 28, 28, 25, 10, 23, 27, 26, 45, 4, 59, 49, 60, 60, 55, 32, 40, 33, 32, 36, 35, 41, 10, 10, 48, 5, 8, 64, 18, 30, 30, 14, 22, 16, 28, 21, 48, 28, 12, 19, 37, 28, 31, 29, 32, 30, 53, 21, 31, 23, 13, 61, 10, 3, 13, 14, 13, 9, 5, 29, 22, 23, 26, 18, 20, 9, 40, 18, 21, 13, 51, 21, 37, 32, 14, 19, 30, 34, 9, 29, 29, 19, 11, 16, 19, 6, 42, 28, 7, 2, 17, 38, 55, 34, 26, 44, 33, 33, 9, 32, 11, 6, 28, 37, 6, 36, 15, 4, 23, 22, 15, 32, 37, 19, 9, 21, 17, 26, 35, 18, 34, 43, 14, 17, 9, 15, 25, 14, 41, 60, 9, 6, 7, 47, 49, 24, 12, 11, 12, 12, 13, 11, 12, 49, 63, 13, 41, 21, 13, 15, 30, 19, 2, 23, 5, 20, 49, 26, 4, 19, 24, 20, 43, 21, 42, 16, 16, 33, 6, 3, 24, 7, 13, 11, 9, 7, 6, 11, 9, 5, 2, 6, 25, 10, 17, 13, 13, 11, 2, 51, 19, 25, 2, 38, 12, 33, 36, 25, 12, 9, 25, 21, 23, 4, 39, 13, 4, 13, 25, 5, 36, 27, 28, 24, 27, 46, 26, 9, 11, 15, 17, 27, 4, 30, 30, 33, 32, 32, 36, 16, 9, 21, 27, 27, 22, 9, 46, 47, 20, 30, 40, 8, 21, 42, 22, 11, 11, 11, 22, 30, 22, 25, 20, 9, 30, 4, 12, 40, 29, 43, 27, 21, 26, 27, 10, 29, 26, 30, 22, 27, 51, 47, 30, 29, 28, 5, 3, 3, 10, 3, 3, 3, 11, 6, 3, 4, 9, 50, 15, 32, 34, 8, 4, 33, 39, 6, 11, 6, 22, 7, 6, 24, 5, 31, 3, 24, 2, 4, 41, 6, 3, 12, 5, 8, 4, 5, 24, 26, 41, 9, 2, 12, 3, 27, 23, 31, 35, 1, 48, 44, 43, 29, 14, 15, 10, 39, 27, 4, 13, 9, 21, 24, 9, 21, 26, 41, 56, 20, 19, 10, 28, 44, 39, 41, 3, 5, 5, 52, 10, 22, 25, 8, 24, 11, 21, 27, 33, 14, 24, 28, 28, 5, 10, 5, 15, 2, 6, 9, 14, 8, 6, 4, 7, 8, 8, 39, 9, 9, 9, 31, 9, 34, 24, 33, 32, 34, 32, 31, 69, 18, 21, 9, 29, 14, 40, 11, 22, 57, 7, 21, 56, 17, 28, 48, 3, 3, 34, 4, 2, 10, 34, 30, 30, 3, 8, 9, 3, 3, 5, 13, 4, 7, 6, 4, 3, 34, 2, 5, 3, 45, 10, 42, 4, 6, 9, 6, 2, 3, 10, 6, 44, 78, 42, 45, 46, 20, 33, 13, 5, 7, 4, 5, 9, 4, 7, 6, 5, 3, 3, 4, 2, 17, 3, 22, 35, 35, 30, 4, 37, 31, 21, 24, 13, 3, 4, 5, 38, 43, 30, 9, 3, 6, 47, 10, 8, 4, 30, 33, 43, 4, 9, 6, 7, 4, 3, 16, 16, 3, 3, 18, 3, 26, 12, 4, 3, 47, 4, 3, 5, 4, 4, 6, 18, 2, 21, 23, 27, 5, 28, 28, 29, 18, 29, 31, 27, 23, 25, 33, 3, 51, 12, 34, 31, 46, 3, 10, 13, 3, 3, 41, 44, 6, 3, 34, 32, 44, 12, 10, 10, 40, 41, 51, 8, 15, 55, 20, 59, 8, 47, 10, 54, 51, 50, 55, 27, 28, 3, 34, 19, 51, 35, 38, 41, 39, 39, 34, 15, 52, 17, 18, 6, 7, 5, 5, 6, 14, 11, 34, 45, 6, 11, 20, 31, 43, 38, 8, 13, 5, 8, 13, 36, 11, 8, 2, 43, 13, 14, 16, 30, 13, 9, 61, 10, 33, 22, 55, 57, 30, 14, 58, 9, 8, 29, 20, 20, 6, 3, 16, 28, 32, 21, 2, 17, 12, 9, 9, 7, 3, 3, 4, 34, 35, 33, 27, 6, 36, 12, 14, 33, 23, 14, 20, 21, 24, 60, 20, 54, 42, 14, 78, 68, 20, 44, 28, 41, 57, 28, 25, 8, 4, 26, 32, 27, 4, 26, 8, 21, 43, 41, 21, 41, 35, 35, 26, 20, 36, 27, 8, 20, 6, 27, 32, 42, 55, 34, 17, 35, 13, 9, 58, 23, 13, 6, 8, 51, 57, 6, 58, 35, 32, 12, 30, 34, 33, 31, 59, 42, 23, 57, 8, 53, 25, 56, 13, 56, 26, 1, 8, 20, 1, 21, 71, 36, 50, 20, 49, 9, 7, 51, 6, 39, 54, 51, 21, 42, 18, 20, 32, 51, 42, 16, 1, 32, 27, 5, 14, 47, 30, 12, 7, 46, 25, 6, 12, 20, 5, 15, 8, 24, 53, 32, 41, 46, 43, 50, 51, 22, 36, 52, 51, 44, 60, 33, 34, 46, 10, 55, 54, 55, 53, 48, 34, 31, 47, 45, 17, 38, 48, 28, 22, 23, 16, 63, 7, 1, 1, 27, 64, 2, 15, 54, 9, 14, 11, 2, 8, 11, 54, 43, 36, 23, 13, 41, 34, 1, 10, 7, 22, 10, 16, 97, 26, 44, 95, 54, 31, 44, 6, 42, 41, 42, 50, 45, 43, 61, 24, 10, 16, 18, 24, 2, 31, 39, 3, 35, 1, 2, 9, 25, 30, 20, 28, 11, 27, 53, 21, 19, 19, 35, 38, 26, 55, 44, 31, 21, 56, 26, 26, 41, 28, 27, 51, 62, 25, 36, 30, 7, 7, 33, 15, 34, 14, 48, 48, 42, 37, 33, 26, 28, 32, 15, 50, 32, 10, 6, 31, 5, 11, 5, 3, 5, 27, 25, 22, 20, 22, 38, 33, 19, 11, 44, 24, 42, 26, 2, 25, 37, 53, 8, 25, 61, 40, 23, 40, 2, 2, 1, 7, 2, 21, 4, 31, 25, 50, 44, 19, 25, 32, 33, 7, 4, 49, 29, 45, 12, 32, 23, 44, 45, 28, 20, 79, 24, 3, 15, 35, 12, 11, 40, 49, 26, 35, 39, 30, 33, 22, 24, 64, 27, 76, 23, 50, 41, 77, 17, 42, 10, 22, 8, 28, 57, 28, 39, 5, 22, 7, 74, 34, 82, 47, 14, 46, 41, 29, 23, 64, 21, 54, 35, 39, 22, 26, 39, 29, 17, 17, 17, 17, 16, 17, 54, 17, 17, 33, 31, 51, 48, 16, 38, 29, 43, 43, 18, 22, 17, 22, 38, 28, 7, 10, 9, 9, 42, 39, 44, 2, 46, 34, 8, 54, 20, 23, 18, 50, 47, 23, 56, 5, 35, 17, 37, 54, 30, 15, 58, 50, 36, 5, 49, 15, 4, 16, 45, 2, 38, 34, 34, 42, 53, 6, 41, 26, 22, 3, 47, 40, 5, 39, 28, 13, 33, 11, 20, 31, 27, 29, 15, 41, 25, 22, 20, 57, 42, 8, 58, 48, 23, 26, 15, 18, 5, 9, 21, 10, 60, 11, 51, 42, 33, 29, 38, 41, 34, 34, 45, 20, 47, 43, 12, 4, 42, 25, 11, 43, 34, 20, 12, 60, 15, 25, 16, 35, 51, 2, 7, 42, 22, 33, 6, 40, 47, 16, 18, 38, 27, 30, 30, 29, 29, 31, 21, 4, 23, 23, 31, 35, 9, 29, 40, 76, 12, 22, 9, 21, 24, 34, 11, 32, 60, 76, 9, 8, 40, 62, 10, 15, 25, 43, 13, 27, 49, 43, 43, 34, 26, 46, 45, 11, 23, 60, 20, 58, 23, 48, 40, 23, 43, 29, 29, 42, 50, 27, 23, 1, 10, 59, 63, 69, 10, 9, 8, 4, 61, 67, 12, 27, 5, 51, 4, 8, 8, 4, 3, 39, 37, 53, 48, 29, 50, 6, 4, 8, 9, 59, 52, 8, 10, 32, 51, 49, 37, 31, 44, 32, 22, 14, 19, 8, 30, 21, 14, 4, 50, 32, 4, 42, 45, 24, 24, 14, 20, 19, 21, 33, 49, 21, 20, 43, 33, 30, 43, 43, 2, 21, 50, 53, 17, 17, 16, 40, 41, 25, 20, 17, 44, 36, 44, 41, 18, 34, 41, 24, 24, 23, 25, 3, 30, 47, 45, 41, 44, 12, 34, 26, 53, 25, 8, 23, 24, 16, 19, 50, 7, 47, 43, 58, 50, 12, 7, 9, 54, 36, 51, 25, 14, 56, 11, 22, 54, 12, 24, 32, 27, 36, 41, 36, 11, 11, 10, 11, 36, 27, 10, 38, 49, 42, 45, 13, 45, 53, 9, 2, 23, 3, 14, 8, 35, 7, 48, 30, 63, 6, 17, 23, 38, 12, 11, 9, 38, 21, 44, 11, 17, 10, 27, 15, 35, 8, 24, 24, 27, 25, 47, 51, 39, 46, 8, 50, 36, 42, 32, 18, 9, 34, 37, 11, 12, 11, 10, 10, 11, 12, 6, 11, 15, 49, 29, 10, 5, 8, 56, 20, 16, 42, 27, 25, 26, 28, 41, 23, 18, 18, 34, 29, 36, 34, 6, 17, 18, 16, 66, 6, 20, 26, 19, 8, 7, 28, 45, 39, 24, 26, 36, 2, 31, 49, 38, 6, 4, 36, 34, 25, 35, 10, 1, 42, 6, 25, 2, 36, 28, 8, 4, 8, 11, 8, 5, 5, 47, 32, 53, 37, 15, 12, 41, 10, 6, 9, 10, 28, 42, 20, 16, 23, 50, 11, 15, 4, 35, 45, 39, 5, 5, 4, 5, 40, 57, 6, 17, 39, 19, 3, 27, 22, 5, 49, 49, 7, 20, 14, 42, 5, 7, 5, 12, 17, 50, 44, 44, 19, 40, 48, 17, 1, 22, 38, 28, 47, 21, 28, 32, 26, 8, 36, 56, 16, 39, 5, 29, 10, 46, 31, 22, 45, 48, 43, 31, 14, 17, 28, 3, 2, 10, 3, 14, 5, 49, 26, 13, 27, 1, 13, 7, 7, 33, 27, 6, 17, 8, 6, 52, 8, 14, 24, 12, 20, 6, 41, 6, 18, 38, 27, 6, 33, 40, 6, 12, 12, 39, 53, 15, 11, 2, 12, 44, 9, 4, 19, 18, 11, 53, 13, 29, 42, 14, 45, 16, 7, 4, 24, 10, 13, 7, 25, 5, 33, 29, 47, 24, 37, 40, 14, 23, 23, 26, 5, 35, 7, 2, 51, 2, 5, 3, 40, 2, 7, 16, 29, 47, 8, 23, 2, 1, 64, 39, 32, 20, 20, 39, 39, 23, 55, 4, 1, 1, 19, 40, 1, 1, 1, 2, 6, 17, 15, 35, 8, 32, 7, 6, 5, 30, 43, 18, 14, 28, 11, 9, 6, 22, 23, 31, 56, 37, 37, 7, 20, 25, 14, 13, 13, 14, 14, 25, 5, 8, 38, 20, 21, 50, 57, 15, 15, 10, 29, 55, 11, 39, 5, 5, 5, 5, 5, 47, 14, 18, 14, 11, 21, 26, 49, 35, 35, 16, 10, 37, 2, 33, 6, 16, 49, 32, 36, 20, 38, 6, 1, 35, 22, 36, 15, 6, 36, 50, 19, 2, 29, 36, 46, 10, 8, 12, 5, 11, 4, 41, 24, 27, 20, 22, 29, 23, 30, 27, 16, 23, 22, 13, 6, 29, 5, 12, 14, 5, 67, 53, 56, 14, 48, 67, 13, 45, 20, 2, 16, 22, 22, 15, 34, 33, 31, 38, 15, 10, 31, 34, 8, 35, 35, 4, 16, 34, 2, 4, 3, 1, 36, 5, 2, 9, 18, 44, 26, 31, 13, 38, 10, 18, 22, 22, 4, 42, 20, 21, 4, 1, 24, 6, 5, 32, 2, 3, 1, 20, 14, 23, 39, 41, 30, 7, 5, 26, 2, 30, 30, 41, 6, 46, 56, 2, 20, 21, 18, 33, 7, 18, 39, 10, 10, 49, 49, 15, 40, 24, 48, 17, 42, 38, 5, 29, 27, 5, 2, 2, 7, 4, 4, 5, 16, 15, 28, 15, 2, 35, 32, 9, 14, 5, 36, 34, 37, 14, 4, 38, 35, 54, 14, 16, 4, 32, 27, 35, 2, 5, 24, 24, 5, 51, 23, 56, 14, 20, 32, 31, 19, 22, 33, 33, 30, 36, 11, 15, 16, 13, 11, 10, 10, 18, 37, 34, 5, 12, 20, 42, 54, 9, 2, 12, 13, 34, 13, 15, 20, 26, 1, 13, 5, 32, 23, 38, 41, 58, 42, 10, 12, 12, 43, 29, 30, 17, 34, 41, 2, 12, 32, 6, 39, 18, 42, 10, 34, 39, 16, 26, 33, 11, 15, 38, 20, 27, 31, 4, 28, 24, 5, 52, 53, 52, 52, 61, 53, 65, 19, 18, 48, 10, 18, 22, 12, 12, 9, 34, 39, 33, 36, 40, 33, 44, 34, 13, 12, 14, 7, 2, 1, 9, 1, 5, 2, 4, 31, 37, 33, 26, 35, 20, 13, 12, 25, 34, 35, 51, 39, 38, 6, 4, 6, 27, 5, 2, 5, 33, 36, 2, 12, 33, 29, 2, 4, 7, 40, 25, 3, 16, 5, 37, 40, 3, 1, 15, 4, 30, 3, 1, 35, 33, 34, 3, 12, 24, 3, 5, 2, 34, 17, 29, 11, 37, 42, 31, 25, 19, 26, 6, 2, 7, 7, 11, 11, 4, 14, 55, 34, 25, 10, 7, 6, 7, 13, 41, 11, 13, 14, 34, 52, 14, 30, 28, 40, 16, 8, 5, 14, 23, 31, 30, 10, 25, 26, 26, 22, 13, 36, 10, 10, 10, 36, 9, 29, 14, 18, 15, 2, 44, 21, 16, 45, 40, 45, 25, 56, 18, 7, 13, 22, 18, 5, 8, 34, 3, 19, 19, 22, 21, 19, 11, 12, 22, 11, 41, 51, 39, 40, 39, 49, 11, 4, 50, 3, 13, 9, 14, 16, 9, 15, 12, 17, 12, 15, 12, 14, 9, 18, 23, 22, 47, 13, 9, 32, 12, 16, 4, 24, 2, 10, 19, 18, 2, 28, 14, 6, 30, 2, 13, 26, 24, 25, 24, 23, 20, 12, 18, 7, 33, 22, 16, 6, 20, 33, 30, 20, 12, 20, 10, 14, 20, 15, 18, 18, 3, 11, 20, 16, 8, 11, 14, 16, 5, 20, 21, 11, 16, 34, 11, 20, 2, 14, 3, 13, 10, 3, 8, 3, 11, 19, 4, 30, 2, 1, 3, 13, 5, 12, 3, 33, 33, 38, 34, 29, 31, 4, 50, 38, 23, 13, 12, 6, 30, 30, 17, 17, 38, 23, 3, 5, 8, 32, 5, 29, 14, 11, 13, 10, 3, 9, 3, 18, 3, 2, 3, 10, 6, 2, 12, 3, 11, 19, 12, 14, 2, 13, 17, 14, 12, 14, 16, 5, 16, 6, 13, 7, 3, 15, 9, 7, 9, 31, 35, 45, 7, 10, 11, 5, 3, 3, 14, 28, 4, 10, 18, 22, 14, 1, 1, 14, 30, 5, 12, 11, 16, 9, 25, 8, 18, 23, 22, 20, 34, 34, 21, 9, 5, 9, 11, 2, 7, 16, 12, 15, 31, 21, 25, 19, 14, 19, 22, 36, 29, 16, 18, 11, 17, 22, 4, 33, 14, 57, 33, 19, 30, 14, 5, 38, 48, 31, 19, 12, 17, 46, 5, 30, 31, 35, 1, 1, 7, 10, 32, 30, 15, 16, 15, 16, 14, 6, 6, 12, 6, 10, 15, 11, 22, 21, 15, 1, 7, 22, 7, 4, 1, 3, 1, 49, 2, 4, 5, 7, 3, 2, 33, 16, 38, 14, 19, 46, 30, 7, 11, 13, 14, 12, 18, 5, 13, 16, 34, 9, 8, 11, 19, 14, 18, 9, 11, 9, 21, 25, 10, 17, 5, 30, 21, 8, 10, 2, 8, 11, 20, 15, 11, 2, 3, 16, 10, 2, 33, 14, 17, 19, 32, 16, 16, 18, 23, 22, 16, 23, 4, 4, 26, 7, 20, 26, 1, 1, 31, 35, 31, 5, 15, 31, 8, 31, 28, 3, 38, 32, 37, 7, 15, 34, 23, 1, 37, 2, 11, 10, 8, 39, 29, 9, 9, 15, 19, 19, 10, 8, 17, 12, 12, 17, 14, 7, 19, 3, 12, 3, 11, 13, 4, 4, 14, 29, 33, 7, 5, 46, 4, 5, 2, 46, 7, 20, 7, 2, 20, 31, 24, 45, 9, 16, 9, 48, 6, 4, 3, 5, 5, 2, 11, 5, 21, 14, 15, 5, 22, 9, 22, 18, 5, 22, 8, 39, 33, 9, 10, 5, 6, 7, 5, 21, 5, 6, 1, 2, 5, 34, 25, 5, 19, 16, 13, 14, 33, 26, 6, 31, 26, 29, 29, 10, 14, 30, 42, 32, 34, 25, 25, 8, 8, 26, 11, 41, 21, 28, 10, 32, 14, 1, 6, 16, 18, 13, 5, 22, 27, 44, 34, 7, 37, 24, 31, 27, 36, 3, 9, 29, 11, 38, 11, 47, 18, 10, 11, 5, 24, 26, 9, 7, 17, 7, 31, 30, 23, 3, 10, 35, 5, 23, 4, 24, 25, 19, 19, 22, 1, 37, 15, 15, 19, 2, 28, 8, 35, 32, 32, 32, 26, 31, 30, 36, 19, 27, 15, 29, 8, 31, 15, 31, 39, 35, 30, 22, 22, 26, 20, 15, 20, 12, 21, 19, 18, 22, 26, 20, 17, 25, 28, 26, 14, 14, 13, 9, 12, 24, 30, 10, 13, 14, 27, 13, 14, 15, 16, 26, 12, 24, 27, 12, 27, 25, 26, 16, 18, 25, 7, 17, 14, 42, 5, 13, 18, 3, 7, 43, 41, 42, 31, 21, 9, 11, 18, 28, 36, 36, 10, 29, 37, 38, 44, 38, 44, 11, 15, 14, 11, 22, 25, 15, 10, 21, 19, 33, 29, 28, 39, 38, 38, 36, 9, 22, 1, 29, 18, 17, 25, 12, 37, 40, 45, 21, 23, 29, 36, 38, 33, 8, 43, 39, 41, 20, 31, 21, 13, 12, 10, 17, 21, 14, 12, 22, 29, 22, 17, 36, 18, 19, 23, 17, 33, 5, 17, 15, 2, 17, 18, 24, 3, 3, 12, 13, 2, 7, 21, 13, 17, 6, 21, 19, 18, 40, 18, 4, 30, 22, 18, 20, 16, 23, 1, 14, 16, 39, 15, 18, 8, 12, 20, 18, 14, 11, 35, 24, 38, 36, 39, 9, 26, 27, 27, 24, 32, 5, 23, 18, 16, 28, 20, 17, 13, 14, 11, 14, 9, 16, 11, 25, 25, 18, 12, 20, 24, 19, 21, 19, 17, 14, 13, 16, 7, 4, 14, 12, 17, 16, 19, 16, 18, 20, 21, 18, 14, 15, 14, 2, 8, 24, 21, 26, 12, 15, 14, 14, 5, 6, 9, 4, 8, 23, 27, 26, 33, 11, 20, 19, 17, 28, 37, 20, 24, 18, 17, 20, 18, 19, 14, 6, 15, 8, 8, 29, 9, 20, 21, 18, 22, 17, 19, 17, 22, 14, 17, 23, 17, 18, 43, 17, 2, 19, 13, 16, 34, 14, 16, 25, 10, 13, 14, 17, 15, 14, 13, 13, 17, 14, 14, 14, 35, 35, 31, 13, 13, 15, 12, 40, 32, 9, 17, 16, 20, 11, 12, 19, 14, 8, 39, 4, 13, 13, 10, 15, 14, 12, 11, 26, 42, 34, 16, 16, 13, 12, 13, 18, 38, 16, 16, 11, 17, 13, 10, 29, 1, 23, 16, 16, 12, 11, 14, 13, 16, 16, 17, 19, 34, 21, 19, 18, 17, 19, 18, 20, 41, 17, 19, 17, 22, 30, 21, 17, 12, 20, 10, 19, 17, 9, 16, 38, 4, 34, 37, 5, 29, 14, 30, 11, 29, 6, 30, 5, 24, 15, 14, 21, 10, 28, 15, 7, 7, 22, 12, 31, 48, 6, 15, 32, 31, 19, 36, 25, 25, 28, 39, 10, 38, 22, 21, 36, 11, 45, 39, 13, 14, 9, 12, 15, 33, 16, 14, 4, 12, 17, 4, 22, 13, 10, 11, 8, 34, 35, 31, 12, 15, 34, 10, 10, 33, 16, 13, 19, 12, 14, 16, 13, 9, 10, 30, 16, 14, 33, 15, 19, 36, 15, 8, 9, 16, 9, 13, 15, 13, 11, 11, 11, 13, 15, 16, 11, 14, 17, 16, 13, 15, 16, 15, 16, 3, 28, 14, 2, 52, 52, 52, 38, 52, 17, 8, 12, 13, 16, 13, 28, 10, 8, 10, 7, 11, 13, 13, 9, 14, 13, 30, 12, 13, 18, 16, 13, 13, 17, 5, 21, 13, 24, 22, 5, 52, 52, 37, 14, 9, 14, 9, 9, 13, 8, 11, 12, 10, 13, 19, 9, 7, 11, 12, 1, 23, 13, 35, 32, 32, 12, 19, 12, 51, 33, 6, 10, 6, 16, 13, 8, 6, 29, 31, 10, 7, 5, 12, 16, 3, 17, 12, 14, 9, 7, 18, 17, 10, 9, 7, 10, 14, 16, 29, 14, 15, 16, 11, 34, 10, 9, 15, 16, 15, 13, 10, 13, 20, 3, 27, 30, 39, 31, 16, 21, 10, 52, 8, 16, 52, 58, 10, 18, 13, 14, 17, 4, 22, 17, 15, 33, 28, 13, 11, 5, 29, 9, 29, 24, 19, 52, 39, 16, 24, 18, 16, 17, 8, 7, 12, 6, 11, 37, 40, 17, 16, 15, 35, 28, 5, 2, 19, 16, 11, 13, 6, 16, 13, 8, 43, 11, 1, 14, 9, 15, 14, 30, 14, 16, 16, 14, 9, 1, 16, 10, 16, 14, 16, 16, 11, 2, 25, 28, 15, 6, 22, 39, 5, 8, 3, 19, 12, 26, 11, 15, 18, 5, 9, 16, 18, 19, 28, 17, 17, 20, 15, 18, 11, 13, 14, 14, 16, 13, 29, 21, 10, 13, 29, 22, 12, 28, 12, 14, 8, 35, 15, 15, 35, 6, 28, 27, 15, 11, 6, 15, 16, 16, 17, 32, 7, 6, 4, 3, 21, 18, 18, 16, 13, 18, 21, 16, 22, 14, 18, 16, 19, 21, 18, 16, 19, 14, 17, 15, 19, 12, 19, 5, 9, 10, 5, 5, 18, 18, 12, 12, 8, 16, 2, 12, 10, 7, 15, 15, 14, 16, 21, 20, 14, 13, 13, 12, 7, 7, 13, 14, 12, 15, 26, 12, 18, 3, 10, 5, 3, 7, 37, 29, 3, 10, 8, 7, 3, 13, 8, 17, 2, 10, 3, 5, 16, 4, 10, 10, 20, 10, 14, 6, 5, 5, 17, 21, 19, 21, 19, 16, 16, 18, 13, 13, 9, 8, 4, 6, 3, 14, 13, 24, 10, 16, 10, 15, 4, 9, 2, 2, 11, 14, 10, 16, 13, 16, 17, 14, 15, 23, 2, 2, 24, 24, 10, 24, 11, 9, 1, 1, 32, 14, 1, 17, 14, 13, 11, 1, 9, 22, 18, 16, 5, 26, 12, 15, 17, 9, 2, 2, 17, 8, 15, 3, 2, 4, 19, 21, 14, 15, 16, 17, 12, 17, 10, 16, 14, 8, 13, 23, 12, 3, 9, 2, 14, 9, 12, 11, 44, 5, 13, 10, 43, 9, 8, 19, 12, 15, 25, 22, 15, 19, 8, 14, 8, 10, 15, 13, 7, 7, 24, 1, 1, 8, 5, 30, 6, 1, 9, 7, 26, 13, 9, 13, 1, 13, 14, 13, 1, 3, 2, 30, 18, 23, 23, 8, 7, 12, 24, 17, 39, 2, 6, 18, 23, 14, 16, 17, 17, 13, 13, 1, 2, 7, 6, 6, 1, 4, 14, 7, 12, 2, 9, 16, 19, 3, 8, 10, 9, 10, 13, 10, 41, 12, 6, 14, 8, 6, 10, 13, 44, 13, 15, 6, 9, 6, 30, 27, 11, 29, 15, 8, 29, 5, 10, 7, 17, 31, 14, 8, 15, 8, 28, 19, 20, 22, 19, 19, 25, 7, 23, 21, 6, 6, 14, 24, 8, 11, 4, 8, 10, 8, 36, 4, 7, 15, 29, 23, 24, 2, 32, 15, 20, 19, 20, 19, 19, 18, 17, 2, 8, 7, 17, 2, 13, 17, 2, 10, 9, 14, 15, 15, 14, 4, 14, 17, 25, 10, 34, 18, 19, 24, 22, 22, 21, 15, 24, 12, 12, 10, 6, 35, 18, 9, 12, 12, 12, 1, 11, 3, 17, 11, 13, 13, 9, 14, 19, 6, 4, 4, 2, 13, 2, 17, 2, 8, 14, 15, 16, 11, 12, 13, 15, 23, 15, 17, 20, 21, 10, 12, 13, 24, 2, 14, 11, 4, 2, 22, 18, 10, 25, 8, 13, 8, 1, 8, 31, 4, 17, 9, 6, 8, 9, 11, 30, 27, 8, 11, 16, 5, 4, 5, 1, 6, 6, 15, 8, 30, 14, 6, 9, 11, 10, 12, 7, 13, 23, 16, 11, 13, 14, 10, 9, 8, 13, 9, 14, 15, 20, 18, 15, 12, 1, 7, 5, 18, 7, 7, 10, 8, 35, 3, 6, 6, 4, 3, 10, 13, 7, 7, 17, 32, 25, 21, 31, 9, 21, 1, 22, 9, 8, 10, 6, 2, 21, 32, 10, 22, 21, 21, 7, 7, 14, 11, 4, 8, 2, 9, 12, 13, 1, 10, 43, 7, 9, 2, 12, 4, 14, 8, 10, 5, 13, 12, 12, 15, 6, 1, 11, 3, 3, 9, 4, 4, 4, 7, 2, 29, 5, 7, 15, 13, 15, 12, 4, 10, 15, 15, 13, 12, 11, 13, 13, 11, 13, 13, 11, 20, 8, 6, 10, 7, 9, 7, 8, 2, 10, 10, 11, 10, 17, 7, 8, 11, 33, 6, 9, 31, 11, 12, 13, 12, 8, 11, 1, 13, 18, 10, 5, 15, 9, 7, 19, 1, 11, 11, 11, 8, 11, 18, 20, 7, 14, 15, 9, 17, 19, 19, 16, 18, 10, 9, 6, 13, 9, 10, 2, 5, 29, 18, 13, 45, 10, 2, 2, 4, 6, 5, 7, 32, 1, 15, 7, 8, 8, 9, 9, 3, 10, 9, 3, 7, 7, 1, 2, 14, 13, 15, 8, 9, 9, 8, 1, 13, 9, 8, 1, 10, 1, 7, 36, 9, 6, 5, 4, 10, 4, 15, 3, 8, 29, 27, 26, 6, 15, 8, 8, 17, 13, 8, 4, 9, 19, 2, 11, 10, 25, 21, 18, 8, 11, 8, 6, 23, 4, 2, 16, 3, 7, 32, 2, 14, 19, 9, 8, 10, 8, 9, 7, 5, 12, 32, 26, 13, 1, 6, 3, 5, 6, 7, 9, 15, 7, 8, 8, 19, 28, 6, 8, 5, 10, 3, 1, 2, 5, 3, 8, 2, 1, 5, 2, 3, 30, 14, 29, 14, 25, 3, 5, 6, 1, 4, 1, 2, 4, 1, 4, 8, 16, 6, 3, 1, 9, 5, 8, 8, 33, 32, 5, 6, 4, 11, 8, 6, 9, 10, 11, 11, 11, 12, 11, 11, 11, 6, 31, 5, 4, 13, 22, 5, 11, 2, 4, 5, 7, 3, 4, 4, 6, 5, 8, 7, 5, 3, 6, 3, 1, 9, 5, 5, 6, 4, 7, 19, 2, 11, 10, 11, 11, 11, 12, 4, 11, 15, 2, 14, 5, 6, 3, 22, 21, 22, 10, 18, 12, 8, 10, 9, 11, 11, 6, 7, 8, 10, 10, 16, 3, 25, 5, 10, 5, 12, 12, 6, 7, 6, 10, 7, 6, 6, 10, 12, 13, 12, 7, 10, 6, 7, 10, 11, 11, 5, 3, 6, 11, 11, 12, 9, 12, 9, 9, 2, 22, 21, 7, 13, 15, 14, 11, 11, 20, 3, 27, 8, 10, 11, 5, 10, 5, 5, 21, 11, 5, 25, 22, 8, 22, 11, 11, 14, 21, 28, 11, 10, 11, 13, 11, 11, 12, 13, 9, 8, 4, 11, 10, 10, 11, 11, 11, 4, 3, 10, 20, 6, 8, 7, 4, 5, 5, 8, 5, 9, 11, 5, 5, 5, 5, 6, 4, 3, 1, 4, 9, 6, 8, 1, 3, 11, 11, 11, 9, 14, 14, 8, 12, 14, 21, 21, 7, 23, 21, 5, 8, 5, 7, 4, 3, 4, 17, 6, 15, 9, 9, 5, 5, 9, 10, 15, 21, 1, 21, 1, 8, 6, 11, 6, 7, 8, 6, 8, 4, 1, 14, 21, 25, 15, 21, 12, 21, 13, 17, 15, 21, 18, 5, 17, 10, 20, 5, 20, 16, 21, 8, 19, 11, 11, 15, 6, 12, 2, 6, 24, 8, 1, 7, 5, 4, 17, 12, 12, 7, 17, 21, 21, 20, 4, 2, 2, 2, 9, 11, 9, 20, 6, 2, 8, 11, 18, 19, 12, 10, 8, 6, 20, 18, 7, 14, 8, 9, 23, 24, 23, 23, 9, 7, 12, 6, 11, 1, 7, 6, 9, 10, 8, 18, 16, 17, 16, 24, 8, 5, 5, 17, 17, 13, 3, 28, 9, 1, 3, 2, 23, 4, 7, 9, 12, 10, 8, 11, 21, 7, 5, 5, 15, 13, 13, 4, 9, 10, 8, 6, 21, 2, 6, 3, 13, 10, 10, 11, 4, 12, 21, 7, 6, 12, 7, 5, 16, 2, 12, 13, 13, 1, 4, 2, 9, 16, 2, 15, 19, 19, 20, 22, 18, 16, 18, 18, 13, 20, 18, 4, 10, 6, 1, 19, 1, 1, 8, 6, 12, 16, 10, 28, 11, 2, 8, 21, 20, 15, 19, 9, 22, 25, 13, 7, 14, 12, 13, 4, 2, 9, 12, 8, 3, 20, 6, 13, 12, 10, 3, 11, 23, 5, 14, 16, 6, 6, 17, 20, 21, 18, 13, 20, 17, 1, 12, 9, 3, 4, 8, 30, 14, 12, 11, 8, 12, 8, 5, 30, 12, 7, 20, 15, 12, 16, 3, 3, 4, 1, 3, 17, 7, 6, 13, 10, 20, 21, 13, 18, 11, 8, 11, 14, 12, 4, 17, 6, 13, 15, 16, 16, 32, 21, 10, 9, 5, 15, 11, 17, 4, 4, 6, 4, 3, 11, 19, 31, 10, 3, 4, 22, 8, 5, 3, 16, 4, 3, 6, 15, 20, 17, 17, 21, 38, 20, 16, 14, 23, 13, 19, 25, 1, 5, 20, 14, 4, 14, 8, 16, 5, 4, 14, 7, 1, 11, 11, 4, 7, 7, 5, 1, 20, 1, 2, 1, 3, 6, 1, 10, 8, 4, 6, 3, 5, 21, 21, 20, 8, 19, 12, 12, 16, 10, 13, 20, 1, 10, 16, 41, 11, 15, 15, 15, 16, 1, 3, 13, 15, 7, 5, 14, 9, 14, 4, 16, 13, 5, 26, 11, 7, 13, 21, 19, 2, 7, 5, 13, 6, 14, 5, 12, 3, 5, 3, 4, 15, 17, 5, 4, 5, 7, 2, 12, 12, 2, 10, 4, 6, 15, 2, 2, 9, 18, 12, 22, 11, 6, 21, 19, 15, 9, 21, 6, 3, 6, 11, 13, 6, 6, 8, 10, 9, 19, 4, 4, 3, 5, 2, 5, 1, 8, 23, 23, 2, 4, 15, 17, 16, 12, 5, 10, 8, 6, 4, 5, 4, 13, 21, 20, 17, 19, 3, 8, 5, 19, 1, 5, 8, 15, 6, 7, 4, 4, 3, 2, 6, 17, 3, 8, 12, 15, 13, 18, 13, 3, 15, 1, 22, 11, 8, 13, 7, 1, 1, 8, 8, 2, 4, 7, 7, 18, 9, 1, 5, 11, 11, 25, 15, 4, 5, 12, 8, 9, 18, 17, 15, 17, 19, 12, 6, 6, 24, 9, 15, 8, 12, 4, 6, 11, 5, 15, 16, 15, 14, 3, 10, 9, 3, 1, 25, 4, 5, 11, 4, 8, 11, 13, 27, 10, 15, 14, 5, 7, 3, 26, 4, 6, 5, 3, 11, 19, 23, 15, 20, 21, 2, 19, 8, 21, 18, 17, 20, 18, 17, 20, 13, 3, 23, 14, 23, 23, 3, 19, 19, 11, 8, 1, 5, 5, 4, 10, 8, 19, 17, 7, 7, 4, 6, 11, 21, 26, 4, 5, 18, 14, 15, 1, 8, 11, 8, 4, 4, 11, 1, 2, 1, 10, 5, 15, 19, 12, 4, 1, 4, 6, 11, 9, 4, 4, 4, 11, 11, 2, 9, 5, 6, 8, 6, 17, 6, 5, 5, 5, 10, 2, 12, 6, 9, 4, 4, 5, 5, 6, 6, 12, 11, 18, 19, 7, 9, 12, 23, 8, 15, 12, 8, 5, 6, 9, 4, 12, 3, 6, 4, 6, 11, 21, 21, 17, 6, 11, 8, 8, 8, 6, 8, 1, 7, 5, 2, 2, 1, 2, 9, 11, 17, 1, 19, 13, 5, 9, 4, 6, 11, 1, 10, 13, 12, 15, 10, 18, 15, 20, 6, 5, 2, 24, 13, 23, 20, 2, 1, 19, 2, 11, 5, 21, 18, 11, 4, 6, 11, 8, 10, 17, 8, 6, 17, 12, 3, 10, 15, 11, 10, 13, 6, 8, 8, 8, 3, 3, 3, 9, 6, 8, 4, 4, 5, 8, 12, 7, 13, 2, 9, 10, 14, 5, 18, 2, 13, 6, 8, 3, 11, 7, 14, 2, 15, 12, 5, 15, 15, 16, 7, 5, 12, 7, 11, 14, 15, 4, 5, 8, 8, 14, 2, 8, 8, 1, 3, 17, 1, 8, 8, 7, 7, 10, 10, 9, 7, 13, 10, 2, 10, 16, 5, 4, 22, 17, 19, 7, 11, 9, 4, 19, 18, 5, 5, 21, 23, 24, 24, 10, 25, 1, 20, 8, 19, 19, 8, 8, 14, 8, 10, 31, 4, 2, 20, 9, 8, 10, 11, 8, 3, 1, 20, 9, 12, 12, 12, 14, 15, 4, 25, 5, 18, 8, 10, 8, 8, 10, 12, 7, 12, 4, 33, 2, 12, 4, 6, 9, 2, 5, 6, 6, 10, 8, 33, 13, 8, 9, 8, 6, 4, 2, 5, 9, 15, 14, 3, 21, 17, 3, 7, 7, 8, 14, 9, 16, 21, 19, 21, 18, 12, 15, 10, 15, 5, 3, 2, 8, 8, 7, 1, 20, 2, 2, 3, 1, 2, 11, 19, 17, 11, 7, 2, 5, 2, 5, 9, 8, 11, 3, 10, 1, 1, 4, 9, 2, 19, 1, 9, 19, 20, 8, 11, 15, 9, 4, 10, 8, 12, 25, 20, 5, 2, 2, 2, 8, 15, 17, 11, 8, 11, 12, 5, 13, 3, 4, 6, 5, 4, 4, 10, 2, 13, 9, 14, 18, 17, 13, 18, 23, 16, 13, 11, 19, 10, 15, 11, 2, 7, 13, 9, 1, 8, 20, 18, 19, 19, 18, 26, 6, 2, 14, 33, 23, 11, 10, 14, 1, 3, 23, 22, 2, 6, 6, 7, 9, 4, 9, 10, 11, 4, 18, 5, 15, 20, 9, 4, 8, 12, 9, 22, 3, 9, 13, 13, 7, 10, 11, 8, 14, 21, 9, 15, 17, 8, 17, 1, 9, 6, 6, 14, 19, 6, 8, 5, 6, 6, 4, 7, 2, 3, 6, 13, 9, 3, 3, 4, 11, 9, 10, 5, 8, 7, 8, 2, 7, 20, 9, 3, 4, 5, 6, 9, 2, 6, 8, 6, 12, 7, 11, 4, 7, 11, 7, 9, 9, 8, 13, 16, 14, 8, 4, 10, 4, 7, 4, 10, 16, 10, 7, 13, 16, 3, 13, 4, 3, 21, 17, 5, 17, 15, 4, 2, 4, 21, 7, 9, 4, 8, 17, 11, 4, 7, 5, 4, 5, 5, 4, 4, 4, 6, 3, 4, 4, 4, 4, 4, 4, 7, 9, 9, 1, 13, 22, 4, 25, 20, 2, 13, 5, 2, 1, 2, 4, 14, 1, 7, 15, 12, 14, 3, 7, 14, 1, 24, 12, 10, 19, 10, 15, 11, 5, 10, 2, 12, 10, 23, 24, 6, 21, 21, 21, 14, 16, 5, 4, 17, 2, 13, 11, 3, 8, 6, 2, 11, 13, 12, 7, 13, 8, 2, 3, 18, 1, 12, 5, 7, 6, 11, 19, 6, 1, 9, 10, 8, 2, 1, 10, 11, 9, 13, 14, 8, 10, 6, 7, 5, 4, 3, 7, 7, 20, 2, 12, 10, 22, 19, 2, 11, 2, 15, 8, 23, 20, 3, 16, 17, 9, 8, 9, 13, 16, 4, 6, 2, 3, 11, 9, 9, 9, 11, 21, 9, 15, 17, 9, 8, 23, 4, 4, 6, 1, 6, 1, 4, 11, 11, 9, 8, 13, 9, 19, 7, 3, 5, 10, 2, 9, 24, 3, 2, 13, 17, 6, 8, 9, 3, 26, 3, 5, 9, 16, 10, 5, 19, 11, 3, 6, 7, 18, 8, 6, 4, 7, 2, 7, 4, 17, 11, 7, 1, 2, 15, 27, 22, 21, 1, 6, 9, 14, 4, 7, 18, 9, 11, 15, 13, 3, 3, 15, 1, 2, 13, 9, 13, 10, 13, 8, 20, 3, 4, 1, 7, 2, 5, 12, 10, 7, 15, 7, 13, 8, 9, 7, 4, 4, 13, 11, 9, 16, 14, 25, 25, 3, 5, 7, 5, 4, 3, 7, 13, 1, 3, 9, 11, 4, 4, 10, 21, 18, 18, 4, 7, 9, 14, 9, 4, 9, 11, 12, 13, 3, 19, 9, 2, 4, 2, 1, 5, 11, 8, 1, 13, 15, 10, 12, 10, 11, 1, 12, 8, 9, 15, 19, 10, 8, 2, 16, 2, 2, 9, 2, 14, 7, 5, 2, 7, 8, 7, 10, 5, 2, 3, 6, 5, 6, 5, 2, 3, 6, 8, 13, 7, 15, 13, 15, 3, 3, 7, 8, 3, 22, 12, 6, 10, 10, 4, 2, 3, 5, 4, 6, 8, 16, 12, 19, 11, 21, 7, 8, 3, 2, 2, 5, 12, 7, 2, 5, 4, 3, 7, 4, 5, 5, 4, 7, 10, 11, 7, 9, 9, 10, 9, 12, 9, 4, 5, 7, 5, 13, 12, 7, 2, 4, 3, 1, 2, 3, 4, 9, 8, 6, 6, 8, 9, 8, 14, 9, 10, 13, 13, 10, 9, 5, 14, 10, 13, 7, 7, 9, 3, 7, 4, 8, 7, 8, 5, 6, 7, 8, 6, 10, 10, 4, 6, 2, 8, 4, 9, 3, 19, 9, 9, 10, 7, 6, 8, 2, 14, 12, 1, 5, 13, 13, 11, 2, 8, 6, 9, 9, 9, 2, 13, 10, 7, 4, 7, 6, 11, 9, 7, 8, 6, 3, 4, 3, 5, 10, 6, 4, 3, 2, 5, 1, 4, 15, 13, 18, 12, 7, 6, 9, 7, 9, 9, 4, 6, 8, 7, 9, 7, 11, 11, 8, 5, 5, 5, 7, 8, 5, 8, 1, 8, 3, 3, 10, 5, 5, 5, 7, 2, 10, 6, 7, 13, 7, 7, 5, 4, 8, 11, 10, 8, 5, 6, 7, 6, 6, 7, 3, 11, 9, 10, 4, 3, 10, 1, 6, 11, 13, 12, 5, 2, 10, 2, 3, 1, 8, 6, 3, 8, 2, 5, 8, 5, 8, 2, 6, 4, 13, 7, 11, 3, 6, 10, 5, 1, 10, 9, 8, 7, 10, 7, 6, 7, 9, 2, 6, 9, 15, 2, 11, 2, 5, 3, 6, 4, 3, 2, 6, 3, 4, 2, 6, 9, 10, 6, 6, 6, 3, 2, 7, 5, 3, 2, 11, 2, 2, 7, 7, 3, 9, 1, 3, 3, 3, 8, 9, 5, 3, 5, 9, 3, 6, 9, 3, 10, 4, 9, 3, 1, 3, 5, 5, 6, 1, 9, 5, 6, 5, 21, 8, 6, 5, 2, 1, 6, 4, 7, 5, 4, 6, 9, 7, 5, 6, 5, 6, 10, 13, 9, 6, 3, 3, 5, 4, 9, 5, 1, 5, 6, 5, 6, 3, 4, 8, 6, 5, 7, 5, 5, 6, 5, 6, 4, 4, 6, 4, 8, 5, 6, 10, 4, 6, 5, 3, 8, 6, 2, 5, 4, 10, 6, 2, 1, 3, 4, 3, 3, 1, 6, 2, 2, 6, 4, 4, 6, 1, 1, 2, 3, 5, 5, 5, 6, 4, 6, 5, 4, 4, 5, 5, 6, 1, 2, 1, 1, 2, 4, 4, 4, 5, 1, 5, 9, 8, 3, 2, 4, 2, 2, 2, 2, 3, 7, 5, 2, 5, 7, 1, 5, 2, 1, 4, 4, 6, 6, 5, 2, 4, 3, 3, 5, 5, 5, 5, 5, 4, 2, 4, 5, 4, 2, 6, 5, 2, 2, 2, 2, 3, 4, 2, 3, 7, 4, 3, 3, 4, 3, 3, 2, 2, 6, 6, 3, 3, 2, 3, 6, 1, 2, 1, 2, 2, 4, 7, 1, 3, 9, 2, 4, 4, 1, 2, 11, 1, 8, 2, 2, 2, 6, 2, 5, 4, 4, 1, 2, 4, 3, 3, 4, 2, 1, 3, 4, 4, 4, 4, 3, 3, 2, 1, 4, 4, 4, 4, 2, 4, 1, 4, 4, 4, 2, 1, 1, 5, 1, 2, 2, 1, 1, 2, 2, 2, 2, 6, 2, 2, 1, 1, 1, 2, 1, 2, 1, 2, 2, 1, 2, 4, 4, 1, 1, 2, 3, 1, 6, 4, 1, 5, 4, 1, 1, 1, 4, 2, 1, 3, 2, 4, 1, 4, 1, 4, 3, 6, 1, 3, 2, 2, 1, 1, 6, 2, 1, 1, 1, 1, 2, 1, 7, 4, 1, 5, 4, 2, 2, 1, 5, 1, 4, 5, 1, 1, 3, 3, 2, 3, 1, 1, 4, 1, 3, 1, 2, 6, 3, 1, 2, 1, 2, 2, 2, 1, 4, 4, 2, 2, 1, 3, 5, 1, 1, 2, 7, 6, 2, 1, 6, 1, 2, 2, 1, 2, 3, 2, 2, 6, 1, 1, 2, 1, 1, 2, 1, 1, 1, 1, 1, 1, 1, 1, 2, 2, 1, 1, 1, 1, 1, 1, 1, 1, 1, 1, 1, 1, 1, 1, 16, 1, 2, 2, 6, 1, 1, 1, 1, 1, 5, 1, 1, 1, 2, 4, 1, 1, 1, 2, 1, 1, 7, 1, 1, 2, 1, 1, 2, 1, 1, 4, 3, 3, 1, 1, 1, 1, 1, 2, 1, 2, 1, 2, 1, 1, 1, 1, 2, 2, 1, 1, 1, 1, 1, 1, 3, 3, 2, 5, 2, 2, 1, 1, 6, 2, 1, 2, 5, 1, 1, 1, 2, 1, 1, 1, 7, 2, 1, 3, 3, 4, 4, 3, 1, 2, 2, 3, 1, 2, 1, 4, 1, 1, 2, 2, 6, 1, 1, 3, 2, 5, 6, 1, 1, 1, 1, 1, 1, 1, 1, 4, 6, 1, 1, 1, 1, 1, 2, 1, 1, 2, 1, 2, 2, 4, 1, 1, 2, 3, 1, 5, 1, 5, 1, 1, 1, 1, 1, 4, 2, 1, 1, 1, 1, 1, 1, 1, 1, 1, 1, 1, 6, 1, 1, 7, 3, 1, 7, 2, 7, 4, 3, 2, 2, 3, 4, 1, 2, 1, 1, 1, 1, 1, 3, 7, 1, 2, 3, 5, 8, 2, 1, 4, 1, 1, 1, 1, 1, 1, 2, 2, 1, 1, 5, 1, 1, 1, 4, 2, 1, 1, 1, 1, 1, 1, 1, 1, 3, 1, 3, 2, 2, 2, 2, 4, 5, 3, 1, 2, 3, 2, 1, 1, 1, 1, 2, 3, 1, 2, 2, 1, 1, 1, 1, 3, 1, 1, 1, 2, 1, 1, 2, 1, 1, 1, 1, 1, 2, 1, 2, 1, 1, 1, 1, 2, 2, 1, 1, 1, 2, 1, 1, 1, 1, 1, 1, 1, 1, 1, 1, 1, 1, 1])"
      ]
     },
     "execution_count": 30,
     "metadata": {},
     "output_type": "execute_result"
    }
   ],
   "source": [
    "from collections import Counter\n",
    "Counter(list(train[\"home_team_name\"])+list(train[\"away_team_name\"])).values()"
   ]
  },
  {
   "cell_type": "code",
   "execution_count": null,
   "id": "5ead791a",
   "metadata": {
    "papermill": {
     "duration": 0.057836,
     "end_time": "2022-03-14T16:04:16.818627",
     "exception": false,
     "start_time": "2022-03-14T16:04:16.760791",
     "status": "completed"
    },
    "tags": []
   },
   "outputs": [],
   "source": []
  }
 ],
 "metadata": {
  "kernelspec": {
   "display_name": "Python 3",
   "language": "python",
   "name": "python3"
  },
  "language_info": {
   "codemirror_mode": {
    "name": "ipython",
    "version": 3
   },
   "file_extension": ".py",
   "mimetype": "text/x-python",
   "name": "python",
   "nbconvert_exporter": "python",
   "pygments_lexer": "ipython3",
   "version": "3.7.12"
  },
  "papermill": {
   "default_parameters": {},
   "duration": 145.803284,
   "end_time": "2022-03-14T16:04:17.889017",
   "environment_variables": {},
   "exception": null,
   "input_path": "__notebook__.ipynb",
   "output_path": "__notebook__.ipynb",
   "parameters": {},
   "start_time": "2022-03-14T16:01:52.085733",
   "version": "2.3.3"
  }
 },
 "nbformat": 4,
 "nbformat_minor": 5
}
