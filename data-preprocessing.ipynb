{
 "cells": [
  {
   "cell_type": "code",
   "execution_count": 1,
   "id": "4b480895",
   "metadata": {
    "_cell_guid": "b1076dfc-b9ad-4769-8c92-a6c4dae69d19",
    "_uuid": "8f2839f25d086af736a60e9eeb907d3b93b6e0e5",
    "execution": {
     "iopub.execute_input": "2022-03-11T12:15:18.522451Z",
     "iopub.status.busy": "2022-03-11T12:15:18.521269Z",
     "iopub.status.idle": "2022-03-11T12:15:18.532963Z",
     "shell.execute_reply": "2022-03-11T12:15:18.533442Z",
     "shell.execute_reply.started": "2022-03-11T11:10:50.222437Z"
    },
    "papermill": {
     "duration": 0.025606,
     "end_time": "2022-03-11T12:15:18.533704",
     "exception": false,
     "start_time": "2022-03-11T12:15:18.508098",
     "status": "completed"
    },
    "tags": []
   },
   "outputs": [
    {
     "name": "stdout",
     "output_type": "stream",
     "text": [
      "/kaggle/input/football-match-probability-prediction/sample_submission.csv\n",
      "/kaggle/input/football-match-probability-prediction/train.csv\n",
      "/kaggle/input/football-match-probability-prediction/test.csv\n"
     ]
    }
   ],
   "source": [
    "# This Python 3 environment comes with many helpful analytics libraries installed\n",
    "# It is defined by the kaggle/python Docker image: https://github.com/kaggle/docker-python\n",
    "# For example, here's several helpful packages to load\n",
    "\n",
    "import numpy as np # linear algebra\n",
    "import pandas as pd # data processing, CSV file I/O (e.g. pd.read_csv)\n",
    "\n",
    "# Input data files are available in the read-only \"../input/\" directory\n",
    "# For example, running this (by clicking run or pressing Shift+Enter) will list all files under the input directory\n",
    "\n",
    "import os\n",
    "for dirname, _, filenames in os.walk('/kaggle/input'):\n",
    "    for filename in filenames:\n",
    "        print(os.path.join(dirname, filename))\n",
    "\n",
    "# You can write up to 20GB to the current directory (/kaggle/working/) that gets preserved as output when you create a version using \"Save & Run All\" \n",
    "# You can also write temporary files to /kaggle/temp/, but they won't be saved outside of the current session"
   ]
  },
  {
   "cell_type": "code",
   "execution_count": 2,
   "id": "4ffc271e",
   "metadata": {
    "execution": {
     "iopub.execute_input": "2022-03-11T12:15:18.554346Z",
     "iopub.status.busy": "2022-03-11T12:15:18.553792Z",
     "iopub.status.idle": "2022-03-11T12:15:26.933927Z",
     "shell.execute_reply": "2022-03-11T12:15:26.933308Z",
     "shell.execute_reply.started": "2022-03-11T11:21:43.936929Z"
    },
    "papermill": {
     "duration": 8.391119,
     "end_time": "2022-03-11T12:15:26.934079",
     "exception": false,
     "start_time": "2022-03-11T12:15:18.542960",
     "status": "completed"
    },
    "tags": []
   },
   "outputs": [],
   "source": [
    "train = pd.read_csv(\"../input/football-match-probability-prediction/train.csv\", dtype=object)\n",
    "#../input/football-match-probability-prediction/train.csv"
   ]
  },
  {
   "cell_type": "markdown",
   "id": "2c9e18d6",
   "metadata": {
    "papermill": {
     "duration": 0.008257,
     "end_time": "2022-03-11T12:15:26.951142",
     "exception": false,
     "start_time": "2022-03-11T12:15:26.942885",
     "status": "completed"
    },
    "tags": []
   },
   "source": [
    "### Start by looking at what sort of features we do have in the provided training dataset:"
   ]
  },
  {
   "cell_type": "code",
   "execution_count": 3,
   "id": "4e8aaf6c",
   "metadata": {
    "execution": {
     "iopub.execute_input": "2022-03-11T12:15:26.973972Z",
     "iopub.status.busy": "2022-03-11T12:15:26.973311Z",
     "iopub.status.idle": "2022-03-11T12:15:26.975974Z",
     "shell.execute_reply": "2022-03-11T12:15:26.976464Z",
     "shell.execute_reply.started": "2022-03-11T11:25:30.965920Z"
    },
    "papermill": {
     "duration": 0.016977,
     "end_time": "2022-03-11T12:15:26.976615",
     "exception": false,
     "start_time": "2022-03-11T12:15:26.959638",
     "status": "completed"
    },
    "tags": []
   },
   "outputs": [
    {
     "name": "stdout",
     "output_type": "stream",
     "text": [
      "190 ['id', 'target', 'home_team_name', 'away_team_name', 'match_date', 'league_name', 'league_id', 'is_cup', 'home_team_coach_id', 'away_team_coach_id', 'home_team_history_match_date_1', 'home_team_history_match_date_2', 'home_team_history_match_date_3', 'home_team_history_match_date_4', 'home_team_history_match_date_5', 'home_team_history_match_date_6', 'home_team_history_match_date_7', 'home_team_history_match_date_8', 'home_team_history_match_date_9', 'home_team_history_match_date_10', 'home_team_history_is_play_home_1', 'home_team_history_is_play_home_2', 'home_team_history_is_play_home_3', 'home_team_history_is_play_home_4', 'home_team_history_is_play_home_5', 'home_team_history_is_play_home_6', 'home_team_history_is_play_home_7', 'home_team_history_is_play_home_8', 'home_team_history_is_play_home_9', 'home_team_history_is_play_home_10', 'home_team_history_is_cup_1', 'home_team_history_is_cup_2', 'home_team_history_is_cup_3', 'home_team_history_is_cup_4', 'home_team_history_is_cup_5', 'home_team_history_is_cup_6', 'home_team_history_is_cup_7', 'home_team_history_is_cup_8', 'home_team_history_is_cup_9', 'home_team_history_is_cup_10', 'home_team_history_goal_1', 'home_team_history_goal_2', 'home_team_history_goal_3', 'home_team_history_goal_4', 'home_team_history_goal_5', 'home_team_history_goal_6', 'home_team_history_goal_7', 'home_team_history_goal_8', 'home_team_history_goal_9', 'home_team_history_goal_10', 'home_team_history_opponent_goal_1', 'home_team_history_opponent_goal_2', 'home_team_history_opponent_goal_3', 'home_team_history_opponent_goal_4', 'home_team_history_opponent_goal_5', 'home_team_history_opponent_goal_6', 'home_team_history_opponent_goal_7', 'home_team_history_opponent_goal_8', 'home_team_history_opponent_goal_9', 'home_team_history_opponent_goal_10', 'home_team_history_rating_1', 'home_team_history_rating_2', 'home_team_history_rating_3', 'home_team_history_rating_4', 'home_team_history_rating_5', 'home_team_history_rating_6', 'home_team_history_rating_7', 'home_team_history_rating_8', 'home_team_history_rating_9', 'home_team_history_rating_10', 'home_team_history_opponent_rating_1', 'home_team_history_opponent_rating_2', 'home_team_history_opponent_rating_3', 'home_team_history_opponent_rating_4', 'home_team_history_opponent_rating_5', 'home_team_history_opponent_rating_6', 'home_team_history_opponent_rating_7', 'home_team_history_opponent_rating_8', 'home_team_history_opponent_rating_9', 'home_team_history_opponent_rating_10', 'home_team_history_coach_1', 'home_team_history_coach_2', 'home_team_history_coach_3', 'home_team_history_coach_4', 'home_team_history_coach_5', 'home_team_history_coach_6', 'home_team_history_coach_7', 'home_team_history_coach_8', 'home_team_history_coach_9', 'home_team_history_coach_10', 'home_team_history_league_id_1', 'home_team_history_league_id_2', 'home_team_history_league_id_3', 'home_team_history_league_id_4', 'home_team_history_league_id_5', 'home_team_history_league_id_6', 'home_team_history_league_id_7', 'home_team_history_league_id_8', 'home_team_history_league_id_9', 'home_team_history_league_id_10', 'away_team_history_match_date_1', 'away_team_history_match_date_2', 'away_team_history_match_date_3', 'away_team_history_match_date_4', 'away_team_history_match_date_5', 'away_team_history_match_date_6', 'away_team_history_match_date_7', 'away_team_history_match_date_8', 'away_team_history_match_date_9', 'away_team_history_match_date_10', 'away_team_history_is_play_home_1', 'away_team_history_is_play_home_2', 'away_team_history_is_play_home_3', 'away_team_history_is_play_home_4', 'away_team_history_is_play_home_5', 'away_team_history_is_play_home_6', 'away_team_history_is_play_home_7', 'away_team_history_is_play_home_8', 'away_team_history_is_play_home_9', 'away_team_history_is_play_home_10', 'away_team_history_is_cup_1', 'away_team_history_is_cup_2', 'away_team_history_is_cup_3', 'away_team_history_is_cup_4', 'away_team_history_is_cup_5', 'away_team_history_is_cup_6', 'away_team_history_is_cup_7', 'away_team_history_is_cup_8', 'away_team_history_is_cup_9', 'away_team_history_is_cup_10', 'away_team_history_goal_1', 'away_team_history_goal_2', 'away_team_history_goal_3', 'away_team_history_goal_4', 'away_team_history_goal_5', 'away_team_history_goal_6', 'away_team_history_goal_7', 'away_team_history_goal_8', 'away_team_history_goal_9', 'away_team_history_goal_10', 'away_team_history_opponent_goal_1', 'away_team_history_opponent_goal_2', 'away_team_history_opponent_goal_3', 'away_team_history_opponent_goal_4', 'away_team_history_opponent_goal_5', 'away_team_history_opponent_goal_6', 'away_team_history_opponent_goal_7', 'away_team_history_opponent_goal_8', 'away_team_history_opponent_goal_9', 'away_team_history_opponent_goal_10', 'away_team_history_rating_1', 'away_team_history_rating_2', 'away_team_history_rating_3', 'away_team_history_rating_4', 'away_team_history_rating_5', 'away_team_history_rating_6', 'away_team_history_rating_7', 'away_team_history_rating_8', 'away_team_history_rating_9', 'away_team_history_rating_10', 'away_team_history_opponent_rating_1', 'away_team_history_opponent_rating_2', 'away_team_history_opponent_rating_3', 'away_team_history_opponent_rating_4', 'away_team_history_opponent_rating_5', 'away_team_history_opponent_rating_6', 'away_team_history_opponent_rating_7', 'away_team_history_opponent_rating_8', 'away_team_history_opponent_rating_9', 'away_team_history_opponent_rating_10', 'away_team_history_coach_1', 'away_team_history_coach_2', 'away_team_history_coach_3', 'away_team_history_coach_4', 'away_team_history_coach_5', 'away_team_history_coach_6', 'away_team_history_coach_7', 'away_team_history_coach_8', 'away_team_history_coach_9', 'away_team_history_coach_10', 'away_team_history_league_id_1', 'away_team_history_league_id_2', 'away_team_history_league_id_3', 'away_team_history_league_id_4', 'away_team_history_league_id_5', 'away_team_history_league_id_6', 'away_team_history_league_id_7', 'away_team_history_league_id_8', 'away_team_history_league_id_9', 'away_team_history_league_id_10']\n"
     ]
    }
   ],
   "source": [
    "print(len(list(train.columns)),list(train.columns))"
   ]
  },
  {
   "cell_type": "markdown",
   "id": "8bf2a4bb",
   "metadata": {
    "papermill": {
     "duration": 0.008746,
     "end_time": "2022-03-11T12:15:26.994279",
     "exception": false,
     "start_time": "2022-03-11T12:15:26.985533",
     "status": "completed"
    },
    "tags": []
   },
   "source": [
    "### One by one, we'll look at features and try to understand what potential they have:\n",
    "\n",
    "**Match Dates**"
   ]
  },
  {
   "cell_type": "code",
   "execution_count": 4,
   "id": "4da8980b",
   "metadata": {
    "execution": {
     "iopub.execute_input": "2022-03-11T12:15:27.014811Z",
     "iopub.status.busy": "2022-03-11T12:15:27.014214Z",
     "iopub.status.idle": "2022-03-11T12:15:27.072607Z",
     "shell.execute_reply": "2022-03-11T12:15:27.073058Z",
     "shell.execute_reply.started": "2022-03-11T11:46:43.696567Z"
    },
    "papermill": {
     "duration": 0.069994,
     "end_time": "2022-03-11T12:15:27.073218",
     "exception": false,
     "start_time": "2022-03-11T12:15:27.003224",
     "status": "completed"
    },
    "tags": []
   },
   "outputs": [
    {
     "data": {
      "text/html": [
       "<div>\n",
       "<style scoped>\n",
       "    .dataframe tbody tr th:only-of-type {\n",
       "        vertical-align: middle;\n",
       "    }\n",
       "\n",
       "    .dataframe tbody tr th {\n",
       "        vertical-align: top;\n",
       "    }\n",
       "\n",
       "    .dataframe thead th {\n",
       "        text-align: right;\n",
       "    }\n",
       "</style>\n",
       "<table border=\"1\" class=\"dataframe\">\n",
       "  <thead>\n",
       "    <tr style=\"text-align: right;\">\n",
       "      <th></th>\n",
       "      <th>match_date</th>\n",
       "      <th>home_team_history_match_date_1</th>\n",
       "      <th>home_team_history_match_date_2</th>\n",
       "      <th>home_team_history_match_date_3</th>\n",
       "      <th>home_team_history_match_date_4</th>\n",
       "      <th>home_team_history_match_date_5</th>\n",
       "      <th>home_team_history_match_date_6</th>\n",
       "      <th>home_team_history_match_date_7</th>\n",
       "      <th>home_team_history_match_date_8</th>\n",
       "      <th>home_team_history_match_date_9</th>\n",
       "      <th>home_team_history_match_date_10</th>\n",
       "    </tr>\n",
       "  </thead>\n",
       "  <tbody>\n",
       "    <tr>\n",
       "      <th>1182</th>\n",
       "      <td>2019-12-05 20:15:00</td>\n",
       "      <td>2019-12-01 14:00:00</td>\n",
       "      <td>2019-11-28 20:00:00</td>\n",
       "      <td>2019-11-23 15:00:00</td>\n",
       "      <td>2019-11-09 17:30:00</td>\n",
       "      <td>2019-11-06 15:50:00</td>\n",
       "      <td>2019-11-02 15:00:00</td>\n",
       "      <td>2019-10-30 19:30:00</td>\n",
       "      <td>2019-10-27 16:30:00</td>\n",
       "      <td>2019-10-24 19:00:00</td>\n",
       "      <td>2019-10-21 19:00:00</td>\n",
       "    </tr>\n",
       "  </tbody>\n",
       "</table>\n",
       "</div>"
      ],
      "text/plain": [
       "               match_date home_team_history_match_date_1  \\\n",
       "1182  2019-12-05 20:15:00            2019-12-01 14:00:00   \n",
       "\n",
       "     home_team_history_match_date_2 home_team_history_match_date_3  \\\n",
       "1182            2019-11-28 20:00:00            2019-11-23 15:00:00   \n",
       "\n",
       "     home_team_history_match_date_4 home_team_history_match_date_5  \\\n",
       "1182            2019-11-09 17:30:00            2019-11-06 15:50:00   \n",
       "\n",
       "     home_team_history_match_date_6 home_team_history_match_date_7  \\\n",
       "1182            2019-11-02 15:00:00            2019-10-30 19:30:00   \n",
       "\n",
       "     home_team_history_match_date_8 home_team_history_match_date_9  \\\n",
       "1182            2019-10-27 16:30:00            2019-10-24 19:00:00   \n",
       "\n",
       "     home_team_history_match_date_10  \n",
       "1182             2019-10-21 19:00:00  "
      ]
     },
     "execution_count": 4,
     "metadata": {},
     "output_type": "execute_result"
    }
   ],
   "source": [
    "column_name_list = [\"home_team_history_match_date_\" + str(i) for i in np.arange(1,11,1)]\n",
    "column_name_list.insert(0, \"match_date\")\n",
    "train[column_name_list][train.home_team_name ==\"Arsenal\"].head(1)"
   ]
  },
  {
   "cell_type": "markdown",
   "id": "d960a6d1",
   "metadata": {
    "papermill": {
     "duration": 0.00925,
     "end_time": "2022-03-11T12:15:27.092180",
     "exception": false,
     "start_time": "2022-03-11T12:15:27.082930",
     "status": "completed"
    },
    "tags": []
   },
   "source": [
    "It seems like we can decide:\n",
    "- whether it is a night fixture or day fixture,\n",
    "- a winter or summer game,\n",
    "- fatigue, congestion and inherent injury information by looking at the tightness of the last 10 fixtures\n",
    "-----"
   ]
  },
  {
   "cell_type": "markdown",
   "id": "3b8f9c45",
   "metadata": {
    "papermill": {
     "duration": 0.009357,
     "end_time": "2022-03-11T12:15:27.111085",
     "exception": false,
     "start_time": "2022-03-11T12:15:27.101728",
     "status": "completed"
    },
    "tags": []
   },
   "source": [
    "****"
   ]
  },
  {
   "cell_type": "code",
   "execution_count": null,
   "id": "68a52fff",
   "metadata": {
    "papermill": {
     "duration": 0.009356,
     "end_time": "2022-03-11T12:15:27.130099",
     "exception": false,
     "start_time": "2022-03-11T12:15:27.120743",
     "status": "completed"
    },
    "tags": []
   },
   "outputs": [],
   "source": []
  }
 ],
 "metadata": {
  "kernelspec": {
   "display_name": "Python 3",
   "language": "python",
   "name": "python3"
  },
  "language_info": {
   "codemirror_mode": {
    "name": "ipython",
    "version": 3
   },
   "file_extension": ".py",
   "mimetype": "text/x-python",
   "name": "python",
   "nbconvert_exporter": "python",
   "pygments_lexer": "ipython3",
   "version": "3.7.12"
  },
  "papermill": {
   "default_parameters": {},
   "duration": 18.628999,
   "end_time": "2022-03-11T12:15:27.950014",
   "environment_variables": {},
   "exception": null,
   "input_path": "__notebook__.ipynb",
   "output_path": "__notebook__.ipynb",
   "parameters": {},
   "start_time": "2022-03-11T12:15:09.321015",
   "version": "2.3.3"
  }
 },
 "nbformat": 4,
 "nbformat_minor": 5
}
